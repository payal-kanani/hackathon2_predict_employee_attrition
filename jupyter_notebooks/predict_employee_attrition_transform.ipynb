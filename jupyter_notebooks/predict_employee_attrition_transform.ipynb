{
 "cells": [
  {
   "cell_type": "markdown",
   "metadata": {
    "id": "0aStgWSO0E0E"
   },
   "source": [
    "# **Predict Employee Attrition: Transform**"
   ]
  },
  {
   "cell_type": "markdown",
   "metadata": {
    "id": "1eLEkw5O0ECa"
   },
   "source": [
    "## Objectives\n",
    "\n",
    "* At the end of this phase, we will:\n",
    "    - Transform the dataset to analyze it in more detail\n",
    "    - Conduct statistical tests to determine and establish relationships between features\n",
    "    - Create a dashaboard that enables better exploration\n",
    "\n",
    "## Inputs\n",
    "\n",
    "* [Task outline](https://docs.google.com/document/d/e/2PACX-1vThNllbMORJoc348kFavz4mZWT1-33xyazdD2L-3AlTfORlRhuDyT0xmCBQMD2C-K2djQQipt6te6lo/pub)\n",
    "* Extract phase\n",
    "\n",
    "## Outputs\n",
    "\n",
    "* Transform the dataset\n",
    "* Statitical tests and visualizations\n",
    "* PowerBI Dashboard"
   ]
  },
  {
   "cell_type": "markdown",
   "metadata": {
    "id": "9uWZXH9LwoQg"
   },
   "source": [
    "---"
   ]
  },
  {
   "cell_type": "markdown",
   "metadata": {},
   "source": [
    "# Import packages"
   ]
  },
  {
   "cell_type": "code",
   "execution_count": null,
   "metadata": {},
   "outputs": [],
   "source": [
    "import numpy as np\n",
    "import pandas as pd\n",
    "import matplotlib.pyplot as plt\n",
    "import seaborn as sns\n",
    "import plotly.express as px\n",
    "import pingouin as pg"
   ]
  },
  {
   "cell_type": "markdown",
   "metadata": {},
   "source": [
    "---"
   ]
  },
  {
   "cell_type": "markdown",
   "metadata": {
    "id": "uFQo3ycuO-v6"
   },
   "source": [
    "# Data reupload"
   ]
  },
  {
   "cell_type": "code",
   "execution_count": 41,
   "metadata": {},
   "outputs": [
    {
     "name": "stdout",
     "output_type": "stream",
     "text": [
      "(1470, 32)\n"
     ]
    },
    {
     "data": {
      "text/html": [
       "<div>\n",
       "<style scoped>\n",
       "    .dataframe tbody tr th:only-of-type {\n",
       "        vertical-align: middle;\n",
       "    }\n",
       "\n",
       "    .dataframe tbody tr th {\n",
       "        vertical-align: top;\n",
       "    }\n",
       "\n",
       "    .dataframe thead th {\n",
       "        text-align: right;\n",
       "    }\n",
       "</style>\n",
       "<table border=\"1\" class=\"dataframe\">\n",
       "  <thead>\n",
       "    <tr style=\"text-align: right;\">\n",
       "      <th></th>\n",
       "      <th>Age</th>\n",
       "      <th>Attrition</th>\n",
       "      <th>BusinessTravel</th>\n",
       "      <th>DailyRate</th>\n",
       "      <th>Department</th>\n",
       "      <th>DistanceFromHome</th>\n",
       "      <th>Education</th>\n",
       "      <th>EducationField</th>\n",
       "      <th>EmployeeNumber</th>\n",
       "      <th>EnvironmentSatisfaction</th>\n",
       "      <th>...</th>\n",
       "      <th>PerformanceRating</th>\n",
       "      <th>RelationshipSatisfaction</th>\n",
       "      <th>StockOptionLevel</th>\n",
       "      <th>TotalWorkingYears</th>\n",
       "      <th>TrainingTimesLastYear</th>\n",
       "      <th>WorkLifeBalance</th>\n",
       "      <th>YearsAtCompany</th>\n",
       "      <th>YearsInCurrentRole</th>\n",
       "      <th>YearsSinceLastPromotion</th>\n",
       "      <th>YearsWithCurrManager</th>\n",
       "    </tr>\n",
       "  </thead>\n",
       "  <tbody>\n",
       "    <tr>\n",
       "      <th>0</th>\n",
       "      <td>41</td>\n",
       "      <td>Yes</td>\n",
       "      <td>Travel_Rarely</td>\n",
       "      <td>1102</td>\n",
       "      <td>Sales</td>\n",
       "      <td>1</td>\n",
       "      <td>2</td>\n",
       "      <td>Life Sciences</td>\n",
       "      <td>1</td>\n",
       "      <td>2</td>\n",
       "      <td>...</td>\n",
       "      <td>3</td>\n",
       "      <td>1</td>\n",
       "      <td>0</td>\n",
       "      <td>8</td>\n",
       "      <td>0</td>\n",
       "      <td>1</td>\n",
       "      <td>6</td>\n",
       "      <td>4</td>\n",
       "      <td>0</td>\n",
       "      <td>5</td>\n",
       "    </tr>\n",
       "    <tr>\n",
       "      <th>1</th>\n",
       "      <td>49</td>\n",
       "      <td>No</td>\n",
       "      <td>Travel_Frequently</td>\n",
       "      <td>279</td>\n",
       "      <td>Research &amp; Development</td>\n",
       "      <td>8</td>\n",
       "      <td>1</td>\n",
       "      <td>Life Sciences</td>\n",
       "      <td>2</td>\n",
       "      <td>3</td>\n",
       "      <td>...</td>\n",
       "      <td>4</td>\n",
       "      <td>4</td>\n",
       "      <td>1</td>\n",
       "      <td>10</td>\n",
       "      <td>3</td>\n",
       "      <td>3</td>\n",
       "      <td>10</td>\n",
       "      <td>7</td>\n",
       "      <td>1</td>\n",
       "      <td>7</td>\n",
       "    </tr>\n",
       "    <tr>\n",
       "      <th>2</th>\n",
       "      <td>37</td>\n",
       "      <td>Yes</td>\n",
       "      <td>Travel_Rarely</td>\n",
       "      <td>1373</td>\n",
       "      <td>Research &amp; Development</td>\n",
       "      <td>2</td>\n",
       "      <td>2</td>\n",
       "      <td>Other</td>\n",
       "      <td>4</td>\n",
       "      <td>4</td>\n",
       "      <td>...</td>\n",
       "      <td>3</td>\n",
       "      <td>2</td>\n",
       "      <td>0</td>\n",
       "      <td>7</td>\n",
       "      <td>3</td>\n",
       "      <td>3</td>\n",
       "      <td>0</td>\n",
       "      <td>0</td>\n",
       "      <td>0</td>\n",
       "      <td>0</td>\n",
       "    </tr>\n",
       "    <tr>\n",
       "      <th>3</th>\n",
       "      <td>33</td>\n",
       "      <td>No</td>\n",
       "      <td>Travel_Frequently</td>\n",
       "      <td>1392</td>\n",
       "      <td>Research &amp; Development</td>\n",
       "      <td>3</td>\n",
       "      <td>4</td>\n",
       "      <td>Life Sciences</td>\n",
       "      <td>5</td>\n",
       "      <td>4</td>\n",
       "      <td>...</td>\n",
       "      <td>3</td>\n",
       "      <td>3</td>\n",
       "      <td>0</td>\n",
       "      <td>8</td>\n",
       "      <td>3</td>\n",
       "      <td>3</td>\n",
       "      <td>8</td>\n",
       "      <td>7</td>\n",
       "      <td>3</td>\n",
       "      <td>0</td>\n",
       "    </tr>\n",
       "    <tr>\n",
       "      <th>4</th>\n",
       "      <td>27</td>\n",
       "      <td>No</td>\n",
       "      <td>Travel_Rarely</td>\n",
       "      <td>591</td>\n",
       "      <td>Research &amp; Development</td>\n",
       "      <td>2</td>\n",
       "      <td>1</td>\n",
       "      <td>Medical</td>\n",
       "      <td>7</td>\n",
       "      <td>1</td>\n",
       "      <td>...</td>\n",
       "      <td>3</td>\n",
       "      <td>4</td>\n",
       "      <td>1</td>\n",
       "      <td>6</td>\n",
       "      <td>3</td>\n",
       "      <td>3</td>\n",
       "      <td>2</td>\n",
       "      <td>2</td>\n",
       "      <td>2</td>\n",
       "      <td>2</td>\n",
       "    </tr>\n",
       "  </tbody>\n",
       "</table>\n",
       "<p>5 rows × 32 columns</p>\n",
       "</div>"
      ],
      "text/plain": [
       "   Age Attrition     BusinessTravel  DailyRate              Department  \\\n",
       "0   41       Yes      Travel_Rarely       1102                   Sales   \n",
       "1   49        No  Travel_Frequently        279  Research & Development   \n",
       "2   37       Yes      Travel_Rarely       1373  Research & Development   \n",
       "3   33        No  Travel_Frequently       1392  Research & Development   \n",
       "4   27        No      Travel_Rarely        591  Research & Development   \n",
       "\n",
       "   DistanceFromHome  Education EducationField  EmployeeNumber  \\\n",
       "0                 1          2  Life Sciences               1   \n",
       "1                 8          1  Life Sciences               2   \n",
       "2                 2          2          Other               4   \n",
       "3                 3          4  Life Sciences               5   \n",
       "4                 2          1        Medical               7   \n",
       "\n",
       "   EnvironmentSatisfaction  ... PerformanceRating  RelationshipSatisfaction  \\\n",
       "0                        2  ...                 3                         1   \n",
       "1                        3  ...                 4                         4   \n",
       "2                        4  ...                 3                         2   \n",
       "3                        4  ...                 3                         3   \n",
       "4                        1  ...                 3                         4   \n",
       "\n",
       "   StockOptionLevel  TotalWorkingYears TrainingTimesLastYear  WorkLifeBalance  \\\n",
       "0                 0                  8                     0                1   \n",
       "1                 1                 10                     3                3   \n",
       "2                 0                  7                     3                3   \n",
       "3                 0                  8                     3                3   \n",
       "4                 1                  6                     3                3   \n",
       "\n",
       "  YearsAtCompany  YearsInCurrentRole  YearsSinceLastPromotion  \\\n",
       "0              6                   4                        0   \n",
       "1             10                   7                        1   \n",
       "2              0                   0                        0   \n",
       "3              8                   7                        3   \n",
       "4              2                   2                        2   \n",
       "\n",
       "   YearsWithCurrManager  \n",
       "0                     5  \n",
       "1                     7  \n",
       "2                     0  \n",
       "3                     0  \n",
       "4                     2  \n",
       "\n",
       "[5 rows x 32 columns]"
      ]
     },
     "execution_count": 41,
     "metadata": {},
     "output_type": "execute_result"
    }
   ],
   "source": [
    "df = pd.read_csv(\"../data/cleaned_data/predict_employee_attrition_copy.csv\")\n",
    "print(df.shape)\n",
    "df.head()"
   ]
  },
  {
   "cell_type": "markdown",
   "metadata": {},
   "source": [
    "---"
   ]
  },
  {
   "cell_type": "markdown",
   "metadata": {},
   "source": [
    "# Data transformation"
   ]
  },
  {
   "cell_type": "markdown",
   "metadata": {},
   "source": [
    "Aggregating satisfaction levels"
   ]
  },
  {
   "cell_type": "code",
   "execution_count": 42,
   "metadata": {},
   "outputs": [
    {
     "name": "stdout",
     "output_type": "stream",
     "text": [
      "   TotalSatisfaction  JobSatisfaction  EnvironmentSatisfaction  \\\n",
      "0               2.00                4                        2   \n",
      "1               3.00                2                        3   \n",
      "2               3.00                3                        4   \n",
      "3               3.25                3                        4   \n",
      "4               2.50                2                        1   \n",
      "\n",
      "   RelationshipSatisfaction  WorkLifeBalance  \n",
      "0                         1                1  \n",
      "1                         4                3  \n",
      "2                         2                3  \n",
      "3                         3                3  \n",
      "4                         4                3  \n"
     ]
    }
   ],
   "source": [
    "# Create TotalSatisfaction feature by averaging satisfaction scores\n",
    "satisfaction_cols = [\"JobSatisfaction\", \"EnvironmentSatisfaction\", \"RelationshipSatisfaction\", \"WorkLifeBalance\"]\n",
    "df[\"TotalSatisfaction\"] = df[satisfaction_cols].mean(axis=1)\n",
    "print(df[[\"TotalSatisfaction\"] + satisfaction_cols].head())"
   ]
  },
  {
   "cell_type": "markdown",
   "metadata": {},
   "source": [
    "Creating age groups"
   ]
  },
  {
   "cell_type": "code",
   "execution_count": 43,
   "metadata": {},
   "outputs": [
    {
     "name": "stdout",
     "output_type": "stream",
     "text": [
      "43\n",
      "------------------------------------------------------------------------------------------------------------------------\n",
      "[41 49 37 33 27 32 59 30 38 36 35 29 31 34 28 22 53 24 21 42 44 46 39 43\n",
      " 50 26 48 55 45 56 23 51 40 54 58 20 25 19 57 52 47 18 60]\n",
      "------------------------------------------------------------------------------------------------------------------------\n",
      "Min age:  18\n",
      "------------------------------------------------------------------------------------------------------------------------\n",
      "Max age:  60\n"
     ]
    }
   ],
   "source": [
    "print(df[\"Age\"].nunique())\n",
    "print(\"---\" * 40)\n",
    "print(df[\"Age\"].unique())\n",
    "print(\"---\" * 40)\n",
    "print(f\"Min age: \", df[\"Age\"].min())\n",
    "print(\"---\" * 40)\n",
    "print(f\"Max age: \", df[\"Age\"].max())"
   ]
  },
  {
   "cell_type": "code",
   "execution_count": 44,
   "metadata": {},
   "outputs": [
    {
     "name": "stdout",
     "output_type": "stream",
     "text": [
      "AgeBracket\n",
      "26-35    606\n",
      "36-45    468\n",
      "46-55    226\n",
      "18-25    123\n",
      "56-65     47\n",
      "Name: count, dtype: int64\n",
      "   Age AgeBracket\n",
      "0   41      36-45\n",
      "1   49      46-55\n",
      "2   37      36-45\n",
      "3   33      26-35\n",
      "4   27      26-35\n"
     ]
    }
   ],
   "source": [
    "# Define age brackets\n",
    "bins = [18, 25, 35, 45, 55, 65]\n",
    "labels = ['18-25', '26-35', '36-45', '46-55', '56-65']\n",
    "\n",
    "# Create AgeBracket column\n",
    "df['AgeBracket'] = pd.cut(df['Age'], bins=bins, labels=labels, right=True, include_lowest=True)\n",
    "\n",
    "# Display the distribution of age brackets\n",
    "print(df['AgeBracket'].value_counts())\n",
    "print(df[['Age', 'AgeBracket']].head())"
   ]
  },
  {
   "cell_type": "markdown",
   "metadata": {},
   "source": [
    "encoding attrition and gender"
   ]
  },
  {
   "cell_type": "code",
   "execution_count": 45,
   "metadata": {},
   "outputs": [],
   "source": [
    "df['Attrition'] = df['Attrition'].map({'Yes': 1, 'No': 0})"
   ]
  },
  {
   "cell_type": "code",
   "execution_count": 46,
   "metadata": {},
   "outputs": [],
   "source": [
    "df[\"Gender\"] = df[\"Gender\"].map({\"Male\": 1, \"Female\": 0})"
   ]
  },
  {
   "cell_type": "markdown",
   "metadata": {},
   "source": [
    "## Sanity check: Post-transformation"
   ]
  },
  {
   "cell_type": "code",
   "execution_count": 47,
   "metadata": {},
   "outputs": [
    {
     "name": "stdout",
     "output_type": "stream",
     "text": [
      "<class 'pandas.core.frame.DataFrame'>\n",
      "RangeIndex: 1470 entries, 0 to 1469\n",
      "Data columns (total 34 columns):\n",
      " #   Column                    Non-Null Count  Dtype   \n",
      "---  ------                    --------------  -----   \n",
      " 0   Age                       1470 non-null   int64   \n",
      " 1   Attrition                 1470 non-null   int64   \n",
      " 2   BusinessTravel            1470 non-null   object  \n",
      " 3   DailyRate                 1470 non-null   int64   \n",
      " 4   Department                1470 non-null   object  \n",
      " 5   DistanceFromHome          1470 non-null   int64   \n",
      " 6   Education                 1470 non-null   int64   \n",
      " 7   EducationField            1470 non-null   object  \n",
      " 8   EmployeeNumber            1470 non-null   int64   \n",
      " 9   EnvironmentSatisfaction   1470 non-null   int64   \n",
      " 10  Gender                    1470 non-null   int64   \n",
      " 11  HourlyRate                1470 non-null   int64   \n",
      " 12  JobInvolvement            1470 non-null   int64   \n",
      " 13  JobLevel                  1470 non-null   int64   \n",
      " 14  JobRole                   1470 non-null   object  \n",
      " 15  JobSatisfaction           1470 non-null   int64   \n",
      " 16  MaritalStatus             1470 non-null   object  \n",
      " 17  MonthlyIncome             1470 non-null   int64   \n",
      " 18  MonthlyRate               1470 non-null   int64   \n",
      " 19  NumCompaniesWorked        1470 non-null   int64   \n",
      " 20  OverTime                  1470 non-null   object  \n",
      " 21  PercentSalaryHike         1470 non-null   int64   \n",
      " 22  PerformanceRating         1470 non-null   int64   \n",
      " 23  RelationshipSatisfaction  1470 non-null   int64   \n",
      " 24  StockOptionLevel          1470 non-null   int64   \n",
      " 25  TotalWorkingYears         1470 non-null   int64   \n",
      " 26  TrainingTimesLastYear     1470 non-null   int64   \n",
      " 27  WorkLifeBalance           1470 non-null   int64   \n",
      " 28  YearsAtCompany            1470 non-null   int64   \n",
      " 29  YearsInCurrentRole        1470 non-null   int64   \n",
      " 30  YearsSinceLastPromotion   1470 non-null   int64   \n",
      " 31  YearsWithCurrManager      1470 non-null   int64   \n",
      " 32  TotalSatisfaction         1470 non-null   float64 \n",
      " 33  AgeBracket                1470 non-null   category\n",
      "dtypes: category(1), float64(1), int64(26), object(6)\n",
      "memory usage: 380.8+ KB\n"
     ]
    }
   ],
   "source": [
    "df.info()"
   ]
  },
  {
   "cell_type": "code",
   "execution_count": 48,
   "metadata": {},
   "outputs": [
    {
     "data": {
      "text/plain": [
       "Age                            0\n",
       "Attrition                   1233\n",
       "BusinessTravel                 0\n",
       "DailyRate                      0\n",
       "Department                     0\n",
       "DistanceFromHome               0\n",
       "Education                      0\n",
       "EducationField                 0\n",
       "EmployeeNumber                 0\n",
       "EnvironmentSatisfaction        0\n",
       "Gender                       588\n",
       "HourlyRate                     0\n",
       "JobInvolvement                 0\n",
       "JobLevel                       0\n",
       "JobRole                        0\n",
       "JobSatisfaction                0\n",
       "MaritalStatus                  0\n",
       "MonthlyIncome                  0\n",
       "MonthlyRate                    0\n",
       "NumCompaniesWorked           197\n",
       "OverTime                       0\n",
       "PercentSalaryHike              0\n",
       "PerformanceRating              0\n",
       "RelationshipSatisfaction       0\n",
       "StockOptionLevel             631\n",
       "TotalWorkingYears             11\n",
       "TrainingTimesLastYear         54\n",
       "WorkLifeBalance                0\n",
       "YearsAtCompany                44\n",
       "YearsInCurrentRole           244\n",
       "YearsSinceLastPromotion      581\n",
       "YearsWithCurrManager         263\n",
       "TotalSatisfaction              0\n",
       "AgeBracket                     0\n",
       "dtype: int64"
      ]
     },
     "execution_count": 48,
     "metadata": {},
     "output_type": "execute_result"
    }
   ],
   "source": [
    "(df == 0).sum()"
   ]
  },
  {
   "cell_type": "code",
   "execution_count": 49,
   "metadata": {},
   "outputs": [
    {
     "data": {
      "text/plain": [
       "Age                         0\n",
       "Attrition                   0\n",
       "BusinessTravel              0\n",
       "DailyRate                   0\n",
       "Department                  0\n",
       "DistanceFromHome            0\n",
       "Education                   0\n",
       "EducationField              0\n",
       "EmployeeNumber              0\n",
       "EnvironmentSatisfaction     0\n",
       "Gender                      0\n",
       "HourlyRate                  0\n",
       "JobInvolvement              0\n",
       "JobLevel                    0\n",
       "JobRole                     0\n",
       "JobSatisfaction             0\n",
       "MaritalStatus               0\n",
       "MonthlyIncome               0\n",
       "MonthlyRate                 0\n",
       "NumCompaniesWorked          0\n",
       "OverTime                    0\n",
       "PercentSalaryHike           0\n",
       "PerformanceRating           0\n",
       "RelationshipSatisfaction    0\n",
       "StockOptionLevel            0\n",
       "TotalWorkingYears           0\n",
       "TrainingTimesLastYear       0\n",
       "WorkLifeBalance             0\n",
       "YearsAtCompany              0\n",
       "YearsInCurrentRole          0\n",
       "YearsSinceLastPromotion     0\n",
       "YearsWithCurrManager        0\n",
       "TotalSatisfaction           0\n",
       "AgeBracket                  0\n",
       "dtype: int64"
      ]
     },
     "execution_count": 49,
     "metadata": {},
     "output_type": "execute_result"
    }
   ],
   "source": [
    "df.isnull().sum()"
   ]
  },
  {
   "cell_type": "markdown",
   "metadata": {},
   "source": [
    "---"
   ]
  },
  {
   "cell_type": "markdown",
   "metadata": {},
   "source": [
    "# Correlation analysis: Post-transformation"
   ]
  },
  {
   "cell_type": "code",
   "execution_count": 50,
   "metadata": {},
   "outputs": [
    {
     "data": {
      "image/png": "[encoded data removed]",
      "text/plain": [
       "<Figure size 1500x1200 with 2 Axes>"
      ]
     },
     "metadata": {},
     "output_type": "display_data"
    }
   ],
   "source": [
    "plt.figure(figsize=(15, 12))\n",
    "mask = np.triu(np.ones_like(df.select_dtypes(include='number').corr(), dtype=bool), k=1)\n",
    "sns.heatmap(df.select_dtypes(include='number').corr(), mask=mask, annot=True, cmap='coolwarm', fmt='.2f')\n",
    "plt.title('Correlation Heatmap')\n",
    "plt.show()"
   ]
  },
  {
   "cell_type": "markdown",
   "metadata": {},
   "source": [
    "**Correlation analysis:**\n",
    "The correlation analysis following transfomration has not revealed any new linear correlations. We will now progress with hypothesis testing and check if there are any statistically significant relationships between features.\n"
   ]
  },
  {
   "cell_type": "code",
   "execution_count": 51,
   "metadata": {},
   "outputs": [
    {
     "data": {
      "text/html": [
       "<div>\n",
       "<style scoped>\n",
       "    .dataframe tbody tr th:only-of-type {\n",
       "        vertical-align: middle;\n",
       "    }\n",
       "\n",
       "    .dataframe tbody tr th {\n",
       "        vertical-align: top;\n",
       "    }\n",
       "\n",
       "    .dataframe thead th {\n",
       "        text-align: right;\n",
       "    }\n",
       "</style>\n",
       "<table border=\"1\" class=\"dataframe\">\n",
       "  <thead>\n",
       "    <tr style=\"text-align: right;\">\n",
       "      <th>Gender</th>\n",
       "      <th>0</th>\n",
       "      <th>1</th>\n",
       "    </tr>\n",
       "    <tr>\n",
       "      <th>Attrition</th>\n",
       "      <th></th>\n",
       "      <th></th>\n",
       "    </tr>\n",
       "  </thead>\n",
       "  <tbody>\n",
       "    <tr>\n",
       "      <th>0</th>\n",
       "      <td>0.852041</td>\n",
       "      <td>0.829932</td>\n",
       "    </tr>\n",
       "    <tr>\n",
       "      <th>1</th>\n",
       "      <td>0.147959</td>\n",
       "      <td>0.170068</td>\n",
       "    </tr>\n",
       "  </tbody>\n",
       "</table>\n",
       "</div>"
      ],
      "text/plain": [
       "Gender            0         1\n",
       "Attrition                    \n",
       "0          0.852041  0.829932\n",
       "1          0.147959  0.170068"
      ]
     },
     "execution_count": 51,
     "metadata": {},
     "output_type": "execute_result"
    }
   ],
   "source": [
    "pd.crosstab(df['Attrition'], df['Gender'], normalize='columns')"
   ]
  },
  {
   "cell_type": "code",
   "execution_count": 52,
   "metadata": {},
   "outputs": [
    {
     "name": "stdout",
     "output_type": "stream",
     "text": [
      "(1470, 34)\n"
     ]
    },
    {
     "data": {
      "text/html": [
       "<div>\n",
       "<style scoped>\n",
       "    .dataframe tbody tr th:only-of-type {\n",
       "        vertical-align: middle;\n",
       "    }\n",
       "\n",
       "    .dataframe tbody tr th {\n",
       "        vertical-align: top;\n",
       "    }\n",
       "\n",
       "    .dataframe thead th {\n",
       "        text-align: right;\n",
       "    }\n",
       "</style>\n",
       "<table border=\"1\" class=\"dataframe\">\n",
       "  <thead>\n",
       "    <tr style=\"text-align: right;\">\n",
       "      <th></th>\n",
       "      <th>Age</th>\n",
       "      <th>Attrition</th>\n",
       "      <th>BusinessTravel</th>\n",
       "      <th>DailyRate</th>\n",
       "      <th>Department</th>\n",
       "      <th>DistanceFromHome</th>\n",
       "      <th>Education</th>\n",
       "      <th>EducationField</th>\n",
       "      <th>EmployeeNumber</th>\n",
       "      <th>EnvironmentSatisfaction</th>\n",
       "      <th>...</th>\n",
       "      <th>StockOptionLevel</th>\n",
       "      <th>TotalWorkingYears</th>\n",
       "      <th>TrainingTimesLastYear</th>\n",
       "      <th>WorkLifeBalance</th>\n",
       "      <th>YearsAtCompany</th>\n",
       "      <th>YearsInCurrentRole</th>\n",
       "      <th>YearsSinceLastPromotion</th>\n",
       "      <th>YearsWithCurrManager</th>\n",
       "      <th>TotalSatisfaction</th>\n",
       "      <th>AgeBracket</th>\n",
       "    </tr>\n",
       "  </thead>\n",
       "  <tbody>\n",
       "    <tr>\n",
       "      <th>0</th>\n",
       "      <td>41</td>\n",
       "      <td>1</td>\n",
       "      <td>Travel_Rarely</td>\n",
       "      <td>1102</td>\n",
       "      <td>Sales</td>\n",
       "      <td>1</td>\n",
       "      <td>2</td>\n",
       "      <td>Life Sciences</td>\n",
       "      <td>1</td>\n",
       "      <td>2</td>\n",
       "      <td>...</td>\n",
       "      <td>0</td>\n",
       "      <td>8</td>\n",
       "      <td>0</td>\n",
       "      <td>1</td>\n",
       "      <td>6</td>\n",
       "      <td>4</td>\n",
       "      <td>0</td>\n",
       "      <td>5</td>\n",
       "      <td>2.00</td>\n",
       "      <td>36-45</td>\n",
       "    </tr>\n",
       "    <tr>\n",
       "      <th>1</th>\n",
       "      <td>49</td>\n",
       "      <td>0</td>\n",
       "      <td>Travel_Frequently</td>\n",
       "      <td>279</td>\n",
       "      <td>Research &amp; Development</td>\n",
       "      <td>8</td>\n",
       "      <td>1</td>\n",
       "      <td>Life Sciences</td>\n",
       "      <td>2</td>\n",
       "      <td>3</td>\n",
       "      <td>...</td>\n",
       "      <td>1</td>\n",
       "      <td>10</td>\n",
       "      <td>3</td>\n",
       "      <td>3</td>\n",
       "      <td>10</td>\n",
       "      <td>7</td>\n",
       "      <td>1</td>\n",
       "      <td>7</td>\n",
       "      <td>3.00</td>\n",
       "      <td>46-55</td>\n",
       "    </tr>\n",
       "    <tr>\n",
       "      <th>2</th>\n",
       "      <td>37</td>\n",
       "      <td>1</td>\n",
       "      <td>Travel_Rarely</td>\n",
       "      <td>1373</td>\n",
       "      <td>Research &amp; Development</td>\n",
       "      <td>2</td>\n",
       "      <td>2</td>\n",
       "      <td>Other</td>\n",
       "      <td>4</td>\n",
       "      <td>4</td>\n",
       "      <td>...</td>\n",
       "      <td>0</td>\n",
       "      <td>7</td>\n",
       "      <td>3</td>\n",
       "      <td>3</td>\n",
       "      <td>0</td>\n",
       "      <td>0</td>\n",
       "      <td>0</td>\n",
       "      <td>0</td>\n",
       "      <td>3.00</td>\n",
       "      <td>36-45</td>\n",
       "    </tr>\n",
       "    <tr>\n",
       "      <th>3</th>\n",
       "      <td>33</td>\n",
       "      <td>0</td>\n",
       "      <td>Travel_Frequently</td>\n",
       "      <td>1392</td>\n",
       "      <td>Research &amp; Development</td>\n",
       "      <td>3</td>\n",
       "      <td>4</td>\n",
       "      <td>Life Sciences</td>\n",
       "      <td>5</td>\n",
       "      <td>4</td>\n",
       "      <td>...</td>\n",
       "      <td>0</td>\n",
       "      <td>8</td>\n",
       "      <td>3</td>\n",
       "      <td>3</td>\n",
       "      <td>8</td>\n",
       "      <td>7</td>\n",
       "      <td>3</td>\n",
       "      <td>0</td>\n",
       "      <td>3.25</td>\n",
       "      <td>26-35</td>\n",
       "    </tr>\n",
       "    <tr>\n",
       "      <th>4</th>\n",
       "      <td>27</td>\n",
       "      <td>0</td>\n",
       "      <td>Travel_Rarely</td>\n",
       "      <td>591</td>\n",
       "      <td>Research &amp; Development</td>\n",
       "      <td>2</td>\n",
       "      <td>1</td>\n",
       "      <td>Medical</td>\n",
       "      <td>7</td>\n",
       "      <td>1</td>\n",
       "      <td>...</td>\n",
       "      <td>1</td>\n",
       "      <td>6</td>\n",
       "      <td>3</td>\n",
       "      <td>3</td>\n",
       "      <td>2</td>\n",
       "      <td>2</td>\n",
       "      <td>2</td>\n",
       "      <td>2</td>\n",
       "      <td>2.50</td>\n",
       "      <td>26-35</td>\n",
       "    </tr>\n",
       "    <tr>\n",
       "      <th>5</th>\n",
       "      <td>32</td>\n",
       "      <td>0</td>\n",
       "      <td>Travel_Frequently</td>\n",
       "      <td>1005</td>\n",
       "      <td>Research &amp; Development</td>\n",
       "      <td>2</td>\n",
       "      <td>2</td>\n",
       "      <td>Life Sciences</td>\n",
       "      <td>8</td>\n",
       "      <td>4</td>\n",
       "      <td>...</td>\n",
       "      <td>0</td>\n",
       "      <td>8</td>\n",
       "      <td>2</td>\n",
       "      <td>2</td>\n",
       "      <td>7</td>\n",
       "      <td>7</td>\n",
       "      <td>3</td>\n",
       "      <td>6</td>\n",
       "      <td>3.25</td>\n",
       "      <td>26-35</td>\n",
       "    </tr>\n",
       "    <tr>\n",
       "      <th>6</th>\n",
       "      <td>59</td>\n",
       "      <td>0</td>\n",
       "      <td>Travel_Rarely</td>\n",
       "      <td>1324</td>\n",
       "      <td>Research &amp; Development</td>\n",
       "      <td>3</td>\n",
       "      <td>3</td>\n",
       "      <td>Medical</td>\n",
       "      <td>10</td>\n",
       "      <td>3</td>\n",
       "      <td>...</td>\n",
       "      <td>3</td>\n",
       "      <td>12</td>\n",
       "      <td>3</td>\n",
       "      <td>2</td>\n",
       "      <td>1</td>\n",
       "      <td>0</td>\n",
       "      <td>0</td>\n",
       "      <td>0</td>\n",
       "      <td>1.75</td>\n",
       "      <td>56-65</td>\n",
       "    </tr>\n",
       "    <tr>\n",
       "      <th>7</th>\n",
       "      <td>30</td>\n",
       "      <td>0</td>\n",
       "      <td>Travel_Rarely</td>\n",
       "      <td>1358</td>\n",
       "      <td>Research &amp; Development</td>\n",
       "      <td>24</td>\n",
       "      <td>1</td>\n",
       "      <td>Life Sciences</td>\n",
       "      <td>11</td>\n",
       "      <td>4</td>\n",
       "      <td>...</td>\n",
       "      <td>1</td>\n",
       "      <td>1</td>\n",
       "      <td>2</td>\n",
       "      <td>3</td>\n",
       "      <td>1</td>\n",
       "      <td>0</td>\n",
       "      <td>0</td>\n",
       "      <td>0</td>\n",
       "      <td>3.00</td>\n",
       "      <td>26-35</td>\n",
       "    </tr>\n",
       "    <tr>\n",
       "      <th>8</th>\n",
       "      <td>38</td>\n",
       "      <td>0</td>\n",
       "      <td>Travel_Frequently</td>\n",
       "      <td>216</td>\n",
       "      <td>Research &amp; Development</td>\n",
       "      <td>23</td>\n",
       "      <td>3</td>\n",
       "      <td>Life Sciences</td>\n",
       "      <td>12</td>\n",
       "      <td>4</td>\n",
       "      <td>...</td>\n",
       "      <td>0</td>\n",
       "      <td>10</td>\n",
       "      <td>2</td>\n",
       "      <td>3</td>\n",
       "      <td>9</td>\n",
       "      <td>7</td>\n",
       "      <td>1</td>\n",
       "      <td>8</td>\n",
       "      <td>3.00</td>\n",
       "      <td>36-45</td>\n",
       "    </tr>\n",
       "    <tr>\n",
       "      <th>9</th>\n",
       "      <td>36</td>\n",
       "      <td>0</td>\n",
       "      <td>Travel_Rarely</td>\n",
       "      <td>1299</td>\n",
       "      <td>Research &amp; Development</td>\n",
       "      <td>27</td>\n",
       "      <td>3</td>\n",
       "      <td>Medical</td>\n",
       "      <td>13</td>\n",
       "      <td>3</td>\n",
       "      <td>...</td>\n",
       "      <td>2</td>\n",
       "      <td>17</td>\n",
       "      <td>3</td>\n",
       "      <td>2</td>\n",
       "      <td>7</td>\n",
       "      <td>7</td>\n",
       "      <td>7</td>\n",
       "      <td>7</td>\n",
       "      <td>2.50</td>\n",
       "      <td>36-45</td>\n",
       "    </tr>\n",
       "  </tbody>\n",
       "</table>\n",
       "<p>10 rows × 34 columns</p>\n",
       "</div>"
      ],
      "text/plain": [
       "   Age  Attrition     BusinessTravel  DailyRate              Department  \\\n",
       "0   41          1      Travel_Rarely       1102                   Sales   \n",
       "1   49          0  Travel_Frequently        279  Research & Development   \n",
       "2   37          1      Travel_Rarely       1373  Research & Development   \n",
       "3   33          0  Travel_Frequently       1392  Research & Development   \n",
       "4   27          0      Travel_Rarely        591  Research & Development   \n",
       "5   32          0  Travel_Frequently       1005  Research & Development   \n",
       "6   59          0      Travel_Rarely       1324  Research & Development   \n",
       "7   30          0      Travel_Rarely       1358  Research & Development   \n",
       "8   38          0  Travel_Frequently        216  Research & Development   \n",
       "9   36          0      Travel_Rarely       1299  Research & Development   \n",
       "\n",
       "   DistanceFromHome  Education EducationField  EmployeeNumber  \\\n",
       "0                 1          2  Life Sciences               1   \n",
       "1                 8          1  Life Sciences               2   \n",
       "2                 2          2          Other               4   \n",
       "3                 3          4  Life Sciences               5   \n",
       "4                 2          1        Medical               7   \n",
       "5                 2          2  Life Sciences               8   \n",
       "6                 3          3        Medical              10   \n",
       "7                24          1  Life Sciences              11   \n",
       "8                23          3  Life Sciences              12   \n",
       "9                27          3        Medical              13   \n",
       "\n",
       "   EnvironmentSatisfaction  ...  StockOptionLevel  TotalWorkingYears  \\\n",
       "0                        2  ...                 0                  8   \n",
       "1                        3  ...                 1                 10   \n",
       "2                        4  ...                 0                  7   \n",
       "3                        4  ...                 0                  8   \n",
       "4                        1  ...                 1                  6   \n",
       "5                        4  ...                 0                  8   \n",
       "6                        3  ...                 3                 12   \n",
       "7                        4  ...                 1                  1   \n",
       "8                        4  ...                 0                 10   \n",
       "9                        3  ...                 2                 17   \n",
       "\n",
       "   TrainingTimesLastYear  WorkLifeBalance YearsAtCompany  YearsInCurrentRole  \\\n",
       "0                      0                1              6                   4   \n",
       "1                      3                3             10                   7   \n",
       "2                      3                3              0                   0   \n",
       "3                      3                3              8                   7   \n",
       "4                      3                3              2                   2   \n",
       "5                      2                2              7                   7   \n",
       "6                      3                2              1                   0   \n",
       "7                      2                3              1                   0   \n",
       "8                      2                3              9                   7   \n",
       "9                      3                2              7                   7   \n",
       "\n",
       "  YearsSinceLastPromotion  YearsWithCurrManager  TotalSatisfaction  AgeBracket  \n",
       "0                       0                     5               2.00       36-45  \n",
       "1                       1                     7               3.00       46-55  \n",
       "2                       0                     0               3.00       36-45  \n",
       "3                       3                     0               3.25       26-35  \n",
       "4                       2                     2               2.50       26-35  \n",
       "5                       3                     6               3.25       26-35  \n",
       "6                       0                     0               1.75       56-65  \n",
       "7                       0                     0               3.00       26-35  \n",
       "8                       1                     8               3.00       36-45  \n",
       "9                       7                     7               2.50       36-45  \n",
       "\n",
       "[10 rows x 34 columns]"
      ]
     },
     "execution_count": 52,
     "metadata": {},
     "output_type": "execute_result"
    }
   ],
   "source": [
    "df = df.drop(columns=['EmployeeCount', 'Over18', 'StandardHours'], errors='ignore') #dropping columns that do not add value to the analysis\n",
    "print(df.shape)\n",
    "df.head(10)"
   ]
  },
  {
   "cell_type": "markdown",
   "metadata": {},
   "source": [
    "# Copy dataset"
   ]
  },
  {
   "cell_type": "code",
   "execution_count": 53,
   "metadata": {},
   "outputs": [],
   "source": [
    "df.to_csv(\"../data/transformed_data/predict_employee_attrition_transformed.csv\", index=False)"
   ]
  },
  {
   "cell_type": "markdown",
   "metadata": {},
   "source": [
    "---"
   ]
  },
  {
   "cell_type": "markdown",
   "metadata": {},
   "source": [
    "# Research methodology\n",
    "\n",
    "Testing hypotheses to determine the relationship between features\n",
    "\n",
    "**Hypotheses:**\n",
    "\n",
    "1. Gender impacts attrition\n",
    "\n",
    "2. Age impacts attrition\n",
    "\n",
    "3. Department of work impacts attrition\n",
    "\n",
    "4. Monthly income impacts attrition\n",
    "\n",
    "5. Total satisfaction level impacts attrition\n",
    "\n",
    "    5.1 JobSatisfaction impacts attrition"
   ]
  },
  {
   "cell_type": "markdown",
   "metadata": {},
   "source": [
    "---"
   ]
  },
  {
   "cell_type": "markdown",
   "metadata": {},
   "source": [
    "# Hypothesis 1: Gender and Attrition"
   ]
  },
  {
   "cell_type": "markdown",
   "metadata": {},
   "source": [
    "**Null hypothesis:** Gender and attrition rate are independent of each other and do not share a statistically significant relationship."
   ]
  },
  {
   "cell_type": "code",
   "execution_count": 54,
   "metadata": {},
   "outputs": [
    {
     "name": "stdout",
     "output_type": "stream",
     "text": [
      "<class 'pandas.core.series.Series'>\n",
      "RangeIndex: 1470 entries, 0 to 1469\n",
      "Series name: Gender\n",
      "Non-Null Count  Dtype\n",
      "--------------  -----\n",
      "1470 non-null   int64\n",
      "dtypes: int64(1)\n",
      "memory usage: 11.6 KB\n"
     ]
    }
   ],
   "source": [
    "df[\"Gender\"].info()"
   ]
  },
  {
   "cell_type": "code",
   "execution_count": 55,
   "metadata": {},
   "outputs": [
    {
     "data": {
      "text/html": [
       "<div>\n",
       "<style scoped>\n",
       "    .dataframe tbody tr th:only-of-type {\n",
       "        vertical-align: middle;\n",
       "    }\n",
       "\n",
       "    .dataframe tbody tr th {\n",
       "        vertical-align: top;\n",
       "    }\n",
       "\n",
       "    .dataframe thead th {\n",
       "        text-align: right;\n",
       "    }\n",
       "</style>\n",
       "<table border=\"1\" class=\"dataframe\">\n",
       "  <thead>\n",
       "    <tr style=\"text-align: right;\">\n",
       "      <th></th>\n",
       "      <th>test</th>\n",
       "      <th>lambda</th>\n",
       "      <th>chi2</th>\n",
       "      <th>dof</th>\n",
       "      <th>pval</th>\n",
       "      <th>cramer</th>\n",
       "      <th>power</th>\n",
       "    </tr>\n",
       "  </thead>\n",
       "  <tbody>\n",
       "    <tr>\n",
       "      <th>0</th>\n",
       "      <td>pearson</td>\n",
       "      <td>1.000000</td>\n",
       "      <td>1.116967</td>\n",
       "      <td>1.0</td>\n",
       "      <td>0.290572</td>\n",
       "      <td>0.027565</td>\n",
       "      <td>0.184514</td>\n",
       "    </tr>\n",
       "    <tr>\n",
       "      <th>1</th>\n",
       "      <td>cressie-read</td>\n",
       "      <td>0.666667</td>\n",
       "      <td>1.119705</td>\n",
       "      <td>1.0</td>\n",
       "      <td>0.289982</td>\n",
       "      <td>0.027599</td>\n",
       "      <td>0.184853</td>\n",
       "    </tr>\n",
       "    <tr>\n",
       "      <th>2</th>\n",
       "      <td>log-likelihood</td>\n",
       "      <td>0.000000</td>\n",
       "      <td>1.125434</td>\n",
       "      <td>1.0</td>\n",
       "      <td>0.288751</td>\n",
       "      <td>0.027670</td>\n",
       "      <td>0.185560</td>\n",
       "    </tr>\n",
       "    <tr>\n",
       "      <th>3</th>\n",
       "      <td>freeman-tukey</td>\n",
       "      <td>-0.500000</td>\n",
       "      <td>1.129956</td>\n",
       "      <td>1.0</td>\n",
       "      <td>0.287785</td>\n",
       "      <td>0.027725</td>\n",
       "      <td>0.186119</td>\n",
       "    </tr>\n",
       "    <tr>\n",
       "      <th>4</th>\n",
       "      <td>mod-log-likelihood</td>\n",
       "      <td>-1.000000</td>\n",
       "      <td>1.134673</td>\n",
       "      <td>1.0</td>\n",
       "      <td>0.286781</td>\n",
       "      <td>0.027783</td>\n",
       "      <td>0.186702</td>\n",
       "    </tr>\n",
       "    <tr>\n",
       "      <th>5</th>\n",
       "      <td>neyman</td>\n",
       "      <td>-2.000000</td>\n",
       "      <td>1.144708</td>\n",
       "      <td>1.0</td>\n",
       "      <td>0.284660</td>\n",
       "      <td>0.027905</td>\n",
       "      <td>0.187942</td>\n",
       "    </tr>\n",
       "  </tbody>\n",
       "</table>\n",
       "</div>"
      ],
      "text/plain": [
       "                 test    lambda      chi2  dof      pval    cramer     power\n",
       "0             pearson  1.000000  1.116967  1.0  0.290572  0.027565  0.184514\n",
       "1        cressie-read  0.666667  1.119705  1.0  0.289982  0.027599  0.184853\n",
       "2      log-likelihood  0.000000  1.125434  1.0  0.288751  0.027670  0.185560\n",
       "3       freeman-tukey -0.500000  1.129956  1.0  0.287785  0.027725  0.186119\n",
       "4  mod-log-likelihood -1.000000  1.134673  1.0  0.286781  0.027783  0.186702\n",
       "5              neyman -2.000000  1.144708  1.0  0.284660  0.027905  0.187942"
      ]
     },
     "execution_count": 55,
     "metadata": {},
     "output_type": "execute_result"
    }
   ],
   "source": [
    "observed, expected, stats = pg.chi2_independence(data = df, x = \"Gender\", y = \"Attrition\")\n",
    "\n",
    "stats"
   ]
  },
  {
   "cell_type": "markdown",
   "metadata": {},
   "source": [
    "**Key observations:** The p-value score is more than 0.05, which means we do not have enough evidence to reject the null hypothesis. In the synthetic dataset, Gender and Attrition do not share a statistically significant relationship."
   ]
  },
  {
   "cell_type": "code",
   "execution_count": 56,
   "metadata": {},
   "outputs": [
    {
     "data": {
      "application/vnd.plotly.v1+json": {
       "config": {
        "plotlyServerURL": "https://plot.ly"
       },
       "data": [
        {
         "alignmentgroup": "True",
         "boxpoints": "all",
         "hovertemplate": "Attrition (0=No, 1=Yes)=1<br>Gender (1=Male, 0=Female)=%{x}<extra></extra>",
         "legendgroup": "1",
         "marker": {
          "color": "orange"
         },
         "name": "1",
         "notched": false,
         "offsetgroup": "1",
         "orientation": "h",
         "showlegend": true,
         "type": "box",
         "x": {
          "bdata": "AAEBAQEAAQEBAQABAQEBAQABAQABAAEAAQAAAQABAQABAAABAQEAAQEBAQEBAQEBAQEAAQAAAQEAAQEBAQAAAAEBAQEAAQABAQEAAQEBAAEBAAEAAQEAAQEBAAABAQABAAAAAQEAAAAAAQEBAQEBAQABAAABAAAAAQAAAQEAAAEBAQEAAQEBAQEBAQABAAEAAAEBAQAAAQAAAAABAQEBAAEAAQAAAQABAAAAAQEAAAEAAQAAAQEBAQABAAABAQABAQEBAQABAQEBAQEAAAABAQEAAQEBAQAAAQEBAQABAQEBAQAAAAEBAQEBAQEB",
          "dtype": "i1"
         },
         "x0": " ",
         "xaxis": "x",
         "y0": " ",
         "yaxis": "y"
        },
        {
         "alignmentgroup": "True",
         "boxpoints": "all",
         "hovertemplate": "Attrition (0=No, 1=Yes)=0<br>Gender (1=Male, 0=Female)=%{x}<extra></extra>",
         "legendgroup": "0",
         "marker": {
          "color": "teal"
         },
         "name": "0",
         "notched": false,
         "offsetgroup": "0",
         "orientation": "h",
         "showlegend": true,
         "type": "box",
         "x": {
          "bdata": "AQABAQABAQEBAAEBAAEBAAEAAAEAAQAAAQEBAAAAAAEAAQABAQEBAAEAAAEAAQEBAAAAAAABAQEAAQEBAAABAQEBAQEBAAEBAQEBAQEAAQEAAAEBAQEAAQAAAQAAAAEAAQAAAAEBAQEAAQAAAAEAAQABAQEAAAEAAQEBAAABAQEAAQEAAQABAQEBAQABAAABAQEBAAABAAAAAAEAAAABAQABAAEBAQAAAQEBAQEBAQABAQEAAQAAAAEAAQEBAQEAAAABAQAAAQAAAQEBAQEAAQABAAEAAQAAAQEBAQEAAQEBAQEBAQEBAAAAAAEBAQEBAQABAAABAAEAAQEBAQABAQEAAQABAQEBAQABAAAAAAEBAAAAAQEBAAEAAAEBAQAAAQEAAAEBAQEAAQEAAAEAAQEAAQEAAQAAAQEBAQEBAQAAAAABAAEAAAABAQABAAABAAAAAQEAAAEBAQEAAAAAAAABAAABAQABAQAAAAEBAAEAAQEBAQEAAAEBAAABAQEBAAEBAAEAAQAAAAEBAQAAAQEBAQEBAQEBAAEAAAEAAQAAAAEBAQEAAAABAAEAAQEBAQEBAQEAAQEAAQEAAAEAAAABAQEBAQEBAQAAAQABAQEAAQABAAABAQABAQABAAEBAQEBAAAAAAEAAAAAAQAAAQEAAQEAAAEAAAEAAQAAAQEAAQEBAAEBAAEBAQABAQEAAQAAAQEBAQEBAQABAQABAQEAAQEBAAAAAAEBAAEAAQEAAQAAAAEAAQABAAABAAEAAAEBAQEAAQAAAQAAAQEBAAEBAQEBAAABAAEAAQABAQEAAAEAAAABAQEBAAAAAQEBAAEAAQAAAAAAAAEBAQAAAQEBAAEAAQAAAAEBAAEBAAABAQEAAQEBAAEAAQEAAQEAAAEBAAEAAQEBAQEBAQABAQEBAQABAAEAAQEBAQEAAQEBAAAAAQAAAQAAAAEBAQEAAQEBAAEBAQEBAQEAAAABAAEBAAABAAAAAQEAAAEBAQEBAQEAAAEBAAEBAQAAAQEAAQEBAQAAAAEAAAEAAQAAAQAAAAAAAAEAAQEAAQEBAQABAQAAAQEAAQAAAAABAQAAAQEAAQEBAAEBAQEBAAAAAQAAAAEBAQEAAAEAAAABAQEAAQEAAAABAAEBAQEAAQEBAQEBAQEBAQEBAAABAQEBAQABAQEBAAABAQAAAQEBAAEAAAABAQEBAQEAAQEBAQEBAQEBAAABAAEBAQEBAQABAQEAAQAAAQABAQEBAQEBAQABAQEAAQAAAQABAQABAAEBAQABAAEAAAEAAAAAAAEBAAABAQABAQAAAAABAAABAAEBAQEBAAAAAAEBAQABAAABAQEBAQEBAAABAQEBAAABAQABAQEAAQEBAQEBAAABAQEAAAEBAAEBAQAAAAABAQEBAQEBAQABAAAAAAEBAQEBAQEBAAEBAQEBAQAAAAEBAQAAAAAAAAEBAAAAAQABAQEAAQEBAQAAAQABAAEBAAABAQEBAAABAQAAAAEBAAEAAAABAQEBAAEBAQABAAABAQEBAQEBAQEBAQABAQABAQABAQEBAAEBAAABAQAAAAEBAQEBAQEBAQABAQEAAAEBAQAAAAABAQEBAAABAQAAAQEBAAAAAAEBAAABAAABAAEBAQEB",
          "dtype": "i1"
         },
         "x0": " ",
         "xaxis": "x",
         "y0": " ",
         "yaxis": "y"
        }
       ],
       "layout": {
        "boxmode": "group",
        "height": 600,
        "legend": {
         "title": {
          "text": "Attrition (0=No, 1=Yes)"
         },
         "tracegroupgap": 0
        },
        "template": {
         "data": {
          "bar": [
           {
            "error_x": {
             "color": "#2a3f5f"
            },
            "error_y": {
             "color": "#2a3f5f"
            },
            "marker": {
             "line": {
              "color": "#E5ECF6",
              "width": 0.5
             },
             "pattern": {
              "fillmode": "overlay",
              "size": 10,
              "solidity": 0.2
             }
            },
            "type": "bar"
           }
          ],
          "barpolar": [
           {
            "marker": {
             "line": {
              "color": "#E5ECF6",
              "width": 0.5
             },
             "pattern": {
              "fillmode": "overlay",
              "size": 10,
              "solidity": 0.2
             }
            },
            "type": "barpolar"
           }
          ],
          "carpet": [
           {
            "aaxis": {
             "endlinecolor": "#2a3f5f",
             "gridcolor": "white",
             "linecolor": "white",
             "minorgridcolor": "white",
             "startlinecolor": "#2a3f5f"
            },
            "baxis": {
             "endlinecolor": "#2a3f5f",
             "gridcolor": "white",
             "linecolor": "white",
             "minorgridcolor": "white",
             "startlinecolor": "#2a3f5f"
            },
            "type": "carpet"
           }
          ],
          "choropleth": [
           {
            "colorbar": {
             "outlinewidth": 0,
             "ticks": ""
            },
            "type": "choropleth"
           }
          ],
          "contour": [
           {
            "colorbar": {
             "outlinewidth": 0,
             "ticks": ""
            },
            "colorscale": [
             [
              0,
              "#0d0887"
             ],
             [
              0.1111111111111111,
              "#46039f"
             ],
             [
              0.2222222222222222,
              "#7201a8"
             ],
             [
              0.3333333333333333,
              "#9c179e"
             ],
             [
              0.4444444444444444,
              "#bd3786"
             ],
             [
              0.5555555555555556,
              "#d8576b"
             ],
             [
              0.6666666666666666,
              "#ed7953"
             ],
             [
              0.7777777777777778,
              "#fb9f3a"
             ],
             [
              0.8888888888888888,
              "#fdca26"
             ],
             [
              1,
              "#f0f921"
             ]
            ],
            "type": "contour"
           }
          ],
          "contourcarpet": [
           {
            "colorbar": {
             "outlinewidth": 0,
             "ticks": ""
            },
            "type": "contourcarpet"
           }
          ],
          "heatmap": [
           {
            "colorbar": {
             "outlinewidth": 0,
             "ticks": ""
            },
            "colorscale": [
             [
              0,
              "#0d0887"
             ],
             [
              0.1111111111111111,
              "#46039f"
             ],
             [
              0.2222222222222222,
              "#7201a8"
             ],
             [
              0.3333333333333333,
              "#9c179e"
             ],
             [
              0.4444444444444444,
              "#bd3786"
             ],
             [
              0.5555555555555556,
              "#d8576b"
             ],
             [
              0.6666666666666666,
              "#ed7953"
             ],
             [
              0.7777777777777778,
              "#fb9f3a"
             ],
             [
              0.8888888888888888,
              "#fdca26"
             ],
             [
              1,
              "#f0f921"
             ]
            ],
            "type": "heatmap"
           }
          ],
          "histogram": [
           {
            "marker": {
             "pattern": {
              "fillmode": "overlay",
              "size": 10,
              "solidity": 0.2
             }
            },
            "type": "histogram"
           }
          ],
          "histogram2d": [
           {
            "colorbar": {
             "outlinewidth": 0,
             "ticks": ""
            },
            "colorscale": [
             [
              0,
              "#0d0887"
             ],
             [
              0.1111111111111111,
              "#46039f"
             ],
             [
              0.2222222222222222,
              "#7201a8"
             ],
             [
              0.3333333333333333,
              "#9c179e"
             ],
             [
              0.4444444444444444,
              "#bd3786"
             ],
             [
              0.5555555555555556,
              "#d8576b"
             ],
             [
              0.6666666666666666,
              "#ed7953"
             ],
             [
              0.7777777777777778,
              "#fb9f3a"
             ],
             [
              0.8888888888888888,
              "#fdca26"
             ],
             [
              1,
              "#f0f921"
             ]
            ],
            "type": "histogram2d"
           }
          ],
          "histogram2dcontour": [
           {
            "colorbar": {
             "outlinewidth": 0,
             "ticks": ""
            },
            "colorscale": [
             [
              0,
              "#0d0887"
             ],
             [
              0.1111111111111111,
              "#46039f"
             ],
             [
              0.2222222222222222,
              "#7201a8"
             ],
             [
              0.3333333333333333,
              "#9c179e"
             ],
             [
              0.4444444444444444,
              "#bd3786"
             ],
             [
              0.5555555555555556,
              "#d8576b"
             ],
             [
              0.6666666666666666,
              "#ed7953"
             ],
             [
              0.7777777777777778,
              "#fb9f3a"
             ],
             [
              0.8888888888888888,
              "#fdca26"
             ],
             [
              1,
              "#f0f921"
             ]
            ],
            "type": "histogram2dcontour"
           }
          ],
          "mesh3d": [
           {
            "colorbar": {
             "outlinewidth": 0,
             "ticks": ""
            },
            "type": "mesh3d"
           }
          ],
          "parcoords": [
           {
            "line": {
             "colorbar": {
              "outlinewidth": 0,
              "ticks": ""
             }
            },
            "type": "parcoords"
           }
          ],
          "pie": [
           {
            "automargin": true,
            "type": "pie"
           }
          ],
          "scatter": [
           {
            "fillpattern": {
             "fillmode": "overlay",
             "size": 10,
             "solidity": 0.2
            },
            "type": "scatter"
           }
          ],
          "scatter3d": [
           {
            "line": {
             "colorbar": {
              "outlinewidth": 0,
              "ticks": ""
             }
            },
            "marker": {
             "colorbar": {
              "outlinewidth": 0,
              "ticks": ""
             }
            },
            "type": "scatter3d"
           }
          ],
          "scattercarpet": [
           {
            "marker": {
             "colorbar": {
              "outlinewidth": 0,
              "ticks": ""
             }
            },
            "type": "scattercarpet"
           }
          ],
          "scattergeo": [
           {
            "marker": {
             "colorbar": {
              "outlinewidth": 0,
              "ticks": ""
             }
            },
            "type": "scattergeo"
           }
          ],
          "scattergl": [
           {
            "marker": {
             "colorbar": {
              "outlinewidth": 0,
              "ticks": ""
             }
            },
            "type": "scattergl"
           }
          ],
          "scattermap": [
           {
            "marker": {
             "colorbar": {
              "outlinewidth": 0,
              "ticks": ""
             }
            },
            "type": "scattermap"
           }
          ],
          "scattermapbox": [
           {
            "marker": {
             "colorbar": {
              "outlinewidth": 0,
              "ticks": ""
             }
            },
            "type": "scattermapbox"
           }
          ],
          "scatterpolar": [
           {
            "marker": {
             "colorbar": {
              "outlinewidth": 0,
              "ticks": ""
             }
            },
            "type": "scatterpolar"
           }
          ],
          "scatterpolargl": [
           {
            "marker": {
             "colorbar": {
              "outlinewidth": 0,
              "ticks": ""
             }
            },
            "type": "scatterpolargl"
           }
          ],
          "scatterternary": [
           {
            "marker": {
             "colorbar": {
              "outlinewidth": 0,
              "ticks": ""
             }
            },
            "type": "scatterternary"
           }
          ],
          "surface": [
           {
            "colorbar": {
             "outlinewidth": 0,
             "ticks": ""
            },
            "colorscale": [
             [
              0,
              "#0d0887"
             ],
             [
              0.1111111111111111,
              "#46039f"
             ],
             [
              0.2222222222222222,
              "#7201a8"
             ],
             [
              0.3333333333333333,
              "#9c179e"
             ],
             [
              0.4444444444444444,
              "#bd3786"
             ],
             [
              0.5555555555555556,
              "#d8576b"
             ],
             [
              0.6666666666666666,
              "#ed7953"
             ],
             [
              0.7777777777777778,
              "#fb9f3a"
             ],
             [
              0.8888888888888888,
              "#fdca26"
             ],
             [
              1,
              "#f0f921"
             ]
            ],
            "type": "surface"
           }
          ],
          "table": [
           {
            "cells": {
             "fill": {
              "color": "#EBF0F8"
             },
             "line": {
              "color": "white"
             }
            },
            "header": {
             "fill": {
              "color": "#C8D4E3"
             },
             "line": {
              "color": "white"
             }
            },
            "type": "table"
           }
          ]
         },
         "layout": {
          "annotationdefaults": {
           "arrowcolor": "#2a3f5f",
           "arrowhead": 0,
           "arrowwidth": 1
          },
          "autotypenumbers": "strict",
          "coloraxis": {
           "colorbar": {
            "outlinewidth": 0,
            "ticks": ""
           }
          },
          "colorscale": {
           "diverging": [
            [
             0,
             "#8e0152"
            ],
            [
             0.1,
             "#c51b7d"
            ],
            [
             0.2,
             "#de77ae"
            ],
            [
             0.3,
             "#f1b6da"
            ],
            [
             0.4,
             "#fde0ef"
            ],
            [
             0.5,
             "#f7f7f7"
            ],
            [
             0.6,
             "#e6f5d0"
            ],
            [
             0.7,
             "#b8e186"
            ],
            [
             0.8,
             "#7fbc41"
            ],
            [
             0.9,
             "#4d9221"
            ],
            [
             1,
             "#276419"
            ]
           ],
           "sequential": [
            [
             0,
             "#0d0887"
            ],
            [
             0.1111111111111111,
             "#46039f"
            ],
            [
             0.2222222222222222,
             "#7201a8"
            ],
            [
             0.3333333333333333,
             "#9c179e"
            ],
            [
             0.4444444444444444,
             "#bd3786"
            ],
            [
             0.5555555555555556,
             "#d8576b"
            ],
            [
             0.6666666666666666,
             "#ed7953"
            ],
            [
             0.7777777777777778,
             "#fb9f3a"
            ],
            [
             0.8888888888888888,
             "#fdca26"
            ],
            [
             1,
             "#f0f921"
            ]
           ],
           "sequentialminus": [
            [
             0,
             "#0d0887"
            ],
            [
             0.1111111111111111,
             "#46039f"
            ],
            [
             0.2222222222222222,
             "#7201a8"
            ],
            [
             0.3333333333333333,
             "#9c179e"
            ],
            [
             0.4444444444444444,
             "#bd3786"
            ],
            [
             0.5555555555555556,
             "#d8576b"
            ],
            [
             0.6666666666666666,
             "#ed7953"
            ],
            [
             0.7777777777777778,
             "#fb9f3a"
            ],
            [
             0.8888888888888888,
             "#fdca26"
            ],
            [
             1,
             "#f0f921"
            ]
           ]
          },
          "colorway": [
           "#636efa",
           "#EF553B",
           "#00cc96",
           "#ab63fa",
           "#FFA15A",
           "#19d3f3",
           "#FF6692",
           "#B6E880",
           "#FF97FF",
           "#FECB52"
          ],
          "font": {
           "color": "#2a3f5f"
          },
          "geo": {
           "bgcolor": "white",
           "lakecolor": "white",
           "landcolor": "#E5ECF6",
           "showlakes": true,
           "showland": true,
           "subunitcolor": "white"
          },
          "hoverlabel": {
           "align": "left"
          },
          "hovermode": "closest",
          "mapbox": {
           "style": "light"
          },
          "paper_bgcolor": "white",
          "plot_bgcolor": "#E5ECF6",
          "polar": {
           "angularaxis": {
            "gridcolor": "white",
            "linecolor": "white",
            "ticks": ""
           },
           "bgcolor": "#E5ECF6",
           "radialaxis": {
            "gridcolor": "white",
            "linecolor": "white",
            "ticks": ""
           }
          },
          "scene": {
           "xaxis": {
            "backgroundcolor": "#E5ECF6",
            "gridcolor": "white",
            "gridwidth": 2,
            "linecolor": "white",
            "showbackground": true,
            "ticks": "",
            "zerolinecolor": "white"
           },
           "yaxis": {
            "backgroundcolor": "#E5ECF6",
            "gridcolor": "white",
            "gridwidth": 2,
            "linecolor": "white",
            "showbackground": true,
            "ticks": "",
            "zerolinecolor": "white"
           },
           "zaxis": {
            "backgroundcolor": "#E5ECF6",
            "gridcolor": "white",
            "gridwidth": 2,
            "linecolor": "white",
            "showbackground": true,
            "ticks": "",
            "zerolinecolor": "white"
           }
          },
          "shapedefaults": {
           "line": {
            "color": "#2a3f5f"
           }
          },
          "ternary": {
           "aaxis": {
            "gridcolor": "white",
            "linecolor": "white",
            "ticks": ""
           },
           "baxis": {
            "gridcolor": "white",
            "linecolor": "white",
            "ticks": ""
           },
           "bgcolor": "#E5ECF6",
           "caxis": {
            "gridcolor": "white",
            "linecolor": "white",
            "ticks": ""
           }
          },
          "title": {
           "x": 0.05
          },
          "xaxis": {
           "automargin": true,
           "gridcolor": "white",
           "linecolor": "white",
           "ticks": "",
           "title": {
            "standoff": 15
           },
           "zerolinecolor": "white",
           "zerolinewidth": 2
          },
          "yaxis": {
           "automargin": true,
           "gridcolor": "white",
           "linecolor": "white",
           "ticks": "",
           "title": {
            "standoff": 15
           },
           "zerolinecolor": "white",
           "zerolinewidth": 2
          }
         }
        },
        "title": {
         "text": "Attrition Count by Gender"
        },
        "width": 1000,
        "xaxis": {
         "anchor": "y",
         "domain": [
          0,
          1
         ],
         "title": {
          "text": "Gender (1=Male, 0=Female)"
         }
        },
        "yaxis": {
         "anchor": "x",
         "domain": [
          0,
          1
         ]
        }
       }
      }
     },
     "metadata": {},
     "output_type": "display_data"
    }
   ],
   "source": [
    "fig = px.box(\n",
    "    df,\n",
    "    x=\"Gender\",\n",
    "    color=\"Attrition\",\n",
    "    points=\"all\",\n",
    "    title=\"Attrition Count by Gender\",\n",
    "    labels={\n",
    "        \"Gender\": \"Gender (1=Male, 0=Female)\",\n",
    "        \"Attrition\": \"Attrition (0=No, 1=Yes)\",\n",
    "        },\n",
    "    color_discrete_map={0: \"teal\", 1: \"orange\"},\n",
    "    width= 1000,\n",
    "    height= 600  # Change colors here\n",
    ")\n",
    "fig.show()"
   ]
  },
  {
   "cell_type": "markdown",
   "metadata": {},
   "source": [
    "**Key observations:** The boxes in the boxplots overlap and there is absolutely no difference in the median either. The graph helps us validate the test results that Gender and Attrition are not statistically related in the synthetic dataset."
   ]
  },
  {
   "cell_type": "markdown",
   "metadata": {},
   "source": [
    "**Business imapct:** While the synthetic dataset doesn't capture the observation, some behavior patterns might impact one gender more than the other gender. The business still needs to closely monitor for signals, however, subtle they maybe to ensure a fair, unbiased workspace. \n",
    "\n",
    "**Note:** As the current dataset is biased, we cannot generalize the findings to actual workplace environments. Recommend we tweak the data collection process to ensure that we collect balanced data."
   ]
  },
  {
   "cell_type": "markdown",
   "metadata": {},
   "source": [
    "**Note to ML Engineer/Data Scientist:** Dataset is biased as both Gender and Attrition features have imbalanced values. Gender has more male samples and Attrition has more No samples. "
   ]
  },
  {
   "cell_type": "markdown",
   "metadata": {},
   "source": [
    "---"
   ]
  },
  {
   "cell_type": "markdown",
   "metadata": {},
   "source": [
    "# Hypothesis 2: Age and Attrition Rate"
   ]
  },
  {
   "cell_type": "markdown",
   "metadata": {},
   "source": [
    "**Null hypothesis:** Age and attrition rate are independent of each other and do not share a statistically significant relationship."
   ]
  },
  {
   "cell_type": "code",
   "execution_count": null,
   "metadata": {},
   "outputs": [
    {
     "name": "stdout",
     "output_type": "stream",
     "text": [
      "Contingency Table:\n",
      "Attrition     0    1\n",
      "AgeBracket          \n",
      "18-25        79   44\n",
      "26-35       490  116\n",
      "36-45       425   43\n",
      "46-55       200   26\n",
      "56-65        39    8\n",
      "Chi-square statistic: 59.4387\n",
      "p-value: 0.0000\n",
      "Degrees of freedom: 4\n",
      "Expected frequencies:\n",
      "[[103.16938776  19.83061224]\n",
      " [508.29795918  97.70204082]\n",
      " [392.54693878  75.45306122]\n",
      " [189.56326531  36.43673469]\n",
      " [ 39.42244898   7.57755102]]\n"
     ]
    }
   ],
   "source": [
    "# Hypothesis testing: Chi-square test of independence between AgeBracket and Attrition\n",
    "import pandas as pd\n",
    "import matplotlib.pyplot as plt\n",
    "import seaborn as sns\n",
    "from scipy.stats import chi2_contingency\n",
    "\n",
    "# Load the transformed dataset\n",
    "try:\n",
    "    df_trans = pd.read_csv('../data/transformed_data/predict_employee_attrition_transformed.csv')\n",
    "except FileNotFoundError:\n",
    "    print(\"Error: The file was not found. Please check the path to your CSV file.\")\n",
    "    # Exit or handle the error appropriately\n",
    "    df_trans = None\n",
    "\n",
    "# Create a contingency table\n",
    "contingency_table = pd.crosstab(df_trans['AgeBracket'], df_trans['Attrition'])\n",
    "print('Contingency Table:')\n",
    "print(contingency_table)\n",
    "\n",
    "# Perform Chi-square test\n",
    "chi2, p, dof, expected = chi2_contingency(contingency_table)\n",
    "print(f'Chi-square statistic: {chi2:.4f}')\n",
    "print(f'p-value: {p:.4f}')\n",
    "print(f'Degrees of freedom: {dof}')\n",
    "print('Expected frequencies:')\n",
    "print(expected)"
   ]
  },
  {
   "cell_type": "markdown",
   "metadata": {},
   "source": [
    "**Key observations:**\n",
    "* Contingency Table: This table shows the raw counts. For example, in the 18-25 age bracket, 79 employees did not leave (Attrition=0) and 44 did (Attrition=1).\n",
    "* Chi-square statistic: 59.4387: a measure of how much the observed counts differ from the counts one would expect if there was no relationship at all between age and attrition. A larger value suggests a stronger relationship.\n",
    "* A p-value of 0.0000 provides enough evidence to reject the null hypothesis. IN the synthetic dataset there is a statistically significant association between an employee's age bracket and their likelihood of attrition."
   ]
  },
  {
   "cell_type": "code",
   "execution_count": null,
   "metadata": {},
   "outputs": [
    {
     "data": {
      "image/png": "[encoded data removed]",
      "text/plain": [
       "<Figure size 800x500 with 1 Axes>"
      ]
     },
     "metadata": {},
     "output_type": "display_data"
    }
   ],
   "source": [
    "# Visualization: Attrition rate by AgeBracket\n",
    "import matplotlib.pyplot as plt\n",
    "import seaborn as sns\n",
    "\n",
    "if df_trans is not None:\n",
    "    # Calculate attrition rate per age bracket\n",
    "    attrition_rate = df_trans.groupby('AgeBracket')['Attrition'].mean().reset_index()\n",
    "\n",
    "    # Create the visualization\n",
    "    plt.figure(figsize=(8,5))\n",
    "    sns.barplot(x='AgeBracket', y='Attrition', data=attrition_rate, palette='viridis', hue = \"AgeBracket\")\n",
    "    plt.title('Attrition Rate by Age Bracket')\n",
    "    plt.ylabel('Attrition Rate')\n",
    "    plt.xlabel('Age Bracket')\n",
    "    plt.ylim(0, 1)\n",
    "    plt.show()"
   ]
  },
  {
   "cell_type": "markdown",
   "metadata": {},
   "source": [
    "**Key observations:**\n",
    "* Attrition Rate: The y-axis shows the proportion of employees in each age bracket who left the company. For example, a rate of 0.4 means 40% of the employees in that group left.\n",
    "* Key Insight 1: Youngest employees have the highest attrition: The \"18-25\" age bracket has the highest bar, with an attrition rate of over 35%. This is a very strong signal that the youngest employees are the most likely to leave.\n",
    "* Key Insight 2: Mid-career stability: The attrition rate drops for the \"26-35\" group and is lowest for the \"36-45\" age bracket (at around 10%). This suggests that employees in their late 20s to mid-40s are the most stable.\n",
    "* Key Insight 3: A slight rise in later careers: The rate begins to creep up again for the \"46-55\" and \"56-65\" age brackets, though it never reaches the high levels of the youngest group. This could be due to retirements or late-career changes."
   ]
  },
  {
   "cell_type": "markdown",
   "metadata": {},
   "source": [
    "**Business impact:**\n",
    "- Rejecting the null hypothesis means age is a key factor in attrition.\n",
    "- HR can use these insights to design age-specific programs, reduce turnover, and optimize workforce planning.\n",
    "\n",
    "Employees under 26 exhibit the highest attrition rate, with statistical analysis confirming a strong, significant link between age and turnover. This trend poses a risk of losing early-career talent, which can drive up recruitment and training costs while impacting long-term workforce stability. Targeted retention strategies for younger employees could help reduce turnover, preserve institutional knowledge, and improve overall organizational performance."
   ]
  },
  {
   "cell_type": "markdown",
   "metadata": {},
   "source": [
    "---"
   ]
  },
  {
   "cell_type": "markdown",
   "metadata": {},
   "source": [
    "# Hypothesis 3: Department and Attrition Rate"
   ]
  },
  {
   "cell_type": "markdown",
   "metadata": {},
   "source": [
    "**Null hypothesis:** Department and attrition rate are independent of each other and do not share a statistically significant relationship."
   ]
  },
  {
   "cell_type": "code",
   "execution_count": 59,
   "metadata": {},
   "outputs": [
    {
     "name": "stdout",
     "output_type": "stream",
     "text": [
      "Chi-square Statistic: 10.79600732241067\n",
      "Degrees of Freedom: 2\n",
      "P-value: 0.004525606574479634\n",
      "\n",
      "Contingency Table:\n",
      "Attrition                 0    1\n",
      "Department                      \n",
      "Human Resources          51   12\n",
      "Research & Development  828  133\n",
      "Sales                   354   92\n",
      "\n",
      "Expected Frequencies:\n",
      "Attrition                        0           1\n",
      "Department                                    \n",
      "Human Resources          52.842857   10.157143\n",
      "Research & Development  806.063265  154.936735\n",
      "Sales                   374.093878   71.906122\n"
     ]
    }
   ],
   "source": [
    "import pandas as pd\n",
    "import scipy.stats as stats\n",
    "\n",
    "# Load dataset\n",
    "file_path = 'predict_employee_attrition_transformed.csv'\n",
    "df = pd.read_csv('../data/transformed_data/predict_employee_attrition_transformed.csv')\n",
    "\n",
    "# Create contingency table between Department and Attrition\n",
    "contingency_table = pd.crosstab(df['Department'], df['Attrition'])\n",
    "\n",
    "# Perform Chi-square test of independence\n",
    "chi2, p, dof, expected = stats.chi2_contingency(contingency_table)\n",
    "\n",
    "print(\"Chi-square Statistic:\", chi2)\n",
    "print(\"Degrees of Freedom:\", dof)\n",
    "print(\"P-value:\", p)\n",
    "\n",
    "# Display contingency and expected frequency tables\n",
    "print(\"\\nContingency Table:\")\n",
    "print(contingency_table)\n",
    "print(\"\\nExpected Frequencies:\")\n",
    "print(pd.DataFrame(expected, \n",
    "                   index=contingency_table.index, \n",
    "                   columns=contingency_table.columns))\n",
    "\n"
   ]
  },
  {
   "cell_type": "markdown",
   "metadata": {},
   "source": [
    "**Key observations:**\n",
    "* The Chi-square statistic is 10.80 with 2 degrees of freedom.\n",
    "* The p-value (≈ 0.0045) is below the 0.05 threshold, indicating a statistically significant relationship between department and attrition rate.\n",
    "* The contingency table shows that Sales has a higher proportion of attrition relative to expected values, while R&D has a slightly lower proportion.\n",
    "* Human Resources attrition is close to the expected frequency but still contributes to the overall significance."
   ]
  },
  {
   "cell_type": "code",
   "execution_count": 60,
   "metadata": {},
   "outputs": [
    {
     "data": {
      "image/png": "[encoded data removed]",
      "text/plain": [
       "<Figure size 800x500 with 1 Axes>"
      ]
     },
     "metadata": {},
     "output_type": "display_data"
    }
   ],
   "source": [
    "import matplotlib.pyplot as plt\n",
    "import seaborn as sns\n",
    "\n",
    "plt.figure(figsize=(8, 5))\n",
    "sns.countplot(data=df, x='Department', hue='Attrition', palette='Set2')\n",
    "\n",
    "plt.title(\"Attrition Counts by Department\")\n",
    "plt.xlabel(\"Department\")\n",
    "plt.ylabel(\"Count\")\n",
    "plt.legend(title='Attrition', labels=['No', 'Yes'])\n",
    "plt.xticks(rotation=15)\n",
    "plt.tight_layout()\n",
    "plt.show()\n"
   ]
  },
  {
   "cell_type": "markdown",
   "metadata": {},
   "source": [
    "**Key observations:**\n",
    "* Research & Development has the highest overall headcount and the largest number of attrition cases in absolute terms, though the attrition proportion appears lower than in Sales.\n",
    "* Sales shows a noticeably higher proportion of attrition compared to its total department size, indicating potential localized issues.\n",
    "* Human Resources has the smallest headcount and the fewest attrition cases, but its proportion is still non-negligible given its size. "
   ]
  },
  {
   "cell_type": "markdown",
   "metadata": {},
   "source": [
    "**Business impact:**\n",
    "- Since attrition is significantly related to department, HR should prioritize department-specific retention efforts rather than applying a uniform company-wide strategy.\n",
    "- Sales, with a higher attrition proportion relative to headcount, may require targeted interventions such as workload review, compensation adjustments, or enhanced career development opportunities.\n",
    "- For Research & Development, despite having the highest number of attrition cases, the proportion of attrition is comparatively lower. Therefore, retention strategies here could focus on sustaining engagement and career growth to maintain stability.\n",
    "- The smaller team size in Human Resources means that even a few attrition cases can impact operations. Proactive measures like cross-training and career path planning could mitigate disruption."
   ]
  },
  {
   "cell_type": "markdown",
   "metadata": {},
   "source": [
    "---"
   ]
  },
  {
   "cell_type": "markdown",
   "metadata": {},
   "source": [
    "# Hypothesis 4: Monthly Income and Attrition Rate"
   ]
  },
  {
   "cell_type": "markdown",
   "metadata": {},
   "source": [
    "**Null hypothesis:** Monthly income and attrition rate are independent of each other and do not share a statistically significant relationship."
   ]
  },
  {
   "cell_type": "code",
   "execution_count": 61,
   "metadata": {},
   "outputs": [
    {
     "data": {
      "text/html": [
       "<div>\n",
       "<style scoped>\n",
       "    .dataframe tbody tr th:only-of-type {\n",
       "        vertical-align: middle;\n",
       "    }\n",
       "\n",
       "    .dataframe tbody tr th {\n",
       "        vertical-align: top;\n",
       "    }\n",
       "\n",
       "    .dataframe thead th {\n",
       "        text-align: right;\n",
       "    }\n",
       "</style>\n",
       "<table border=\"1\" class=\"dataframe\">\n",
       "  <thead>\n",
       "    <tr style=\"text-align: right;\">\n",
       "      <th></th>\n",
       "      <th>U-val</th>\n",
       "      <th>alternative</th>\n",
       "      <th>p-val</th>\n",
       "      <th>RBC</th>\n",
       "      <th>CLES</th>\n",
       "    </tr>\n",
       "  </thead>\n",
       "  <tbody>\n",
       "    <tr>\n",
       "      <th>MWU</th>\n",
       "      <td>2160900.0</td>\n",
       "      <td>two-sided</td>\n",
       "      <td>0.0</td>\n",
       "      <td>1.0</td>\n",
       "      <td>1.0</td>\n",
       "    </tr>\n",
       "  </tbody>\n",
       "</table>\n",
       "</div>"
      ],
      "text/plain": [
       "         U-val alternative  p-val  RBC  CLES\n",
       "MWU  2160900.0   two-sided    0.0  1.0   1.0"
      ]
     },
     "execution_count": 61,
     "metadata": {},
     "output_type": "execute_result"
    }
   ],
   "source": [
    "pg.mwu(df['MonthlyIncome'], df['Attrition'], alternative='two-sided')"
   ]
  },
  {
   "cell_type": "markdown",
   "metadata": {},
   "source": [
    "**Key observations:** \n",
    "* The p-value score is 0, which means we have enough evidence to reject the null hypothesis. In the synthetic dataset, MonthlyIncome and Attrition share a statistically significant relationship."
   ]
  },
  {
   "cell_type": "code",
   "execution_count": 62,
   "metadata": {},
   "outputs": [
    {
     "data": {
      "application/vnd.plotly.v1+json": {
       "config": {
        "plotlyServerURL": "https://plot.ly"
       },
       "data": [
        {
         "alignmentgroup": "True",
         "hovertemplate": "Attrition Status=%{x}<br>Monthly Income=%{y}<extra></extra>",
         "legendgroup": "1",
         "marker": {
          "color": "#636efa"
         },
         "name": "1",
         "notched": false,
         "offsetgroup": "1",
         "orientation": "v",
         "showlegend": true,
         "type": "box",
         "x": {
          "bdata": "AQEBAQEBAQEBAQEBAQEBAQEBAQEBAQEBAQEBAQEBAQEBAQEBAQEBAQEBAQEBAQEBAQEBAQEBAQEBAQEBAQEBAQEBAQEBAQEBAQEBAQEBAQEBAQEBAQEBAQEBAQEBAQEBAQEBAQEBAQEBAQEBAQEBAQEBAQEBAQEBAQEBAQEBAQEBAQEBAQEBAQEBAQEBAQEBAQEBAQEBAQEBAQEBAQEBAQEBAQEBAQEBAQEBAQEBAQEBAQEBAQEBAQEBAQEBAQEBAQEBAQEBAQEBAQEBAQEBAQEBAQEBAQEBAQEBAQEBAQEBAQEBAQEBAQEBAQEB",
          "dtype": "i1"
         },
         "x0": " ",
         "xaxis": "x",
         "y": {
          "bdata": "aRcqCOwHTw2QC08PJgj1CHsK9QhZTAUVcQ08DZMlGQhuC3AWuhdjExwYSCiLBs8RmiloEBUJTgREDBwXERrXHaAoYQooGgoIVQmECZMKkg5AJ5cNnQ1JLlkMRQnEFowFTROIDXYURwh+CCMLiyTsGJwKuBQeDO0Ivw+CDC8J8gkECio1UA1gJt4mNg+1ClYHJAljEkYL8QeJEOELvhDxAxQN4RGMGqgIxwp+Cv0Yk03OFEEGDwnMFC5LHhHmHSgUPgnmB/AK6wpMCfwHhQpLENoKZAltCUkInQtVKHEprwmKMxEJZAlUCJ8OKAp2CakSaROFTbcK4hL6BxMJiAWdCRIi8ihuJZwRaw5JCQkJJAp4EokvcAcgIDIKqBy+NdMJ4hR4CyULOwiiCEMHXgSISUEKKh8LDRMTQA+GI/4g/gg6CRgnfzXhCgYSIxhaCbwQgR1PBe0EMBFwJz4OFh2KDrYKXQuFFvcRZAwBCjoJ4gf0D/IlGgi5J/cSaAkhBkIoQBV2COURlQ9fCnEF4wgTBogy9hdPGoQIyAp0IeEfhQl3Cl4JJgm1FuIUdRBkCN4ijAsfCbMmhwmSHDkEqAkDCRsKQwR+JoAJLws/CfEV0Cj+BrMSIwlIGmYq",
          "dtype": "i2"
         },
         "y0": " ",
         "yaxis": "y"
        },
        {
         "alignmentgroup": "True",
         "hovertemplate": "Attrition Status=%{x}<br>Monthly Income=%{y}<extra></extra>",
         "legendgroup": "0",
         "marker": {
          "color": "#EF553B"
         },
         "name": "0",
         "notched": false,
         "offsetgroup": "0",
         "orientation": "v",
         "showlegend": true,
         "type": "box",
         "x": {
          "bdata": "AAAAAAAAAAAAAAAAAAAAAAAAAAAAAAAAAAAAAAAAAAAAAAAAAAAAAAAAAAAAAAAAAAAAAAAAAAAAAAAAAAAAAAAAAAAAAAAAAAAAAAAAAAAAAAAAAAAAAAAAAAAAAAAAAAAAAAAAAAAAAAAAAAAAAAAAAAAAAAAAAAAAAAAAAAAAAAAAAAAAAAAAAAAAAAAAAAAAAAAAAAAAAAAAAAAAAAAAAAAAAAAAAAAAAAAAAAAAAAAAAAAAAAAAAAAAAAAAAAAAAAAAAAAAAAAAAAAAAAAAAAAAAAAAAAAAAAAAAAAAAAAAAAAAAAAAAAAAAAAAAAAAAAAAAAAAAAAAAAAAAAAAAAAAAAAAAAAAAAAAAAAAAAAAAAAAAAAAAAAAAAAAAAAAAAAAAAAAAAAAAAAAAAAAAAAAAAAAAAAAAAAAAAAAAAAAAAAAAAAAAAAAAAAAAAAAAAAAAAAAAAAAAAAAAAAAAAAAAAAAAAAAAAAAAAAAAAAAAAAAAAAAAAAAAAAAAAAAAAAAAAAAAAAAAAAAAAAAAAAAAAAAAAAAAAAAAAAAAAAAAAAAAAAAAAAAAAAAAAAAAAAAAAAAAAAAAAAAAAAAAAAAAAAAAAAAAAAAAAAAAAAAAAAAAAAAAAAAAAAAAAAAAAAAAAAAAAAAAAAAAAAAAAAAAAAAAAAAAAAAAAAAAAAAAAAAAAAAAAAAAAAAAAAAAAAAAAAAAAAAAAAAAAAAAAAAAAAAAAAAAAAAAAAAAAAAAAAAAAAAAAAAAAAAAAAAAAAAAAAAAAAAAAAAAAAAAAAAAAAAAAAAAAAAAAAAAAAAAAAAAAAAAAAAAAAAAAAAAAAAAAAAAAAAAAAAAAAAAAAAAAAAAAAAAAAAAAAAAAAAAAAAAAAAAAAAAAAAAAAAAAAAAAAAAAAAAAAAAAAAAAAAAAAAAAAAAAAAAAAAAAAAAAAAAAAAAAAAAAAAAAAAAAAAAAAAAAAAAAAAAAAAAAAAAAAAAAAAAAAAAAAAAAAAAAAAAAAAAAAAAAAAAAAAAAAAAAAAAAAAAAAAAAAAAAAAAAAAAAAAAAAAAAAAAAAAAAAAAAAAAAAAAAAAAAAAAAAAAAAAAAAAAAAAAAAAAAAAAAAAAAAAAAAAAAAAAAAAAAAAAAAAAAAAAAAAAAAAAAAAAAAAAAAAAAAAAAAAAAAAAAAAAAAAAAAAAAAAAAAAAAAAAAAAAAAAAAAAAAAAAAAAAAAAAAAAAAAAAAAAAAAAAAAAAAAAAAAAAAAAAAAAAAAAAAAAAAAAAAAAAAAAAAAAAAAAAAAAAAAAAAAAAAAAAAAAAAAAAAAAAAAAAAAAAAAAAAAAAAAAAAAAAAAAAAAAAAAAAAAAAAAAAAAAAAAAAAAAAAAAAAAAAAAAAAAAAAAAAAAAAAAAAAAAAAAAAAAAAAAAAAAAAAAAAAAAAAAAAAAAAAAAAAAAAAAAAAAAAAAAAAAAAAAAAAAAAAAAAAAAAAAAAAAAAAAAAAAAAAAAAAAAAAAAAAAAAAAAAAAAAAAAAAAAAAAAAAAAAAAAAAAAAAAAAAAAAAAAAAAAAAAAAAAAAAAAAAAAAAAAAAAAAAAAAAAAAAAAAAAAAAAAAAAAAAAAAAAAAAAAAAAAAAAAAAAAAAAAAAAAAAAA",
          "dtype": "i1"
         },
         "x0": " ",
         "xaxis": "x",
         "y": {
          "bdata": "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",
          "dtype": "i2"
         },
         "y0": " ",
         "yaxis": "y"
        }
       ],
       "layout": {
        "boxmode": "overlay",
        "legend": {
         "title": {
          "text": "Attrition Status"
         },
         "tracegroupgap": 0
        },
        "template": {
         "data": {
          "bar": [
           {
            "error_x": {
             "color": "#2a3f5f"
            },
            "error_y": {
             "color": "#2a3f5f"
            },
            "marker": {
             "line": {
              "color": "#E5ECF6",
              "width": 0.5
             },
             "pattern": {
              "fillmode": "overlay",
              "size": 10,
              "solidity": 0.2
             }
            },
            "type": "bar"
           }
          ],
          "barpolar": [
           {
            "marker": {
             "line": {
              "color": "#E5ECF6",
              "width": 0.5
             },
             "pattern": {
              "fillmode": "overlay",
              "size": 10,
              "solidity": 0.2
             }
            },
            "type": "barpolar"
           }
          ],
          "carpet": [
           {
            "aaxis": {
             "endlinecolor": "#2a3f5f",
             "gridcolor": "white",
             "linecolor": "white",
             "minorgridcolor": "white",
             "startlinecolor": "#2a3f5f"
            },
            "baxis": {
             "endlinecolor": "#2a3f5f",
             "gridcolor": "white",
             "linecolor": "white",
             "minorgridcolor": "white",
             "startlinecolor": "#2a3f5f"
            },
            "type": "carpet"
           }
          ],
          "choropleth": [
           {
            "colorbar": {
             "outlinewidth": 0,
             "ticks": ""
            },
            "type": "choropleth"
           }
          ],
          "contour": [
           {
            "colorbar": {
             "outlinewidth": 0,
             "ticks": ""
            },
            "colorscale": [
             [
              0,
              "#0d0887"
             ],
             [
              0.1111111111111111,
              "#46039f"
             ],
             [
              0.2222222222222222,
              "#7201a8"
             ],
             [
              0.3333333333333333,
              "#9c179e"
             ],
             [
              0.4444444444444444,
              "#bd3786"
             ],
             [
              0.5555555555555556,
              "#d8576b"
             ],
             [
              0.6666666666666666,
              "#ed7953"
             ],
             [
              0.7777777777777778,
              "#fb9f3a"
             ],
             [
              0.8888888888888888,
              "#fdca26"
             ],
             [
              1,
              "#f0f921"
             ]
            ],
            "type": "contour"
           }
          ],
          "contourcarpet": [
           {
            "colorbar": {
             "outlinewidth": 0,
             "ticks": ""
            },
            "type": "contourcarpet"
           }
          ],
          "heatmap": [
           {
            "colorbar": {
             "outlinewidth": 0,
             "ticks": ""
            },
            "colorscale": [
             [
              0,
              "#0d0887"
             ],
             [
              0.1111111111111111,
              "#46039f"
             ],
             [
              0.2222222222222222,
              "#7201a8"
             ],
             [
              0.3333333333333333,
              "#9c179e"
             ],
             [
              0.4444444444444444,
              "#bd3786"
             ],
             [
              0.5555555555555556,
              "#d8576b"
             ],
             [
              0.6666666666666666,
              "#ed7953"
             ],
             [
              0.7777777777777778,
              "#fb9f3a"
             ],
             [
              0.8888888888888888,
              "#fdca26"
             ],
             [
              1,
              "#f0f921"
             ]
            ],
            "type": "heatmap"
           }
          ],
          "histogram": [
           {
            "marker": {
             "pattern": {
              "fillmode": "overlay",
              "size": 10,
              "solidity": 0.2
             }
            },
            "type": "histogram"
           }
          ],
          "histogram2d": [
           {
            "colorbar": {
             "outlinewidth": 0,
             "ticks": ""
            },
            "colorscale": [
             [
              0,
              "#0d0887"
             ],
             [
              0.1111111111111111,
              "#46039f"
             ],
             [
              0.2222222222222222,
              "#7201a8"
             ],
             [
              0.3333333333333333,
              "#9c179e"
             ],
             [
              0.4444444444444444,
              "#bd3786"
             ],
             [
              0.5555555555555556,
              "#d8576b"
             ],
             [
              0.6666666666666666,
              "#ed7953"
             ],
             [
              0.7777777777777778,
              "#fb9f3a"
             ],
             [
              0.8888888888888888,
              "#fdca26"
             ],
             [
              1,
              "#f0f921"
             ]
            ],
            "type": "histogram2d"
           }
          ],
          "histogram2dcontour": [
           {
            "colorbar": {
             "outlinewidth": 0,
             "ticks": ""
            },
            "colorscale": [
             [
              0,
              "#0d0887"
             ],
             [
              0.1111111111111111,
              "#46039f"
             ],
             [
              0.2222222222222222,
              "#7201a8"
             ],
             [
              0.3333333333333333,
              "#9c179e"
             ],
             [
              0.4444444444444444,
              "#bd3786"
             ],
             [
              0.5555555555555556,
              "#d8576b"
             ],
             [
              0.6666666666666666,
              "#ed7953"
             ],
             [
              0.7777777777777778,
              "#fb9f3a"
             ],
             [
              0.8888888888888888,
              "#fdca26"
             ],
             [
              1,
              "#f0f921"
             ]
            ],
            "type": "histogram2dcontour"
           }
          ],
          "mesh3d": [
           {
            "colorbar": {
             "outlinewidth": 0,
             "ticks": ""
            },
            "type": "mesh3d"
           }
          ],
          "parcoords": [
           {
            "line": {
             "colorbar": {
              "outlinewidth": 0,
              "ticks": ""
             }
            },
            "type": "parcoords"
           }
          ],
          "pie": [
           {
            "automargin": true,
            "type": "pie"
           }
          ],
          "scatter": [
           {
            "fillpattern": {
             "fillmode": "overlay",
             "size": 10,
             "solidity": 0.2
            },
            "type": "scatter"
           }
          ],
          "scatter3d": [
           {
            "line": {
             "colorbar": {
              "outlinewidth": 0,
              "ticks": ""
             }
            },
            "marker": {
             "colorbar": {
              "outlinewidth": 0,
              "ticks": ""
             }
            },
            "type": "scatter3d"
           }
          ],
          "scattercarpet": [
           {
            "marker": {
             "colorbar": {
              "outlinewidth": 0,
              "ticks": ""
             }
            },
            "type": "scattercarpet"
           }
          ],
          "scattergeo": [
           {
            "marker": {
             "colorbar": {
              "outlinewidth": 0,
              "ticks": ""
             }
            },
            "type": "scattergeo"
           }
          ],
          "scattergl": [
           {
            "marker": {
             "colorbar": {
              "outlinewidth": 0,
              "ticks": ""
             }
            },
            "type": "scattergl"
           }
          ],
          "scattermap": [
           {
            "marker": {
             "colorbar": {
              "outlinewidth": 0,
              "ticks": ""
             }
            },
            "type": "scattermap"
           }
          ],
          "scattermapbox": [
           {
            "marker": {
             "colorbar": {
              "outlinewidth": 0,
              "ticks": ""
             }
            },
            "type": "scattermapbox"
           }
          ],
          "scatterpolar": [
           {
            "marker": {
             "colorbar": {
              "outlinewidth": 0,
              "ticks": ""
             }
            },
            "type": "scatterpolar"
           }
          ],
          "scatterpolargl": [
           {
            "marker": {
             "colorbar": {
              "outlinewidth": 0,
              "ticks": ""
             }
            },
            "type": "scatterpolargl"
           }
          ],
          "scatterternary": [
           {
            "marker": {
             "colorbar": {
              "outlinewidth": 0,
              "ticks": ""
             }
            },
            "type": "scatterternary"
           }
          ],
          "surface": [
           {
            "colorbar": {
             "outlinewidth": 0,
             "ticks": ""
            },
            "colorscale": [
             [
              0,
              "#0d0887"
             ],
             [
              0.1111111111111111,
              "#46039f"
             ],
             [
              0.2222222222222222,
              "#7201a8"
             ],
             [
              0.3333333333333333,
              "#9c179e"
             ],
             [
              0.4444444444444444,
              "#bd3786"
             ],
             [
              0.5555555555555556,
              "#d8576b"
             ],
             [
              0.6666666666666666,
              "#ed7953"
             ],
             [
              0.7777777777777778,
              "#fb9f3a"
             ],
             [
              0.8888888888888888,
              "#fdca26"
             ],
             [
              1,
              "#f0f921"
             ]
            ],
            "type": "surface"
           }
          ],
          "table": [
           {
            "cells": {
             "fill": {
              "color": "#EBF0F8"
             },
             "line": {
              "color": "white"
             }
            },
            "header": {
             "fill": {
              "color": "#C8D4E3"
             },
             "line": {
              "color": "white"
             }
            },
            "type": "table"
           }
          ]
         },
         "layout": {
          "annotationdefaults": {
           "arrowcolor": "#2a3f5f",
           "arrowhead": 0,
           "arrowwidth": 1
          },
          "autotypenumbers": "strict",
          "coloraxis": {
           "colorbar": {
            "outlinewidth": 0,
            "ticks": ""
           }
          },
          "colorscale": {
           "diverging": [
            [
             0,
             "#8e0152"
            ],
            [
             0.1,
             "#c51b7d"
            ],
            [
             0.2,
             "#de77ae"
            ],
            [
             0.3,
             "#f1b6da"
            ],
            [
             0.4,
             "#fde0ef"
            ],
            [
             0.5,
             "#f7f7f7"
            ],
            [
             0.6,
             "#e6f5d0"
            ],
            [
             0.7,
             "#b8e186"
            ],
            [
             0.8,
             "#7fbc41"
            ],
            [
             0.9,
             "#4d9221"
            ],
            [
             1,
             "#276419"
            ]
           ],
           "sequential": [
            [
             0,
             "#0d0887"
            ],
            [
             0.1111111111111111,
             "#46039f"
            ],
            [
             0.2222222222222222,
             "#7201a8"
            ],
            [
             0.3333333333333333,
             "#9c179e"
            ],
            [
             0.4444444444444444,
             "#bd3786"
            ],
            [
             0.5555555555555556,
             "#d8576b"
            ],
            [
             0.6666666666666666,
             "#ed7953"
            ],
            [
             0.7777777777777778,
             "#fb9f3a"
            ],
            [
             0.8888888888888888,
             "#fdca26"
            ],
            [
             1,
             "#f0f921"
            ]
           ],
           "sequentialminus": [
            [
             0,
             "#0d0887"
            ],
            [
             0.1111111111111111,
             "#46039f"
            ],
            [
             0.2222222222222222,
             "#7201a8"
            ],
            [
             0.3333333333333333,
             "#9c179e"
            ],
            [
             0.4444444444444444,
             "#bd3786"
            ],
            [
             0.5555555555555556,
             "#d8576b"
            ],
            [
             0.6666666666666666,
             "#ed7953"
            ],
            [
             0.7777777777777778,
             "#fb9f3a"
            ],
            [
             0.8888888888888888,
             "#fdca26"
            ],
            [
             1,
             "#f0f921"
            ]
           ]
          },
          "colorway": [
           "#636efa",
           "#EF553B",
           "#00cc96",
           "#ab63fa",
           "#FFA15A",
           "#19d3f3",
           "#FF6692",
           "#B6E880",
           "#FF97FF",
           "#FECB52"
          ],
          "font": {
           "color": "#2a3f5f"
          },
          "geo": {
           "bgcolor": "white",
           "lakecolor": "white",
           "landcolor": "#E5ECF6",
           "showlakes": true,
           "showland": true,
           "subunitcolor": "white"
          },
          "hoverlabel": {
           "align": "left"
          },
          "hovermode": "closest",
          "mapbox": {
           "style": "light"
          },
          "paper_bgcolor": "white",
          "plot_bgcolor": "#E5ECF6",
          "polar": {
           "angularaxis": {
            "gridcolor": "white",
            "linecolor": "white",
            "ticks": ""
           },
           "bgcolor": "#E5ECF6",
           "radialaxis": {
            "gridcolor": "white",
            "linecolor": "white",
            "ticks": ""
           }
          },
          "scene": {
           "xaxis": {
            "backgroundcolor": "#E5ECF6",
            "gridcolor": "white",
            "gridwidth": 2,
            "linecolor": "white",
            "showbackground": true,
            "ticks": "",
            "zerolinecolor": "white"
           },
           "yaxis": {
            "backgroundcolor": "#E5ECF6",
            "gridcolor": "white",
            "gridwidth": 2,
            "linecolor": "white",
            "showbackground": true,
            "ticks": "",
            "zerolinecolor": "white"
           },
           "zaxis": {
            "backgroundcolor": "#E5ECF6",
            "gridcolor": "white",
            "gridwidth": 2,
            "linecolor": "white",
            "showbackground": true,
            "ticks": "",
            "zerolinecolor": "white"
           }
          },
          "shapedefaults": {
           "line": {
            "color": "#2a3f5f"
           }
          },
          "ternary": {
           "aaxis": {
            "gridcolor": "white",
            "linecolor": "white",
            "ticks": ""
           },
           "baxis": {
            "gridcolor": "white",
            "linecolor": "white",
            "ticks": ""
           },
           "bgcolor": "#E5ECF6",
           "caxis": {
            "gridcolor": "white",
            "linecolor": "white",
            "ticks": ""
           }
          },
          "title": {
           "x": 0.05
          },
          "xaxis": {
           "automargin": true,
           "gridcolor": "white",
           "linecolor": "white",
           "ticks": "",
           "title": {
            "standoff": 15
           },
           "zerolinecolor": "white",
           "zerolinewidth": 2
          },
          "yaxis": {
           "automargin": true,
           "gridcolor": "white",
           "linecolor": "white",
           "ticks": "",
           "title": {
            "standoff": 15
           },
           "zerolinecolor": "white",
           "zerolinewidth": 2
          }
         }
        },
        "title": {
         "text": "Monthly Income vs Attrition"
        },
        "xaxis": {
         "anchor": "y",
         "categoryarray": [
          1,
          0
         ],
         "categoryorder": "array",
         "domain": [
          0,
          1
         ],
         "title": {
          "text": "Attrition Status"
         }
        },
        "yaxis": {
         "anchor": "x",
         "domain": [
          0,
          1
         ],
         "title": {
          "text": "Monthly Income"
         }
        }
       }
      }
     },
     "metadata": {},
     "output_type": "display_data"
    }
   ],
   "source": [
    "fig = px.box(df, x='Attrition', y='MonthlyIncome', color='Attrition',\n",
    "             title='Monthly Income vs Attrition',\n",
    "             labels={'MonthlyIncome': 'Monthly Income', 'Attrition': 'Attrition Status'})\n",
    "fig.show()"
   ]
  },
  {
   "cell_type": "markdown",
   "metadata": {},
   "source": [
    "**Key observations:**\n",
    "* Employees who left the company (Attrition = 1) generally have lower monthly incomes compared to those who stayed (Attrition = 0).\n",
    "* The boxplot and distribution plots show a clear separation in income levels between the two groups.\n",
    "* The Mann-Whitney U test result indicates a statistically significant difference in monthly income between employees who left and those who stayed (p-value ≈ 0).\n",
    "* This suggests that lower monthly income is strongly associated with higher attrition rates.\n",
    "* Addressing income disparities may help reduce employee attrition and improve retention."
   ]
  },
  {
   "cell_type": "markdown",
   "metadata": {},
   "source": [
    "**Business impact:**\n",
    "* The strong link between lower monthly income and higher attrition rates highlights the importance of competitive compensation strategies.\n",
    "* Organizations can reduce employee turnover by reviewing and adjusting salary structures, especially for roles with higher attrition.\n",
    "* Improving pay equity and transparency may enhance employee satisfaction and retention.\n",
    "* Addressing income disparities can lead to cost savings by reducing recruitment and training expenses associated with high attrition.\n",
    "* Strategic compensation planning supports a more stable, motivated, and productive workforce."
   ]
  },
  {
   "cell_type": "markdown",
   "metadata": {},
   "source": [
    "---"
   ]
  },
  {
   "cell_type": "markdown",
   "metadata": {},
   "source": [
    "# Hypothesis 5: Total satisfaction level and Attrition"
   ]
  },
  {
   "cell_type": "markdown",
   "metadata": {},
   "source": [
    "**Null hypothesis:** Satisfaction levels and attrition rate are independent of each other and do not share a statistically significant relationship."
   ]
  },
  {
   "cell_type": "code",
   "execution_count": 63,
   "metadata": {},
   "outputs": [
    {
     "data": {
      "text/html": [
       "<div>\n",
       "<style scoped>\n",
       "    .dataframe tbody tr th:only-of-type {\n",
       "        vertical-align: middle;\n",
       "    }\n",
       "\n",
       "    .dataframe tbody tr th {\n",
       "        vertical-align: top;\n",
       "    }\n",
       "\n",
       "    .dataframe thead th {\n",
       "        text-align: right;\n",
       "    }\n",
       "</style>\n",
       "<table border=\"1\" class=\"dataframe\">\n",
       "  <thead>\n",
       "    <tr style=\"text-align: right;\">\n",
       "      <th></th>\n",
       "      <th>U-val</th>\n",
       "      <th>alternative</th>\n",
       "      <th>p-val</th>\n",
       "      <th>RBC</th>\n",
       "      <th>CLES</th>\n",
       "    </tr>\n",
       "  </thead>\n",
       "  <tbody>\n",
       "    <tr>\n",
       "      <th>MWU</th>\n",
       "      <td>118.5</td>\n",
       "      <td>two-sided</td>\n",
       "      <td>0.0</td>\n",
       "      <td>-0.99989</td>\n",
       "      <td>0.000055</td>\n",
       "    </tr>\n",
       "  </tbody>\n",
       "</table>\n",
       "</div>"
      ],
      "text/plain": [
       "     U-val alternative  p-val      RBC      CLES\n",
       "MWU  118.5   two-sided    0.0 -0.99989  0.000055"
      ]
     },
     "execution_count": 63,
     "metadata": {},
     "output_type": "execute_result"
    }
   ],
   "source": [
    "pg.mwu(df[\"Attrition\"], df[\"TotalSatisfaction\"], alternative='two-sided')"
   ]
  },
  {
   "cell_type": "markdown",
   "metadata": {},
   "source": [
    "**Key observations:** A p-value score of 0 provides enough evidence to reject the null hypothesis. In the synthetic dataset, TotalSatisfaction and Attrition share a statistically significant relationship."
   ]
  },
  {
   "cell_type": "code",
   "execution_count": 64,
   "metadata": {},
   "outputs": [
    {
     "data": {
      "application/vnd.plotly.v1+json": {
       "config": {
        "plotlyServerURL": "https://plot.ly"
       },
       "data": [
        {
         "alignmentgroup": "True",
         "boxpoints": "all",
         "hovertemplate": "Attrition (0=No, 1=Yes)=%{x}<br>Total Satisfaction=%{y}<extra></extra>",
         "legendgroup": "1",
         "marker": {
          "color": "yellowgreen"
         },
         "name": "1",
         "notched": false,
         "offsetgroup": "1",
         "orientation": "v",
         "showlegend": true,
         "type": "box",
         "x": {
          "bdata": "AQEBAQEBAQEBAQEBAQEBAQEBAQEBAQEBAQEBAQEBAQEBAQEBAQEBAQEBAQEBAQEBAQEBAQEBAQEBAQEBAQEBAQEBAQEBAQEBAQEBAQEBAQEBAQEBAQEBAQEBAQEBAQEBAQEBAQEBAQEBAQEBAQEBAQEBAQEBAQEBAQEBAQEBAQEBAQEBAQEBAQEBAQEBAQEBAQEBAQEBAQEBAQEBAQEBAQEBAQEBAQEBAQEBAQEBAQEBAQEBAQEBAQEBAQEBAQEBAQEBAQEBAQEBAQEBAQEBAQEBAQEBAQEBAQEBAQEBAQEBAQEBAQEBAQEBAQEB",
          "dtype": "i1"
         },
         "x0": " ",
         "xaxis": "x",
         "y": {
          "bdata": "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",
          "dtype": "f8"
         },
         "y0": " ",
         "yaxis": "y"
        },
        {
         "alignmentgroup": "True",
         "boxpoints": "all",
         "hovertemplate": "Attrition (0=No, 1=Yes)=%{x}<br>Total Satisfaction=%{y}<extra></extra>",
         "legendgroup": "0",
         "marker": {
          "color": "purple"
         },
         "name": "0",
         "notched": false,
         "offsetgroup": "0",
         "orientation": "v",
         "showlegend": true,
         "type": "box",
         "x": {
          "bdata": "AAAAAAAAAAAAAAAAAAAAAAAAAAAAAAAAAAAAAAAAAAAAAAAAAAAAAAAAAAAAAAAAAAAAAAAAAAAAAAAAAAAAAAAAAAAAAAAAAAAAAAAAAAAAAAAAAAAAAAAAAAAAAAAAAAAAAAAAAAAAAAAAAAAAAAAAAAAAAAAAAAAAAAAAAAAAAAAAAAAAAAAAAAAAAAAAAAAAAAAAAAAAAAAAAAAAAAAAAAAAAAAAAAAAAAAAAAAAAAAAAAAAAAAAAAAAAAAAAAAAAAAAAAAAAAAAAAAAAAAAAAAAAAAAAAAAAAAAAAAAAAAAAAAAAAAAAAAAAAAAAAAAAAAAAAAAAAAAAAAAAAAAAAAAAAAAAAAAAAAAAAAAAAAAAAAAAAAAAAAAAAAAAAAAAAAAAAAAAAAAAAAAAAAAAAAAAAAAAAAAAAAAAAAAAAAAAAAAAAAAAAAAAAAAAAAAAAAAAAAAAAAAAAAAAAAAAAAAAAAAAAAAAAAAAAAAAAAAAAAAAAAAAAAAAAAAAAAAAAAAAAAAAAAAAAAAAAAAAAAAAAAAAAAAAAAAAAAAAAAAAAAAAAAAAAAAAAAAAAAAAAAAAAAAAAAAAAAAAAAAAAAAAAAAAAAAAAAAAAAAAAAAAAAAAAAAAAAAAAAAAAAAAAAAAAAAAAAAAAAAAAAAAAAAAAAAAAAAAAAAAAAAAAAAAAAAAAAAAAAAAAAAAAAAAAAAAAAAAAAAAAAAAAAAAAAAAAAAAAAAAAAAAAAAAAAAAAAAAAAAAAAAAAAAAAAAAAAAAAAAAAAAAAAAAAAAAAAAAAAAAAAAAAAAAAAAAAAAAAAAAAAAAAAAAAAAAAAAAAAAAAAAAAAAAAAAAAAAAAAAAAAAAAAAAAAAAAAAAAAAAAAAAAAAAAAAAAAAAAAAAAAAAAAAAAAAAAAAAAAAAAAAAAAAAAAAAAAAAAAAAAAAAAAAAAAAAAAAAAAAAAAAAAAAAAAAAAAAAAAAAAAAAAAAAAAAAAAAAAAAAAAAAAAAAAAAAAAAAAAAAAAAAAAAAAAAAAAAAAAAAAAAAAAAAAAAAAAAAAAAAAAAAAAAAAAAAAAAAAAAAAAAAAAAAAAAAAAAAAAAAAAAAAAAAAAAAAAAAAAAAAAAAAAAAAAAAAAAAAAAAAAAAAAAAAAAAAAAAAAAAAAAAAAAAAAAAAAAAAAAAAAAAAAAAAAAAAAAAAAAAAAAAAAAAAAAAAAAAAAAAAAAAAAAAAAAAAAAAAAAAAAAAAAAAAAAAAAAAAAAAAAAAAAAAAAAAAAAAAAAAAAAAAAAAAAAAAAAAAAAAAAAAAAAAAAAAAAAAAAAAAAAAAAAAAAAAAAAAAAAAAAAAAAAAAAAAAAAAAAAAAAAAAAAAAAAAAAAAAAAAAAAAAAAAAAAAAAAAAAAAAAAAAAAAAAAAAAAAAAAAAAAAAAAAAAAAAAAAAAAAAAAAAAAAAAAAAAAAAAAAAAAAAAAAAAAAAAAAAAAAAAAAAAAAAAAAAAAAAAAAAAAAAAAAAAAAAAAAAAAAAAAAAAAAAAAAAAAAAAAAAAAAAAAAAAAAAAAAAAAAAAAAAAAAAAAAAAAAAAAAAAAAAAAAAAAAAAAAAAAAAAAAAAAAAAAAAAAAAAAAAAAAAAAAAAAAAAAAAAAAAAA",
          "dtype": "i1"
         },
         "x0": " ",
         "xaxis": "x",
         "y": {
          "bdata": "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",
          "dtype": "f8"
         },
         "y0": " ",
         "yaxis": "y"
        }
       ],
       "layout": {
        "boxmode": "overlay",
        "height": 600,
        "legend": {
         "title": {
          "text": "Attrition (0=No, 1=Yes)"
         },
         "tracegroupgap": 0
        },
        "template": {
         "data": {
          "bar": [
           {
            "error_x": {
             "color": "#2a3f5f"
            },
            "error_y": {
             "color": "#2a3f5f"
            },
            "marker": {
             "line": {
              "color": "#E5ECF6",
              "width": 0.5
             },
             "pattern": {
              "fillmode": "overlay",
              "size": 10,
              "solidity": 0.2
             }
            },
            "type": "bar"
           }
          ],
          "barpolar": [
           {
            "marker": {
             "line": {
              "color": "#E5ECF6",
              "width": 0.5
             },
             "pattern": {
              "fillmode": "overlay",
              "size": 10,
              "solidity": 0.2
             }
            },
            "type": "barpolar"
           }
          ],
          "carpet": [
           {
            "aaxis": {
             "endlinecolor": "#2a3f5f",
             "gridcolor": "white",
             "linecolor": "white",
             "minorgridcolor": "white",
             "startlinecolor": "#2a3f5f"
            },
            "baxis": {
             "endlinecolor": "#2a3f5f",
             "gridcolor": "white",
             "linecolor": "white",
             "minorgridcolor": "white",
             "startlinecolor": "#2a3f5f"
            },
            "type": "carpet"
           }
          ],
          "choropleth": [
           {
            "colorbar": {
             "outlinewidth": 0,
             "ticks": ""
            },
            "type": "choropleth"
           }
          ],
          "contour": [
           {
            "colorbar": {
             "outlinewidth": 0,
             "ticks": ""
            },
            "colorscale": [
             [
              0,
              "#0d0887"
             ],
             [
              0.1111111111111111,
              "#46039f"
             ],
             [
              0.2222222222222222,
              "#7201a8"
             ],
             [
              0.3333333333333333,
              "#9c179e"
             ],
             [
              0.4444444444444444,
              "#bd3786"
             ],
             [
              0.5555555555555556,
              "#d8576b"
             ],
             [
              0.6666666666666666,
              "#ed7953"
             ],
             [
              0.7777777777777778,
              "#fb9f3a"
             ],
             [
              0.8888888888888888,
              "#fdca26"
             ],
             [
              1,
              "#f0f921"
             ]
            ],
            "type": "contour"
           }
          ],
          "contourcarpet": [
           {
            "colorbar": {
             "outlinewidth": 0,
             "ticks": ""
            },
            "type": "contourcarpet"
           }
          ],
          "heatmap": [
           {
            "colorbar": {
             "outlinewidth": 0,
             "ticks": ""
            },
            "colorscale": [
             [
              0,
              "#0d0887"
             ],
             [
              0.1111111111111111,
              "#46039f"
             ],
             [
              0.2222222222222222,
              "#7201a8"
             ],
             [
              0.3333333333333333,
              "#9c179e"
             ],
             [
              0.4444444444444444,
              "#bd3786"
             ],
             [
              0.5555555555555556,
              "#d8576b"
             ],
             [
              0.6666666666666666,
              "#ed7953"
             ],
             [
              0.7777777777777778,
              "#fb9f3a"
             ],
             [
              0.8888888888888888,
              "#fdca26"
             ],
             [
              1,
              "#f0f921"
             ]
            ],
            "type": "heatmap"
           }
          ],
          "histogram": [
           {
            "marker": {
             "pattern": {
              "fillmode": "overlay",
              "size": 10,
              "solidity": 0.2
             }
            },
            "type": "histogram"
           }
          ],
          "histogram2d": [
           {
            "colorbar": {
             "outlinewidth": 0,
             "ticks": ""
            },
            "colorscale": [
             [
              0,
              "#0d0887"
             ],
             [
              0.1111111111111111,
              "#46039f"
             ],
             [
              0.2222222222222222,
              "#7201a8"
             ],
             [
              0.3333333333333333,
              "#9c179e"
             ],
             [
              0.4444444444444444,
              "#bd3786"
             ],
             [
              0.5555555555555556,
              "#d8576b"
             ],
             [
              0.6666666666666666,
              "#ed7953"
             ],
             [
              0.7777777777777778,
              "#fb9f3a"
             ],
             [
              0.8888888888888888,
              "#fdca26"
             ],
             [
              1,
              "#f0f921"
             ]
            ],
            "type": "histogram2d"
           }
          ],
          "histogram2dcontour": [
           {
            "colorbar": {
             "outlinewidth": 0,
             "ticks": ""
            },
            "colorscale": [
             [
              0,
              "#0d0887"
             ],
             [
              0.1111111111111111,
              "#46039f"
             ],
             [
              0.2222222222222222,
              "#7201a8"
             ],
             [
              0.3333333333333333,
              "#9c179e"
             ],
             [
              0.4444444444444444,
              "#bd3786"
             ],
             [
              0.5555555555555556,
              "#d8576b"
             ],
             [
              0.6666666666666666,
              "#ed7953"
             ],
             [
              0.7777777777777778,
              "#fb9f3a"
             ],
             [
              0.8888888888888888,
              "#fdca26"
             ],
             [
              1,
              "#f0f921"
             ]
            ],
            "type": "histogram2dcontour"
           }
          ],
          "mesh3d": [
           {
            "colorbar": {
             "outlinewidth": 0,
             "ticks": ""
            },
            "type": "mesh3d"
           }
          ],
          "parcoords": [
           {
            "line": {
             "colorbar": {
              "outlinewidth": 0,
              "ticks": ""
             }
            },
            "type": "parcoords"
           }
          ],
          "pie": [
           {
            "automargin": true,
            "type": "pie"
           }
          ],
          "scatter": [
           {
            "fillpattern": {
             "fillmode": "overlay",
             "size": 10,
             "solidity": 0.2
            },
            "type": "scatter"
           }
          ],
          "scatter3d": [
           {
            "line": {
             "colorbar": {
              "outlinewidth": 0,
              "ticks": ""
             }
            },
            "marker": {
             "colorbar": {
              "outlinewidth": 0,
              "ticks": ""
             }
            },
            "type": "scatter3d"
           }
          ],
          "scattercarpet": [
           {
            "marker": {
             "colorbar": {
              "outlinewidth": 0,
              "ticks": ""
             }
            },
            "type": "scattercarpet"
           }
          ],
          "scattergeo": [
           {
            "marker": {
             "colorbar": {
              "outlinewidth": 0,
              "ticks": ""
             }
            },
            "type": "scattergeo"
           }
          ],
          "scattergl": [
           {
            "marker": {
             "colorbar": {
              "outlinewidth": 0,
              "ticks": ""
             }
            },
            "type": "scattergl"
           }
          ],
          "scattermap": [
           {
            "marker": {
             "colorbar": {
              "outlinewidth": 0,
              "ticks": ""
             }
            },
            "type": "scattermap"
           }
          ],
          "scattermapbox": [
           {
            "marker": {
             "colorbar": {
              "outlinewidth": 0,
              "ticks": ""
             }
            },
            "type": "scattermapbox"
           }
          ],
          "scatterpolar": [
           {
            "marker": {
             "colorbar": {
              "outlinewidth": 0,
              "ticks": ""
             }
            },
            "type": "scatterpolar"
           }
          ],
          "scatterpolargl": [
           {
            "marker": {
             "colorbar": {
              "outlinewidth": 0,
              "ticks": ""
             }
            },
            "type": "scatterpolargl"
           }
          ],
          "scatterternary": [
           {
            "marker": {
             "colorbar": {
              "outlinewidth": 0,
              "ticks": ""
             }
            },
            "type": "scatterternary"
           }
          ],
          "surface": [
           {
            "colorbar": {
             "outlinewidth": 0,
             "ticks": ""
            },
            "colorscale": [
             [
              0,
              "#0d0887"
             ],
             [
              0.1111111111111111,
              "#46039f"
             ],
             [
              0.2222222222222222,
              "#7201a8"
             ],
             [
              0.3333333333333333,
              "#9c179e"
             ],
             [
              0.4444444444444444,
              "#bd3786"
             ],
             [
              0.5555555555555556,
              "#d8576b"
             ],
             [
              0.6666666666666666,
              "#ed7953"
             ],
             [
              0.7777777777777778,
              "#fb9f3a"
             ],
             [
              0.8888888888888888,
              "#fdca26"
             ],
             [
              1,
              "#f0f921"
             ]
            ],
            "type": "surface"
           }
          ],
          "table": [
           {
            "cells": {
             "fill": {
              "color": "#EBF0F8"
             },
             "line": {
              "color": "white"
             }
            },
            "header": {
             "fill": {
              "color": "#C8D4E3"
             },
             "line": {
              "color": "white"
             }
            },
            "type": "table"
           }
          ]
         },
         "layout": {
          "annotationdefaults": {
           "arrowcolor": "#2a3f5f",
           "arrowhead": 0,
           "arrowwidth": 1
          },
          "autotypenumbers": "strict",
          "coloraxis": {
           "colorbar": {
            "outlinewidth": 0,
            "ticks": ""
           }
          },
          "colorscale": {
           "diverging": [
            [
             0,
             "#8e0152"
            ],
            [
             0.1,
             "#c51b7d"
            ],
            [
             0.2,
             "#de77ae"
            ],
            [
             0.3,
             "#f1b6da"
            ],
            [
             0.4,
             "#fde0ef"
            ],
            [
             0.5,
             "#f7f7f7"
            ],
            [
             0.6,
             "#e6f5d0"
            ],
            [
             0.7,
             "#b8e186"
            ],
            [
             0.8,
             "#7fbc41"
            ],
            [
             0.9,
             "#4d9221"
            ],
            [
             1,
             "#276419"
            ]
           ],
           "sequential": [
            [
             0,
             "#0d0887"
            ],
            [
             0.1111111111111111,
             "#46039f"
            ],
            [
             0.2222222222222222,
             "#7201a8"
            ],
            [
             0.3333333333333333,
             "#9c179e"
            ],
            [
             0.4444444444444444,
             "#bd3786"
            ],
            [
             0.5555555555555556,
             "#d8576b"
            ],
            [
             0.6666666666666666,
             "#ed7953"
            ],
            [
             0.7777777777777778,
             "#fb9f3a"
            ],
            [
             0.8888888888888888,
             "#fdca26"
            ],
            [
             1,
             "#f0f921"
            ]
           ],
           "sequentialminus": [
            [
             0,
             "#0d0887"
            ],
            [
             0.1111111111111111,
             "#46039f"
            ],
            [
             0.2222222222222222,
             "#7201a8"
            ],
            [
             0.3333333333333333,
             "#9c179e"
            ],
            [
             0.4444444444444444,
             "#bd3786"
            ],
            [
             0.5555555555555556,
             "#d8576b"
            ],
            [
             0.6666666666666666,
             "#ed7953"
            ],
            [
             0.7777777777777778,
             "#fb9f3a"
            ],
            [
             0.8888888888888888,
             "#fdca26"
            ],
            [
             1,
             "#f0f921"
            ]
           ]
          },
          "colorway": [
           "#636efa",
           "#EF553B",
           "#00cc96",
           "#ab63fa",
           "#FFA15A",
           "#19d3f3",
           "#FF6692",
           "#B6E880",
           "#FF97FF",
           "#FECB52"
          ],
          "font": {
           "color": "#2a3f5f"
          },
          "geo": {
           "bgcolor": "white",
           "lakecolor": "white",
           "landcolor": "#E5ECF6",
           "showlakes": true,
           "showland": true,
           "subunitcolor": "white"
          },
          "hoverlabel": {
           "align": "left"
          },
          "hovermode": "closest",
          "mapbox": {
           "style": "light"
          },
          "paper_bgcolor": "white",
          "plot_bgcolor": "#E5ECF6",
          "polar": {
           "angularaxis": {
            "gridcolor": "white",
            "linecolor": "white",
            "ticks": ""
           },
           "bgcolor": "#E5ECF6",
           "radialaxis": {
            "gridcolor": "white",
            "linecolor": "white",
            "ticks": ""
           }
          },
          "scene": {
           "xaxis": {
            "backgroundcolor": "#E5ECF6",
            "gridcolor": "white",
            "gridwidth": 2,
            "linecolor": "white",
            "showbackground": true,
            "ticks": "",
            "zerolinecolor": "white"
           },
           "yaxis": {
            "backgroundcolor": "#E5ECF6",
            "gridcolor": "white",
            "gridwidth": 2,
            "linecolor": "white",
            "showbackground": true,
            "ticks": "",
            "zerolinecolor": "white"
           },
           "zaxis": {
            "backgroundcolor": "#E5ECF6",
            "gridcolor": "white",
            "gridwidth": 2,
            "linecolor": "white",
            "showbackground": true,
            "ticks": "",
            "zerolinecolor": "white"
           }
          },
          "shapedefaults": {
           "line": {
            "color": "#2a3f5f"
           }
          },
          "ternary": {
           "aaxis": {
            "gridcolor": "white",
            "linecolor": "white",
            "ticks": ""
           },
           "baxis": {
            "gridcolor": "white",
            "linecolor": "white",
            "ticks": ""
           },
           "bgcolor": "#E5ECF6",
           "caxis": {
            "gridcolor": "white",
            "linecolor": "white",
            "ticks": ""
           }
          },
          "title": {
           "x": 0.05
          },
          "xaxis": {
           "automargin": true,
           "gridcolor": "white",
           "linecolor": "white",
           "ticks": "",
           "title": {
            "standoff": 15
           },
           "zerolinecolor": "white",
           "zerolinewidth": 2
          },
          "yaxis": {
           "automargin": true,
           "gridcolor": "white",
           "linecolor": "white",
           "ticks": "",
           "title": {
            "standoff": 15
           },
           "zerolinecolor": "white",
           "zerolinewidth": 2
          }
         }
        },
        "title": {
         "text": "Total Satisfaction by Attrition Status"
        },
        "width": 1000,
        "xaxis": {
         "anchor": "y",
         "categoryarray": [
          1,
          0
         ],
         "categoryorder": "array",
         "domain": [
          0,
          1
         ],
         "title": {
          "text": "Attrition (0=No, 1=Yes)"
         }
        },
        "yaxis": {
         "anchor": "x",
         "domain": [
          0,
          1
         ],
         "title": {
          "text": "Total Satisfaction"
         }
        }
       }
      }
     },
     "metadata": {},
     "output_type": "display_data"
    }
   ],
   "source": [
    "# Box plot: TotalSatisfaction by Attrition\n",
    "fig = px.box(df, x=\"Attrition\", y=\"TotalSatisfaction\", points=\"all\",\n",
    "             title=\"Total Satisfaction by Attrition Status\",\n",
    "             labels={\"Attrition\": \"Attrition (0=No, 1=Yes)\", \"TotalSatisfaction\": \"Total Satisfaction\"},\n",
    "             color=\"Attrition\",\n",
    "             color_discrete_map={0: \"purple\", 1: \"yellowgreen\"},\n",
    "             width= 1000,\n",
    "             height= 600\n",
    ")\n",
    "fig.show()"
   ]
  },
  {
   "cell_type": "code",
   "execution_count": 65,
   "metadata": {},
   "outputs": [
    {
     "data": {
      "application/vnd.plotly.v1+json": {
       "config": {
        "plotlyServerURL": "https://plot.ly"
       },
       "data": [
        {
         "alignmentgroup": "True",
         "boxpoints": "all",
         "hovertemplate": "Attrition (0=No, 1=Yes)=%{x}<br>JobSatisfaction=%{y}<extra></extra>",
         "legendgroup": "1",
         "marker": {
          "color": "orchid"
         },
         "name": "1",
         "notched": false,
         "offsetgroup": "1",
         "orientation": "v",
         "showlegend": true,
         "type": "box",
         "x": {
          "bdata": "AQEBAQEBAQEBAQEBAQEBAQEBAQEBAQEBAQEBAQEBAQEBAQEBAQEBAQEBAQEBAQEBAQEBAQEBAQEBAQEBAQEBAQEBAQEBAQEBAQEBAQEBAQEBAQEBAQEBAQEBAQEBAQEBAQEBAQEBAQEBAQEBAQEBAQEBAQEBAQEBAQEBAQEBAQEBAQEBAQEBAQEBAQEBAQEBAQEBAQEBAQEBAQEBAQEBAQEBAQEBAQEBAQEBAQEBAQEBAQEBAQEBAQEBAQEBAQEBAQEBAQEBAQEBAQEBAQEBAQEBAQEBAQEBAQEBAQEBAQEBAQEBAQEBAQEBAQEB",
          "dtype": "i1"
         },
         "x0": " ",
         "xaxis": "x",
         "y": {
          "bdata": "BAMDAQEBBAQDAwMDAwMEAQQDAwIDBAMDBAEBBAIDAQQEAQEDBAQBAwMCAwIDAgQDAgQDAQIDAgMCBAEEAQIDAgQDBAMBAwMCBAMDAQEBAQMBAwMCAwQDAQEBAQECAwQEAwIDBAQDBAMEAQICAQQDAwIBAQMCAQICAQQBAwEEAQMBAQEDBAMCAgMEAwEDAQEEAwMEAQICBAIDBAMDAQICAgEBAwQDAwMBBAMCAQQBAgQDAwICAQEBAQMBAQQCAgQBBAEEAwMCBAMDAQIEAgEDAwIBAgQBAQICAQECBAIEAgEEAQMDAgQEAQEEAwMB",
          "dtype": "i1"
         },
         "y0": " ",
         "yaxis": "y"
        },
        {
         "alignmentgroup": "True",
         "boxpoints": "all",
         "hovertemplate": "Attrition (0=No, 1=Yes)=%{x}<br>JobSatisfaction=%{y}<extra></extra>",
         "legendgroup": "0",
         "marker": {
          "color": "mediumseagreen"
         },
         "name": "0",
         "notched": false,
         "offsetgroup": "0",
         "orientation": "v",
         "showlegend": true,
         "type": "box",
         "x": {
          "bdata": "AAAAAAAAAAAAAAAAAAAAAAAAAAAAAAAAAAAAAAAAAAAAAAAAAAAAAAAAAAAAAAAAAAAAAAAAAAAAAAAAAAAAAAAAAAAAAAAAAAAAAAAAAAAAAAAAAAAAAAAAAAAAAAAAAAAAAAAAAAAAAAAAAAAAAAAAAAAAAAAAAAAAAAAAAAAAAAAAAAAAAAAAAAAAAAAAAAAAAAAAAAAAAAAAAAAAAAAAAAAAAAAAAAAAAAAAAAAAAAAAAAAAAAAAAAAAAAAAAAAAAAAAAAAAAAAAAAAAAAAAAAAAAAAAAAAAAAAAAAAAAAAAAAAAAAAAAAAAAAAAAAAAAAAAAAAAAAAAAAAAAAAAAAAAAAAAAAAAAAAAAAAAAAAAAAAAAAAAAAAAAAAAAAAAAAAAAAAAAAAAAAAAAAAAAAAAAAAAAAAAAAAAAAAAAAAAAAAAAAAAAAAAAAAAAAAAAAAAAAAAAAAAAAAAAAAAAAAAAAAAAAAAAAAAAAAAAAAAAAAAAAAAAAAAAAAAAAAAAAAAAAAAAAAAAAAAAAAAAAAAAAAAAAAAAAAAAAAAAAAAAAAAAAAAAAAAAAAAAAAAAAAAAAAAAAAAAAAAAAAAAAAAAAAAAAAAAAAAAAAAAAAAAAAAAAAAAAAAAAAAAAAAAAAAAAAAAAAAAAAAAAAAAAAAAAAAAAAAAAAAAAAAAAAAAAAAAAAAAAAAAAAAAAAAAAAAAAAAAAAAAAAAAAAAAAAAAAAAAAAAAAAAAAAAAAAAAAAAAAAAAAAAAAAAAAAAAAAAAAAAAAAAAAAAAAAAAAAAAAAAAAAAAAAAAAAAAAAAAAAAAAAAAAAAAAAAAAAAAAAAAAAAAAAAAAAAAAAAAAAAAAAAAAAAAAAAAAAAAAAAAAAAAAAAAAAAAAAAAAAAAAAAAAAAAAAAAAAAAAAAAAAAAAAAAAAAAAAAAAAAAAAAAAAAAAAAAAAAAAAAAAAAAAAAAAAAAAAAAAAAAAAAAAAAAAAAAAAAAAAAAAAAAAAAAAAAAAAAAAAAAAAAAAAAAAAAAAAAAAAAAAAAAAAAAAAAAAAAAAAAAAAAAAAAAAAAAAAAAAAAAAAAAAAAAAAAAAAAAAAAAAAAAAAAAAAAAAAAAAAAAAAAAAAAAAAAAAAAAAAAAAAAAAAAAAAAAAAAAAAAAAAAAAAAAAAAAAAAAAAAAAAAAAAAAAAAAAAAAAAAAAAAAAAAAAAAAAAAAAAAAAAAAAAAAAAAAAAAAAAAAAAAAAAAAAAAAAAAAAAAAAAAAAAAAAAAAAAAAAAAAAAAAAAAAAAAAAAAAAAAAAAAAAAAAAAAAAAAAAAAAAAAAAAAAAAAAAAAAAAAAAAAAAAAAAAAAAAAAAAAAAAAAAAAAAAAAAAAAAAAAAAAAAAAAAAAAAAAAAAAAAAAAAAAAAAAAAAAAAAAAAAAAAAAAAAAAAAAAAAAAAAAAAAAAAAAAAAAAAAAAAAAAAAAAAAAAAAAAAAAAAAAAAAAAAAAAAAAAAAAAAAAAAAAAAAAAAAAAAAAAAAAAAAAAAAAAAAAAAAAAAAAAAAAAAAAAAAAAAAAAAAAAAAAAAAAAAAAAAAAAAAAAAAAAAAAAAAAAAAAAAAAAAAAAAAAAAAAAAAAAAAAAAAAAAAAAAAAAAAAAAAA",
          "dtype": "i1"
         },
         "x0": " ",
         "xaxis": "x",
         "y": {
          "bdata": "AgMCBAEDAwMCAwMEAQIEBAQDAgQDAgQBBAQDAwQBAQQBAwQDAgQEAQEEBAEBBAMEBAMBAwMCAQEDAgICBAQBAQMCBAMEBAIEAQQEAgQCAQMDAwMDAgEDBAQCBAQBBAMCBAEEBAQDAgMCBAEDBAMDAgMDBAQDAwQBBAEBAgICAwIEAwMCBAMEAgQEAwIDBAQDAgIBAQEEAQQEAgMBAgMCAwIDAgQEAQIDAwQBBAMEAgQEAQMDAgQEAQICBAMDBAQEAwQEAwQEAwIDBAEEBAMEAQEDAwQBBAMBAwQCBAECAgQBBAQBBAQDBAIBAgIDAwQEAQQEBAECAgQCAgQCAgMBBAQCAwIDBAEBBAIBBAMCAgMEBAQDBAQDAwIDAQQEBAMCBAQEAgIEAgMEAwMCAwEDAwQEBAMDBAEDBAIEAgIEAwQDBAMCAgMBAgECAgMBAwEEAwQDAQMBAwEBAwQEAwQBAwQEAwQEAwEEAwQBBAMDAwMEAgIDAwQEAgQDAwMEAQIEAwQBAwMDBAQDAQIBBAMCAwQCAgIDBAQEAwMCBAQBAwEDAwMEAwMEAwEEBAMDBAQCAgQDAQIEBAIEBAMCAwQEAQQBAQMEAQEDAgEDAwMEAwQDAQIEBAECBAEEAwEBBAMDBAEEBAMEAQQBAQEEAwIBBAIDAwMEAgMDBAIDAwQDAgEEAQQDAgQEAwIBAQEEBAQEAQMEAwQEBAQBAQMEAQEEAgIEBAQCBAQEBAIBBAIEAQQCBAQDAwIDAQIDBAIDAwQBAgIBAQMEAgEEAgQDBAMDBAQDAwQDBAQEAgMCAQQDAwMDAQQDAwEEAQMDAwQEBAMEBAIDBAQDAQQEAwQEAgIDAgMDAgEDBAMDBAEEAQEBAwMEAwIDBAMEBAECBAQDAgMEAgMCAQMCAgQEAgQCAwIEBAMDBAQDAwMDAQMCBAMEAgEEAQEEAQMEAwMEAQMDAQIBAQIBAwMDBAQEAQQCAwEEAgQCAQQBAwQEBAEBBAQDAgIDBAQEAwIDBAMEAgIBAgQCAwECAwIEAgQDAwECBAICAwQDAQQBAQMDAgMDAgMEBAEDAgEBBAIBBAQCBAQEAgMDAwMEAQQCBAMEAgMDAwMEBAEBAwQEAQEEAQQCAQIBAQQBBAMBAwMEAgMDBAECBAECAQMCAwMCAQEDBAMDAwIBAwIDAwMDAgMDAQECAgMEBAECAgIDAwQDAgQBAgQEAQMEAQQCAwIEAwMBAwECAQEEBAQEAgIDAQMDBAMDAQQDAwECBAEDAwQEAgEBAQMEAQEBAQEEAwMDAwMDBAMCBAQEBAMEAwEDAgIBAwICAwMBAwMEAgQCBAECAgMDAQQDBAMEBAIEBAIEBAQEBAMDAwQDAwIDAwIBAQIDBAIEAgQEAwIDAQQDBAMBBAIEAgEDAgQCAQIBAwMEBAMEAwIEAQIBBAMCAQEEAgQDAgMDBAMCAwIBBAEBBAQDAwMCBAQEBAMDBAQDAwEDAgMCAQQEAgMDBAEBAgQEAQMDBAECAgEEBAMEAwMEAwIEAgEBAgQEBAQBAwECBAMBAQQBAQQEBAMDAwICBAEDAwEDBAMCAgIDAwMCAwMBBAIDAwMEAgQCBAMEBAMEBAEEBAIDAwIDBAIBBAQEAwMDAwQCAQQBAwQBAgID",
          "dtype": "i1"
         },
         "y0": " ",
         "yaxis": "y"
        }
       ],
       "layout": {
        "boxmode": "overlay",
        "height": 600,
        "legend": {
         "title": {
          "text": "Attrition (0=No, 1=Yes)"
         },
         "tracegroupgap": 0
        },
        "template": {
         "data": {
          "bar": [
           {
            "error_x": {
             "color": "#2a3f5f"
            },
            "error_y": {
             "color": "#2a3f5f"
            },
            "marker": {
             "line": {
              "color": "#E5ECF6",
              "width": 0.5
             },
             "pattern": {
              "fillmode": "overlay",
              "size": 10,
              "solidity": 0.2
             }
            },
            "type": "bar"
           }
          ],
          "barpolar": [
           {
            "marker": {
             "line": {
              "color": "#E5ECF6",
              "width": 0.5
             },
             "pattern": {
              "fillmode": "overlay",
              "size": 10,
              "solidity": 0.2
             }
            },
            "type": "barpolar"
           }
          ],
          "carpet": [
           {
            "aaxis": {
             "endlinecolor": "#2a3f5f",
             "gridcolor": "white",
             "linecolor": "white",
             "minorgridcolor": "white",
             "startlinecolor": "#2a3f5f"
            },
            "baxis": {
             "endlinecolor": "#2a3f5f",
             "gridcolor": "white",
             "linecolor": "white",
             "minorgridcolor": "white",
             "startlinecolor": "#2a3f5f"
            },
            "type": "carpet"
           }
          ],
          "choropleth": [
           {
            "colorbar": {
             "outlinewidth": 0,
             "ticks": ""
            },
            "type": "choropleth"
           }
          ],
          "contour": [
           {
            "colorbar": {
             "outlinewidth": 0,
             "ticks": ""
            },
            "colorscale": [
             [
              0,
              "#0d0887"
             ],
             [
              0.1111111111111111,
              "#46039f"
             ],
             [
              0.2222222222222222,
              "#7201a8"
             ],
             [
              0.3333333333333333,
              "#9c179e"
             ],
             [
              0.4444444444444444,
              "#bd3786"
             ],
             [
              0.5555555555555556,
              "#d8576b"
             ],
             [
              0.6666666666666666,
              "#ed7953"
             ],
             [
              0.7777777777777778,
              "#fb9f3a"
             ],
             [
              0.8888888888888888,
              "#fdca26"
             ],
             [
              1,
              "#f0f921"
             ]
            ],
            "type": "contour"
           }
          ],
          "contourcarpet": [
           {
            "colorbar": {
             "outlinewidth": 0,
             "ticks": ""
            },
            "type": "contourcarpet"
           }
          ],
          "heatmap": [
           {
            "colorbar": {
             "outlinewidth": 0,
             "ticks": ""
            },
            "colorscale": [
             [
              0,
              "#0d0887"
             ],
             [
              0.1111111111111111,
              "#46039f"
             ],
             [
              0.2222222222222222,
              "#7201a8"
             ],
             [
              0.3333333333333333,
              "#9c179e"
             ],
             [
              0.4444444444444444,
              "#bd3786"
             ],
             [
              0.5555555555555556,
              "#d8576b"
             ],
             [
              0.6666666666666666,
              "#ed7953"
             ],
             [
              0.7777777777777778,
              "#fb9f3a"
             ],
             [
              0.8888888888888888,
              "#fdca26"
             ],
             [
              1,
              "#f0f921"
             ]
            ],
            "type": "heatmap"
           }
          ],
          "histogram": [
           {
            "marker": {
             "pattern": {
              "fillmode": "overlay",
              "size": 10,
              "solidity": 0.2
             }
            },
            "type": "histogram"
           }
          ],
          "histogram2d": [
           {
            "colorbar": {
             "outlinewidth": 0,
             "ticks": ""
            },
            "colorscale": [
             [
              0,
              "#0d0887"
             ],
             [
              0.1111111111111111,
              "#46039f"
             ],
             [
              0.2222222222222222,
              "#7201a8"
             ],
             [
              0.3333333333333333,
              "#9c179e"
             ],
             [
              0.4444444444444444,
              "#bd3786"
             ],
             [
              0.5555555555555556,
              "#d8576b"
             ],
             [
              0.6666666666666666,
              "#ed7953"
             ],
             [
              0.7777777777777778,
              "#fb9f3a"
             ],
             [
              0.8888888888888888,
              "#fdca26"
             ],
             [
              1,
              "#f0f921"
             ]
            ],
            "type": "histogram2d"
           }
          ],
          "histogram2dcontour": [
           {
            "colorbar": {
             "outlinewidth": 0,
             "ticks": ""
            },
            "colorscale": [
             [
              0,
              "#0d0887"
             ],
             [
              0.1111111111111111,
              "#46039f"
             ],
             [
              0.2222222222222222,
              "#7201a8"
             ],
             [
              0.3333333333333333,
              "#9c179e"
             ],
             [
              0.4444444444444444,
              "#bd3786"
             ],
             [
              0.5555555555555556,
              "#d8576b"
             ],
             [
              0.6666666666666666,
              "#ed7953"
             ],
             [
              0.7777777777777778,
              "#fb9f3a"
             ],
             [
              0.8888888888888888,
              "#fdca26"
             ],
             [
              1,
              "#f0f921"
             ]
            ],
            "type": "histogram2dcontour"
           }
          ],
          "mesh3d": [
           {
            "colorbar": {
             "outlinewidth": 0,
             "ticks": ""
            },
            "type": "mesh3d"
           }
          ],
          "parcoords": [
           {
            "line": {
             "colorbar": {
              "outlinewidth": 0,
              "ticks": ""
             }
            },
            "type": "parcoords"
           }
          ],
          "pie": [
           {
            "automargin": true,
            "type": "pie"
           }
          ],
          "scatter": [
           {
            "fillpattern": {
             "fillmode": "overlay",
             "size": 10,
             "solidity": 0.2
            },
            "type": "scatter"
           }
          ],
          "scatter3d": [
           {
            "line": {
             "colorbar": {
              "outlinewidth": 0,
              "ticks": ""
             }
            },
            "marker": {
             "colorbar": {
              "outlinewidth": 0,
              "ticks": ""
             }
            },
            "type": "scatter3d"
           }
          ],
          "scattercarpet": [
           {
            "marker": {
             "colorbar": {
              "outlinewidth": 0,
              "ticks": ""
             }
            },
            "type": "scattercarpet"
           }
          ],
          "scattergeo": [
           {
            "marker": {
             "colorbar": {
              "outlinewidth": 0,
              "ticks": ""
             }
            },
            "type": "scattergeo"
           }
          ],
          "scattergl": [
           {
            "marker": {
             "colorbar": {
              "outlinewidth": 0,
              "ticks": ""
             }
            },
            "type": "scattergl"
           }
          ],
          "scattermap": [
           {
            "marker": {
             "colorbar": {
              "outlinewidth": 0,
              "ticks": ""
             }
            },
            "type": "scattermap"
           }
          ],
          "scattermapbox": [
           {
            "marker": {
             "colorbar": {
              "outlinewidth": 0,
              "ticks": ""
             }
            },
            "type": "scattermapbox"
           }
          ],
          "scatterpolar": [
           {
            "marker": {
             "colorbar": {
              "outlinewidth": 0,
              "ticks": ""
             }
            },
            "type": "scatterpolar"
           }
          ],
          "scatterpolargl": [
           {
            "marker": {
             "colorbar": {
              "outlinewidth": 0,
              "ticks": ""
             }
            },
            "type": "scatterpolargl"
           }
          ],
          "scatterternary": [
           {
            "marker": {
             "colorbar": {
              "outlinewidth": 0,
              "ticks": ""
             }
            },
            "type": "scatterternary"
           }
          ],
          "surface": [
           {
            "colorbar": {
             "outlinewidth": 0,
             "ticks": ""
            },
            "colorscale": [
             [
              0,
              "#0d0887"
             ],
             [
              0.1111111111111111,
              "#46039f"
             ],
             [
              0.2222222222222222,
              "#7201a8"
             ],
             [
              0.3333333333333333,
              "#9c179e"
             ],
             [
              0.4444444444444444,
              "#bd3786"
             ],
             [
              0.5555555555555556,
              "#d8576b"
             ],
             [
              0.6666666666666666,
              "#ed7953"
             ],
             [
              0.7777777777777778,
              "#fb9f3a"
             ],
             [
              0.8888888888888888,
              "#fdca26"
             ],
             [
              1,
              "#f0f921"
             ]
            ],
            "type": "surface"
           }
          ],
          "table": [
           {
            "cells": {
             "fill": {
              "color": "#EBF0F8"
             },
             "line": {
              "color": "white"
             }
            },
            "header": {
             "fill": {
              "color": "#C8D4E3"
             },
             "line": {
              "color": "white"
             }
            },
            "type": "table"
           }
          ]
         },
         "layout": {
          "annotationdefaults": {
           "arrowcolor": "#2a3f5f",
           "arrowhead": 0,
           "arrowwidth": 1
          },
          "autotypenumbers": "strict",
          "coloraxis": {
           "colorbar": {
            "outlinewidth": 0,
            "ticks": ""
           }
          },
          "colorscale": {
           "diverging": [
            [
             0,
             "#8e0152"
            ],
            [
             0.1,
             "#c51b7d"
            ],
            [
             0.2,
             "#de77ae"
            ],
            [
             0.3,
             "#f1b6da"
            ],
            [
             0.4,
             "#fde0ef"
            ],
            [
             0.5,
             "#f7f7f7"
            ],
            [
             0.6,
             "#e6f5d0"
            ],
            [
             0.7,
             "#b8e186"
            ],
            [
             0.8,
             "#7fbc41"
            ],
            [
             0.9,
             "#4d9221"
            ],
            [
             1,
             "#276419"
            ]
           ],
           "sequential": [
            [
             0,
             "#0d0887"
            ],
            [
             0.1111111111111111,
             "#46039f"
            ],
            [
             0.2222222222222222,
             "#7201a8"
            ],
            [
             0.3333333333333333,
             "#9c179e"
            ],
            [
             0.4444444444444444,
             "#bd3786"
            ],
            [
             0.5555555555555556,
             "#d8576b"
            ],
            [
             0.6666666666666666,
             "#ed7953"
            ],
            [
             0.7777777777777778,
             "#fb9f3a"
            ],
            [
             0.8888888888888888,
             "#fdca26"
            ],
            [
             1,
             "#f0f921"
            ]
           ],
           "sequentialminus": [
            [
             0,
             "#0d0887"
            ],
            [
             0.1111111111111111,
             "#46039f"
            ],
            [
             0.2222222222222222,
             "#7201a8"
            ],
            [
             0.3333333333333333,
             "#9c179e"
            ],
            [
             0.4444444444444444,
             "#bd3786"
            ],
            [
             0.5555555555555556,
             "#d8576b"
            ],
            [
             0.6666666666666666,
             "#ed7953"
            ],
            [
             0.7777777777777778,
             "#fb9f3a"
            ],
            [
             0.8888888888888888,
             "#fdca26"
            ],
            [
             1,
             "#f0f921"
            ]
           ]
          },
          "colorway": [
           "#636efa",
           "#EF553B",
           "#00cc96",
           "#ab63fa",
           "#FFA15A",
           "#19d3f3",
           "#FF6692",
           "#B6E880",
           "#FF97FF",
           "#FECB52"
          ],
          "font": {
           "color": "#2a3f5f"
          },
          "geo": {
           "bgcolor": "white",
           "lakecolor": "white",
           "landcolor": "#E5ECF6",
           "showlakes": true,
           "showland": true,
           "subunitcolor": "white"
          },
          "hoverlabel": {
           "align": "left"
          },
          "hovermode": "closest",
          "mapbox": {
           "style": "light"
          },
          "paper_bgcolor": "white",
          "plot_bgcolor": "#E5ECF6",
          "polar": {
           "angularaxis": {
            "gridcolor": "white",
            "linecolor": "white",
            "ticks": ""
           },
           "bgcolor": "#E5ECF6",
           "radialaxis": {
            "gridcolor": "white",
            "linecolor": "white",
            "ticks": ""
           }
          },
          "scene": {
           "xaxis": {
            "backgroundcolor": "#E5ECF6",
            "gridcolor": "white",
            "gridwidth": 2,
            "linecolor": "white",
            "showbackground": true,
            "ticks": "",
            "zerolinecolor": "white"
           },
           "yaxis": {
            "backgroundcolor": "#E5ECF6",
            "gridcolor": "white",
            "gridwidth": 2,
            "linecolor": "white",
            "showbackground": true,
            "ticks": "",
            "zerolinecolor": "white"
           },
           "zaxis": {
            "backgroundcolor": "#E5ECF6",
            "gridcolor": "white",
            "gridwidth": 2,
            "linecolor": "white",
            "showbackground": true,
            "ticks": "",
            "zerolinecolor": "white"
           }
          },
          "shapedefaults": {
           "line": {
            "color": "#2a3f5f"
           }
          },
          "ternary": {
           "aaxis": {
            "gridcolor": "white",
            "linecolor": "white",
            "ticks": ""
           },
           "baxis": {
            "gridcolor": "white",
            "linecolor": "white",
            "ticks": ""
           },
           "bgcolor": "#E5ECF6",
           "caxis": {
            "gridcolor": "white",
            "linecolor": "white",
            "ticks": ""
           }
          },
          "title": {
           "x": 0.05
          },
          "xaxis": {
           "automargin": true,
           "gridcolor": "white",
           "linecolor": "white",
           "ticks": "",
           "title": {
            "standoff": 15
           },
           "zerolinecolor": "white",
           "zerolinewidth": 2
          },
          "yaxis": {
           "automargin": true,
           "gridcolor": "white",
           "linecolor": "white",
           "ticks": "",
           "title": {
            "standoff": 15
           },
           "zerolinecolor": "white",
           "zerolinewidth": 2
          }
         }
        },
        "title": {
         "text": "JobSatisfaction by Attrition Status"
        },
        "width": 1000,
        "xaxis": {
         "anchor": "y",
         "categoryarray": [
          1,
          0
         ],
         "categoryorder": "array",
         "domain": [
          0,
          1
         ],
         "title": {
          "text": "Attrition (0=No, 1=Yes)"
         }
        },
        "yaxis": {
         "anchor": "x",
         "domain": [
          0,
          1
         ],
         "title": {
          "text": "JobSatisfaction"
         }
        }
       }
      }
     },
     "metadata": {},
     "output_type": "display_data"
    },
    {
     "data": {
      "application/vnd.plotly.v1+json": {
       "config": {
        "plotlyServerURL": "https://plot.ly"
       },
       "data": [
        {
         "alignmentgroup": "True",
         "boxpoints": "all",
         "hovertemplate": "Attrition (0=No, 1=Yes)=%{x}<br>EnvironmentSatisfaction=%{y}<extra></extra>",
         "legendgroup": "1",
         "marker": {
          "color": "orchid"
         },
         "name": "1",
         "notched": false,
         "offsetgroup": "1",
         "orientation": "v",
         "showlegend": true,
         "type": "box",
         "x": {
          "bdata": "AQEBAQEBAQEBAQEBAQEBAQEBAQEBAQEBAQEBAQEBAQEBAQEBAQEBAQEBAQEBAQEBAQEBAQEBAQEBAQEBAQEBAQEBAQEBAQEBAQEBAQEBAQEBAQEBAQEBAQEBAQEBAQEBAQEBAQEBAQEBAQEBAQEBAQEBAQEBAQEBAQEBAQEBAQEBAQEBAQEBAQEBAQEBAQEBAQEBAQEBAQEBAQEBAQEBAQEBAQEBAQEBAQEBAQEBAQEBAQEBAQEBAQEBAQEBAQEBAQEBAQEBAQEBAQEBAQEBAQEBAQEBAQEBAQEBAQEBAQEBAQEBAQEBAQEBAQEB",
          "dtype": "i1"
         },
         "x0": " ",
         "xaxis": "x",
         "y": {
          "bdata": "AgQDAwICBAIBAQIBAwQDAwQDAQICBAQCAQEDAgICAgIEBAMDAwMBBAEDAQEEAQQDAwEEAgEEAQMDAQMDAQEEAwECAQECAwICAwQBAgIDAQQBAQIBAwQCBAQDAgEEAwMDAwQCAQQDBAICBAMEAQMBBAIDBAEDBAIBAgEDAQEEAwECAgQBBAEBAQQBAwEDBAMDAQMDAQQBAwEBAQIEAwQCBAEDAQMEBAQBAwIBAQEBAwIBAQEBAgMBBAQCAQMDAwIEAQEEBAQEAwQDAgEDAgEBAwIDAwMEBAQEBAEDBAMCBAQBAwQBAQMBAQQBBAIE",
          "dtype": "i1"
         },
         "y0": " ",
         "yaxis": "y"
        },
        {
         "alignmentgroup": "True",
         "boxpoints": "all",
         "hovertemplate": "Attrition (0=No, 1=Yes)=%{x}<br>EnvironmentSatisfaction=%{y}<extra></extra>",
         "legendgroup": "0",
         "marker": {
          "color": "mediumseagreen"
         },
         "name": "0",
         "notched": false,
         "offsetgroup": "0",
         "orientation": "v",
         "showlegend": true,
         "type": "box",
         "x": {
          "bdata": "AAAAAAAAAAAAAAAAAAAAAAAAAAAAAAAAAAAAAAAAAAAAAAAAAAAAAAAAAAAAAAAAAAAAAAAAAAAAAAAAAAAAAAAAAAAAAAAAAAAAAAAAAAAAAAAAAAAAAAAAAAAAAAAAAAAAAAAAAAAAAAAAAAAAAAAAAAAAAAAAAAAAAAAAAAAAAAAAAAAAAAAAAAAAAAAAAAAAAAAAAAAAAAAAAAAAAAAAAAAAAAAAAAAAAAAAAAAAAAAAAAAAAAAAAAAAAAAAAAAAAAAAAAAAAAAAAAAAAAAAAAAAAAAAAAAAAAAAAAAAAAAAAAAAAAAAAAAAAAAAAAAAAAAAAAAAAAAAAAAAAAAAAAAAAAAAAAAAAAAAAAAAAAAAAAAAAAAAAAAAAAAAAAAAAAAAAAAAAAAAAAAAAAAAAAAAAAAAAAAAAAAAAAAAAAAAAAAAAAAAAAAAAAAAAAAAAAAAAAAAAAAAAAAAAAAAAAAAAAAAAAAAAAAAAAAAAAAAAAAAAAAAAAAAAAAAAAAAAAAAAAAAAAAAAAAAAAAAAAAAAAAAAAAAAAAAAAAAAAAAAAAAAAAAAAAAAAAAAAAAAAAAAAAAAAAAAAAAAAAAAAAAAAAAAAAAAAAAAAAAAAAAAAAAAAAAAAAAAAAAAAAAAAAAAAAAAAAAAAAAAAAAAAAAAAAAAAAAAAAAAAAAAAAAAAAAAAAAAAAAAAAAAAAAAAAAAAAAAAAAAAAAAAAAAAAAAAAAAAAAAAAAAAAAAAAAAAAAAAAAAAAAAAAAAAAAAAAAAAAAAAAAAAAAAAAAAAAAAAAAAAAAAAAAAAAAAAAAAAAAAAAAAAAAAAAAAAAAAAAAAAAAAAAAAAAAAAAAAAAAAAAAAAAAAAAAAAAAAAAAAAAAAAAAAAAAAAAAAAAAAAAAAAAAAAAAAAAAAAAAAAAAAAAAAAAAAAAAAAAAAAAAAAAAAAAAAAAAAAAAAAAAAAAAAAAAAAAAAAAAAAAAAAAAAAAAAAAAAAAAAAAAAAAAAAAAAAAAAAAAAAAAAAAAAAAAAAAAAAAAAAAAAAAAAAAAAAAAAAAAAAAAAAAAAAAAAAAAAAAAAAAAAAAAAAAAAAAAAAAAAAAAAAAAAAAAAAAAAAAAAAAAAAAAAAAAAAAAAAAAAAAAAAAAAAAAAAAAAAAAAAAAAAAAAAAAAAAAAAAAAAAAAAAAAAAAAAAAAAAAAAAAAAAAAAAAAAAAAAAAAAAAAAAAAAAAAAAAAAAAAAAAAAAAAAAAAAAAAAAAAAAAAAAAAAAAAAAAAAAAAAAAAAAAAAAAAAAAAAAAAAAAAAAAAAAAAAAAAAAAAAAAAAAAAAAAAAAAAAAAAAAAAAAAAAAAAAAAAAAAAAAAAAAAAAAAAAAAAAAAAAAAAAAAAAAAAAAAAAAAAAAAAAAAAAAAAAAAAAAAAAAAAAAAAAAAAAAAAAAAAAAAAAAAAAAAAAAAAAAAAAAAAAAAAAAAAAAAAAAAAAAAAAAAAAAAAAAAAAAAAAAAAAAAAAAAAAAAAAAAAAAAAAAAAAAAAAAAAAAAAAAAAAAAAAAAAAAAAAAAAAAAAAAAAAAAAAAAAAAAAAAAAAAAAAAAAAAAAAAAAAAAAAAAAAAAAAAAAAAAAAAAAAAAAAAAAAAAAAAAAAAA",
          "dtype": "i1"
         },
         "x0": " ",
         "xaxis": "x",
         "y": {
          "bdata": "AwQBBAMEBAMBBAECAgEEAQQBAQMDAwECAwQEBAQCAwMEBAMCAgEEAgMDAQIDBAEBBAIBAwQCAgIBAwMCAgMDBAECBAIBAgEEAwQDAwMDAwIBAQIEAgQBAwMBBAIBBAIDAwMCAQMBAwEDAwMCAwMDAgQBAwMEAQQEAgQDAgIDAgICBAICAwMDBAMDAwMBAgEDAwQDAwMDAgMDBAMEBAQDBAQDBAQBAgIDBAQDBAQDBAIEBAMEAgQEBAQDAgEDAwECAwMDAgQEAQMDAwMBAwIDBAMBAwMEBAEEAQMCBAQDAQICAwQEBAMEAQIBAwEDAgICAQQEBAMDBAIDAwMEBAQCAgMCBAEEAwEBAwQDAwMDAwQEAQQDAwIEAwMEAwQCAgQCBAMDBAMDBAIBBAMDAQMEAwEEAQQEAQMDBAMEAwQCAgMEAwQDAQIEBAIDAQIBAwIEAwICBAIDAgIDBAEEAQMBAwQEAwEDAgMBAgMDAQEEAwQDAwQEAgICAQQCAgMCBAQEAQMDAQEBBAIBAgEEBAMCBAIBBAECAgEBAQQEAwIDBAQBAwMEAQMBAwQCAwMCAgMDAgEDAQQEAgIEBAQEBAQCAwMEBAMCAQQEBAEDAQQDAwQCAgMDBAQEBAQBBAIDAwIBBAEEAQICBAMEAQMBBAMDAgMEAwMDAwMEBAMDAQMCAgEDAgMDAgMEAQQBAQMCAgIBBAMDBAIEAQIBAwQEAwMBAgIDBAEEAwQEAwEBBAQBAgEBAwQDAgIDAwMCBAEEBAIEAwEDBAMEBAMCAwMDBAMDAwQBAwEEAgQEAwEDBAQEAwQEAwIDAwIEAgEDBAQBAgQBAwMCAgQEBAIEBAICAgMDBAMCBAMBBAMBBAMDBAEDAgMBAQQDBAEBBAQEAwECAgMDBAEEAwMEAwEDAQQEBAQCAgMDAgMEAgMCAgQEAQMDAwQEAwQCAwEEAQQCAwQCAwIEBAQDAgMDBAMEBAIDBAMBAgMEAQMBBAEBBAMDAwMBAwQBAwQEAwIEAgQDBAQDBAQDBAMDAwIEAwQCAwQEAwIDAQEEBAMEAgEEAwMEBAMEAwMDAwIDBAIBBAMEBAQEBAECAgQDAwECBAMCAwMBBAEEAQMDAQMBAwIEBAIBBAEEAgEDAQMBAQQEBAIDAQIEAgMEBAMEAQMEBAQEAQEDAgMCBAQCAwMEAQMBAwMEAwQDAgQCAwQBBAMCAwEDBAQEAQIDAwQBAgQDAwMBAwQDBAMBAwIBAwICAgEEAQMEAQQCBAQEAwQCAgICAgMBBAMDAwIEAgIDBAMBAwMBBAQCAwEDAQIEAwIEBAEEAwQBAwQEAgMEAQQEAQQEAgMEBAMBAwQCBAECAwIDAgMBBAMEBAMDBAQBAgMCAgMEAgMDAwQEBAIDBAEBAwQDBAQEAwQDAgICAwQDBAECBAQBAQIDBAMEAwMCAwICAQMBAgMBAwICAgMCBAEDAgMBAgMEAQQEBAMCBAMEBAECBAEEBAQCAgICAwQEBAICAQIBBAIDAwMDBAEDAgIDAQIDAwQBBAQCAgICAwMBAQQDAQMEAQMEBAEEAQQDBAIEAwMCBAQCAwQEAQIEAQEEBAMEBAICAwECAQIDAwEBAgMEAQQDAQEEBAMEAwECBAMDAwMEBAICBAMEAgQC",
          "dtype": "i1"
         },
         "y0": " ",
         "yaxis": "y"
        }
       ],
       "layout": {
        "boxmode": "overlay",
        "height": 600,
        "legend": {
         "title": {
          "text": "Attrition (0=No, 1=Yes)"
         },
         "tracegroupgap": 0
        },
        "template": {
         "data": {
          "bar": [
           {
            "error_x": {
             "color": "#2a3f5f"
            },
            "error_y": {
             "color": "#2a3f5f"
            },
            "marker": {
             "line": {
              "color": "#E5ECF6",
              "width": 0.5
             },
             "pattern": {
              "fillmode": "overlay",
              "size": 10,
              "solidity": 0.2
             }
            },
            "type": "bar"
           }
          ],
          "barpolar": [
           {
            "marker": {
             "line": {
              "color": "#E5ECF6",
              "width": 0.5
             },
             "pattern": {
              "fillmode": "overlay",
              "size": 10,
              "solidity": 0.2
             }
            },
            "type": "barpolar"
           }
          ],
          "carpet": [
           {
            "aaxis": {
             "endlinecolor": "#2a3f5f",
             "gridcolor": "white",
             "linecolor": "white",
             "minorgridcolor": "white",
             "startlinecolor": "#2a3f5f"
            },
            "baxis": {
             "endlinecolor": "#2a3f5f",
             "gridcolor": "white",
             "linecolor": "white",
             "minorgridcolor": "white",
             "startlinecolor": "#2a3f5f"
            },
            "type": "carpet"
           }
          ],
          "choropleth": [
           {
            "colorbar": {
             "outlinewidth": 0,
             "ticks": ""
            },
            "type": "choropleth"
           }
          ],
          "contour": [
           {
            "colorbar": {
             "outlinewidth": 0,
             "ticks": ""
            },
            "colorscale": [
             [
              0,
              "#0d0887"
             ],
             [
              0.1111111111111111,
              "#46039f"
             ],
             [
              0.2222222222222222,
              "#7201a8"
             ],
             [
              0.3333333333333333,
              "#9c179e"
             ],
             [
              0.4444444444444444,
              "#bd3786"
             ],
             [
              0.5555555555555556,
              "#d8576b"
             ],
             [
              0.6666666666666666,
              "#ed7953"
             ],
             [
              0.7777777777777778,
              "#fb9f3a"
             ],
             [
              0.8888888888888888,
              "#fdca26"
             ],
             [
              1,
              "#f0f921"
             ]
            ],
            "type": "contour"
           }
          ],
          "contourcarpet": [
           {
            "colorbar": {
             "outlinewidth": 0,
             "ticks": ""
            },
            "type": "contourcarpet"
           }
          ],
          "heatmap": [
           {
            "colorbar": {
             "outlinewidth": 0,
             "ticks": ""
            },
            "colorscale": [
             [
              0,
              "#0d0887"
             ],
             [
              0.1111111111111111,
              "#46039f"
             ],
             [
              0.2222222222222222,
              "#7201a8"
             ],
             [
              0.3333333333333333,
              "#9c179e"
             ],
             [
              0.4444444444444444,
              "#bd3786"
             ],
             [
              0.5555555555555556,
              "#d8576b"
             ],
             [
              0.6666666666666666,
              "#ed7953"
             ],
             [
              0.7777777777777778,
              "#fb9f3a"
             ],
             [
              0.8888888888888888,
              "#fdca26"
             ],
             [
              1,
              "#f0f921"
             ]
            ],
            "type": "heatmap"
           }
          ],
          "histogram": [
           {
            "marker": {
             "pattern": {
              "fillmode": "overlay",
              "size": 10,
              "solidity": 0.2
             }
            },
            "type": "histogram"
           }
          ],
          "histogram2d": [
           {
            "colorbar": {
             "outlinewidth": 0,
             "ticks": ""
            },
            "colorscale": [
             [
              0,
              "#0d0887"
             ],
             [
              0.1111111111111111,
              "#46039f"
             ],
             [
              0.2222222222222222,
              "#7201a8"
             ],
             [
              0.3333333333333333,
              "#9c179e"
             ],
             [
              0.4444444444444444,
              "#bd3786"
             ],
             [
              0.5555555555555556,
              "#d8576b"
             ],
             [
              0.6666666666666666,
              "#ed7953"
             ],
             [
              0.7777777777777778,
              "#fb9f3a"
             ],
             [
              0.8888888888888888,
              "#fdca26"
             ],
             [
              1,
              "#f0f921"
             ]
            ],
            "type": "histogram2d"
           }
          ],
          "histogram2dcontour": [
           {
            "colorbar": {
             "outlinewidth": 0,
             "ticks": ""
            },
            "colorscale": [
             [
              0,
              "#0d0887"
             ],
             [
              0.1111111111111111,
              "#46039f"
             ],
             [
              0.2222222222222222,
              "#7201a8"
             ],
             [
              0.3333333333333333,
              "#9c179e"
             ],
             [
              0.4444444444444444,
              "#bd3786"
             ],
             [
              0.5555555555555556,
              "#d8576b"
             ],
             [
              0.6666666666666666,
              "#ed7953"
             ],
             [
              0.7777777777777778,
              "#fb9f3a"
             ],
             [
              0.8888888888888888,
              "#fdca26"
             ],
             [
              1,
              "#f0f921"
             ]
            ],
            "type": "histogram2dcontour"
           }
          ],
          "mesh3d": [
           {
            "colorbar": {
             "outlinewidth": 0,
             "ticks": ""
            },
            "type": "mesh3d"
           }
          ],
          "parcoords": [
           {
            "line": {
             "colorbar": {
              "outlinewidth": 0,
              "ticks": ""
             }
            },
            "type": "parcoords"
           }
          ],
          "pie": [
           {
            "automargin": true,
            "type": "pie"
           }
          ],
          "scatter": [
           {
            "fillpattern": {
             "fillmode": "overlay",
             "size": 10,
             "solidity": 0.2
            },
            "type": "scatter"
           }
          ],
          "scatter3d": [
           {
            "line": {
             "colorbar": {
              "outlinewidth": 0,
              "ticks": ""
             }
            },
            "marker": {
             "colorbar": {
              "outlinewidth": 0,
              "ticks": ""
             }
            },
            "type": "scatter3d"
           }
          ],
          "scattercarpet": [
           {
            "marker": {
             "colorbar": {
              "outlinewidth": 0,
              "ticks": ""
             }
            },
            "type": "scattercarpet"
           }
          ],
          "scattergeo": [
           {
            "marker": {
             "colorbar": {
              "outlinewidth": 0,
              "ticks": ""
             }
            },
            "type": "scattergeo"
           }
          ],
          "scattergl": [
           {
            "marker": {
             "colorbar": {
              "outlinewidth": 0,
              "ticks": ""
             }
            },
            "type": "scattergl"
           }
          ],
          "scattermap": [
           {
            "marker": {
             "colorbar": {
              "outlinewidth": 0,
              "ticks": ""
             }
            },
            "type": "scattermap"
           }
          ],
          "scattermapbox": [
           {
            "marker": {
             "colorbar": {
              "outlinewidth": 0,
              "ticks": ""
             }
            },
            "type": "scattermapbox"
           }
          ],
          "scatterpolar": [
           {
            "marker": {
             "colorbar": {
              "outlinewidth": 0,
              "ticks": ""
             }
            },
            "type": "scatterpolar"
           }
          ],
          "scatterpolargl": [
           {
            "marker": {
             "colorbar": {
              "outlinewidth": 0,
              "ticks": ""
             }
            },
            "type": "scatterpolargl"
           }
          ],
          "scatterternary": [
           {
            "marker": {
             "colorbar": {
              "outlinewidth": 0,
              "ticks": ""
             }
            },
            "type": "scatterternary"
           }
          ],
          "surface": [
           {
            "colorbar": {
             "outlinewidth": 0,
             "ticks": ""
            },
            "colorscale": [
             [
              0,
              "#0d0887"
             ],
             [
              0.1111111111111111,
              "#46039f"
             ],
             [
              0.2222222222222222,
              "#7201a8"
             ],
             [
              0.3333333333333333,
              "#9c179e"
             ],
             [
              0.4444444444444444,
              "#bd3786"
             ],
             [
              0.5555555555555556,
              "#d8576b"
             ],
             [
              0.6666666666666666,
              "#ed7953"
             ],
             [
              0.7777777777777778,
              "#fb9f3a"
             ],
             [
              0.8888888888888888,
              "#fdca26"
             ],
             [
              1,
              "#f0f921"
             ]
            ],
            "type": "surface"
           }
          ],
          "table": [
           {
            "cells": {
             "fill": {
              "color": "#EBF0F8"
             },
             "line": {
              "color": "white"
             }
            },
            "header": {
             "fill": {
              "color": "#C8D4E3"
             },
             "line": {
              "color": "white"
             }
            },
            "type": "table"
           }
          ]
         },
         "layout": {
          "annotationdefaults": {
           "arrowcolor": "#2a3f5f",
           "arrowhead": 0,
           "arrowwidth": 1
          },
          "autotypenumbers": "strict",
          "coloraxis": {
           "colorbar": {
            "outlinewidth": 0,
            "ticks": ""
           }
          },
          "colorscale": {
           "diverging": [
            [
             0,
             "#8e0152"
            ],
            [
             0.1,
             "#c51b7d"
            ],
            [
             0.2,
             "#de77ae"
            ],
            [
             0.3,
             "#f1b6da"
            ],
            [
             0.4,
             "#fde0ef"
            ],
            [
             0.5,
             "#f7f7f7"
            ],
            [
             0.6,
             "#e6f5d0"
            ],
            [
             0.7,
             "#b8e186"
            ],
            [
             0.8,
             "#7fbc41"
            ],
            [
             0.9,
             "#4d9221"
            ],
            [
             1,
             "#276419"
            ]
           ],
           "sequential": [
            [
             0,
             "#0d0887"
            ],
            [
             0.1111111111111111,
             "#46039f"
            ],
            [
             0.2222222222222222,
             "#7201a8"
            ],
            [
             0.3333333333333333,
             "#9c179e"
            ],
            [
             0.4444444444444444,
             "#bd3786"
            ],
            [
             0.5555555555555556,
             "#d8576b"
            ],
            [
             0.6666666666666666,
             "#ed7953"
            ],
            [
             0.7777777777777778,
             "#fb9f3a"
            ],
            [
             0.8888888888888888,
             "#fdca26"
            ],
            [
             1,
             "#f0f921"
            ]
           ],
           "sequentialminus": [
            [
             0,
             "#0d0887"
            ],
            [
             0.1111111111111111,
             "#46039f"
            ],
            [
             0.2222222222222222,
             "#7201a8"
            ],
            [
             0.3333333333333333,
             "#9c179e"
            ],
            [
             0.4444444444444444,
             "#bd3786"
            ],
            [
             0.5555555555555556,
             "#d8576b"
            ],
            [
             0.6666666666666666,
             "#ed7953"
            ],
            [
             0.7777777777777778,
             "#fb9f3a"
            ],
            [
             0.8888888888888888,
             "#fdca26"
            ],
            [
             1,
             "#f0f921"
            ]
           ]
          },
          "colorway": [
           "#636efa",
           "#EF553B",
           "#00cc96",
           "#ab63fa",
           "#FFA15A",
           "#19d3f3",
           "#FF6692",
           "#B6E880",
           "#FF97FF",
           "#FECB52"
          ],
          "font": {
           "color": "#2a3f5f"
          },
          "geo": {
           "bgcolor": "white",
           "lakecolor": "white",
           "landcolor": "#E5ECF6",
           "showlakes": true,
           "showland": true,
           "subunitcolor": "white"
          },
          "hoverlabel": {
           "align": "left"
          },
          "hovermode": "closest",
          "mapbox": {
           "style": "light"
          },
          "paper_bgcolor": "white",
          "plot_bgcolor": "#E5ECF6",
          "polar": {
           "angularaxis": {
            "gridcolor": "white",
            "linecolor": "white",
            "ticks": ""
           },
           "bgcolor": "#E5ECF6",
           "radialaxis": {
            "gridcolor": "white",
            "linecolor": "white",
            "ticks": ""
           }
          },
          "scene": {
           "xaxis": {
            "backgroundcolor": "#E5ECF6",
            "gridcolor": "white",
            "gridwidth": 2,
            "linecolor": "white",
            "showbackground": true,
            "ticks": "",
            "zerolinecolor": "white"
           },
           "yaxis": {
            "backgroundcolor": "#E5ECF6",
            "gridcolor": "white",
            "gridwidth": 2,
            "linecolor": "white",
            "showbackground": true,
            "ticks": "",
            "zerolinecolor": "white"
           },
           "zaxis": {
            "backgroundcolor": "#E5ECF6",
            "gridcolor": "white",
            "gridwidth": 2,
            "linecolor": "white",
            "showbackground": true,
            "ticks": "",
            "zerolinecolor": "white"
           }
          },
          "shapedefaults": {
           "line": {
            "color": "#2a3f5f"
           }
          },
          "ternary": {
           "aaxis": {
            "gridcolor": "white",
            "linecolor": "white",
            "ticks": ""
           },
           "baxis": {
            "gridcolor": "white",
            "linecolor": "white",
            "ticks": ""
           },
           "bgcolor": "#E5ECF6",
           "caxis": {
            "gridcolor": "white",
            "linecolor": "white",
            "ticks": ""
           }
          },
          "title": {
           "x": 0.05
          },
          "xaxis": {
           "automargin": true,
           "gridcolor": "white",
           "linecolor": "white",
           "ticks": "",
           "title": {
            "standoff": 15
           },
           "zerolinecolor": "white",
           "zerolinewidth": 2
          },
          "yaxis": {
           "automargin": true,
           "gridcolor": "white",
           "linecolor": "white",
           "ticks": "",
           "title": {
            "standoff": 15
           },
           "zerolinecolor": "white",
           "zerolinewidth": 2
          }
         }
        },
        "title": {
         "text": "EnvironmentSatisfaction by Attrition Status"
        },
        "width": 1000,
        "xaxis": {
         "anchor": "y",
         "categoryarray": [
          1,
          0
         ],
         "categoryorder": "array",
         "domain": [
          0,
          1
         ],
         "title": {
          "text": "Attrition (0=No, 1=Yes)"
         }
        },
        "yaxis": {
         "anchor": "x",
         "domain": [
          0,
          1
         ],
         "title": {
          "text": "EnvironmentSatisfaction"
         }
        }
       }
      }
     },
     "metadata": {},
     "output_type": "display_data"
    },
    {
     "data": {
      "application/vnd.plotly.v1+json": {
       "config": {
        "plotlyServerURL": "https://plot.ly"
       },
       "data": [
        {
         "alignmentgroup": "True",
         "boxpoints": "all",
         "hovertemplate": "Attrition (0=No, 1=Yes)=%{x}<br>RelationshipSatisfaction=%{y}<extra></extra>",
         "legendgroup": "1",
         "marker": {
          "color": "orchid"
         },
         "name": "1",
         "notched": false,
         "offsetgroup": "1",
         "orientation": "v",
         "showlegend": true,
         "type": "box",
         "x": {
          "bdata": "AQEBAQEBAQEBAQEBAQEBAQEBAQEBAQEBAQEBAQEBAQEBAQEBAQEBAQEBAQEBAQEBAQEBAQEBAQEBAQEBAQEBAQEBAQEBAQEBAQEBAQEBAQEBAQEBAQEBAQEBAQEBAQEBAQEBAQEBAQEBAQEBAQEBAQEBAQEBAQEBAQEBAQEBAQEBAQEBAQEBAQEBAQEBAQEBAQEBAQEBAQEBAQEBAQEBAQEBAQEBAQEBAQEBAQEBAQEBAQEBAQEBAQEBAQEBAQEBAQEBAQEBAQEBAQEBAQEBAQEBAQEBAQEBAQEBAQEBAQEBAQEBAQEBAQEBAQEB",
          "dtype": "i1"
         },
         "x0": " ",
         "xaxis": "x",
         "y": {
          "bdata": "AQICAgMCAwEDAwQEAwEEBAIEBAECBAQDBAEBAwQBAgQDAwMEAwMBBAICAwQEBAIDAQQBBAMCAwEEAgMDAwIEAgMEAQEDAwIEAgQEAwMCBAQBAQEEBAMEBAMDBAMEBAEDAQEDAwQEAQEDBAMCAgEDAQQBAwIEAQEBBAQDAgICAQMBBAECAgMCAQQEBAEDAQIEAgMCAQECBAEDBAEBAQMDAQMEAwMDBAQBAQIDAQECAQMEBAEDAwMDAgEEBAIBAwMDBAIBAQMBAgMDAgIDAwMBBAIDAwQDAgMEAwQDAgMDAQIEBAQBAQEDAgECBAQC",
          "dtype": "i1"
         },
         "y0": " ",
         "yaxis": "y"
        },
        {
         "alignmentgroup": "True",
         "boxpoints": "all",
         "hovertemplate": "Attrition (0=No, 1=Yes)=%{x}<br>RelationshipSatisfaction=%{y}<extra></extra>",
         "legendgroup": "0",
         "marker": {
          "color": "mediumseagreen"
         },
         "name": "0",
         "notched": false,
         "offsetgroup": "0",
         "orientation": "v",
         "showlegend": true,
         "type": "box",
         "x": {
          "bdata": "AAAAAAAAAAAAAAAAAAAAAAAAAAAAAAAAAAAAAAAAAAAAAAAAAAAAAAAAAAAAAAAAAAAAAAAAAAAAAAAAAAAAAAAAAAAAAAAAAAAAAAAAAAAAAAAAAAAAAAAAAAAAAAAAAAAAAAAAAAAAAAAAAAAAAAAAAAAAAAAAAAAAAAAAAAAAAAAAAAAAAAAAAAAAAAAAAAAAAAAAAAAAAAAAAAAAAAAAAAAAAAAAAAAAAAAAAAAAAAAAAAAAAAAAAAAAAAAAAAAAAAAAAAAAAAAAAAAAAAAAAAAAAAAAAAAAAAAAAAAAAAAAAAAAAAAAAAAAAAAAAAAAAAAAAAAAAAAAAAAAAAAAAAAAAAAAAAAAAAAAAAAAAAAAAAAAAAAAAAAAAAAAAAAAAAAAAAAAAAAAAAAAAAAAAAAAAAAAAAAAAAAAAAAAAAAAAAAAAAAAAAAAAAAAAAAAAAAAAAAAAAAAAAAAAAAAAAAAAAAAAAAAAAAAAAAAAAAAAAAAAAAAAAAAAAAAAAAAAAAAAAAAAAAAAAAAAAAAAAAAAAAAAAAAAAAAAAAAAAAAAAAAAAAAAAAAAAAAAAAAAAAAAAAAAAAAAAAAAAAAAAAAAAAAAAAAAAAAAAAAAAAAAAAAAAAAAAAAAAAAAAAAAAAAAAAAAAAAAAAAAAAAAAAAAAAAAAAAAAAAAAAAAAAAAAAAAAAAAAAAAAAAAAAAAAAAAAAAAAAAAAAAAAAAAAAAAAAAAAAAAAAAAAAAAAAAAAAAAAAAAAAAAAAAAAAAAAAAAAAAAAAAAAAAAAAAAAAAAAAAAAAAAAAAAAAAAAAAAAAAAAAAAAAAAAAAAAAAAAAAAAAAAAAAAAAAAAAAAAAAAAAAAAAAAAAAAAAAAAAAAAAAAAAAAAAAAAAAAAAAAAAAAAAAAAAAAAAAAAAAAAAAAAAAAAAAAAAAAAAAAAAAAAAAAAAAAAAAAAAAAAAAAAAAAAAAAAAAAAAAAAAAAAAAAAAAAAAAAAAAAAAAAAAAAAAAAAAAAAAAAAAAAAAAAAAAAAAAAAAAAAAAAAAAAAAAAAAAAAAAAAAAAAAAAAAAAAAAAAAAAAAAAAAAAAAAAAAAAAAAAAAAAAAAAAAAAAAAAAAAAAAAAAAAAAAAAAAAAAAAAAAAAAAAAAAAAAAAAAAAAAAAAAAAAAAAAAAAAAAAAAAAAAAAAAAAAAAAAAAAAAAAAAAAAAAAAAAAAAAAAAAAAAAAAAAAAAAAAAAAAAAAAAAAAAAAAAAAAAAAAAAAAAAAAAAAAAAAAAAAAAAAAAAAAAAAAAAAAAAAAAAAAAAAAAAAAAAAAAAAAAAAAAAAAAAAAAAAAAAAAAAAAAAAAAAAAAAAAAAAAAAAAAAAAAAAAAAAAAAAAAAAAAAAAAAAAAAAAAAAAAAAAAAAAAAAAAAAAAAAAAAAAAAAAAAAAAAAAAAAAAAAAAAAAAAAAAAAAAAAAAAAAAAAAAAAAAAAAAAAAAAAAAAAAAAAAAAAAAAAAAAAAAAAAAAAAAAAAAAAAAAAAAAAAAAAAAAAAAAAAAAAAAAAAAAAAAAAAAAAAAAAAAAAAAAAAAAAAAAAAAAAAAAAAAAAAAAAAAAAAAAAAAAAAAAAAAAAAAAAAAAAAAAAAAAAAAAAAAAAAAAA",
          "dtype": "i1"
         },
         "x0": " ",
         "xaxis": "x",
         "y": {
          "bdata": "BAMEAwECAgIDBAQDAwQCAwMEAwQEBAQEBAQBBAEEAQMEBAQDAQMEAwMDAwQDBAMCBAQEAgMDAwQEBAICAgQCAgEEAwEEBAMBAwIBBAQCAwEBAQIDAwQDBAQBAwMDAwMDAQQDAQQDAQMDAwMEBAMEBAMEBAICAwQEBAIEBAEBBAMEAQMCAQQBBAMCBAIBAwMBBAMDAQMBAwMDBAQDBAIEAwMBBAQEAQQCAgEDAQQDAQEEAwMEBAMEBAQEAwMEAQMEAQIEBAMDBAEDAQEBAwEDAgEEBAEDBAQDBAIDBAQCAgIEAgMDBAIBAQIDAQEEAwEEAwICBAQEAwMEAwQEAgEDAgEDAwMEAwQBAgIEAQQCBAEEAwQBAQMCAgQEAQEDAwMBAwIDAQQDBAECAQMDAgECAgICAQMDAwIDBAQEAwIEAwMCAwQBBAIDAwIEAwIDAQIBBAIBAwMEAgMEAwQEAgMEAwQDBAIDAwMDAgMEAwMDAwMDBAEDBAQBBAQDAwEDBAICAwMDAQEEBAQEAgQCAwMCAwIEBAMDBAQEAwMEAgMEAgECBAMBBAQEAwQEAwMBAgMDAwQDAQMBBAQCAQMCAQQDBAQEAwMCBAMCBAEEAwQEAwMEBAMDBAEEBAEEAgMBAgEEAwIBAQEDAgICBAMCAwQCAgMCBAQDAQMDBAIDBAIEBAMDAwICAQMDAwQDAQQEAwIEAwMDBAQBAwQDBAICAQIEBAQCAgMBAgMCAQQEAwMDBAIDAQECAwIBAgQCBAMBBAMCAwICAwMDBAMBAgICAgMBAgIEAwQEAQQDAQICAwMEAgICAwQDAwMCAQQCAgMCAQICAQQCAwMBAwQCAgQDAQEEAgEEAQIDBAICAgIDAQEDAwEEBAIEAwQDAwQDBAMEBAIBAgQDAwEDAwEBAQQCBAQBAwQEAQMDAQIDBAIEAgEEAgMCAwQBAwMCAQIBAQQEAwQDAwEEAQMBAgQDAQIDBAMCAgIBAwIEAQQBAQQCBAIDAwMCAgMCBAMEBAQCBAMEAQQDAwQEBAQEBAICAwIEAwMEBAEBAwECBAEBAQQEAQIEAwQCAgQEAwMEAwICAwICAQMCAQQEAwQCAQQBAQICAgEEBAMDAQMCBAEEAwQEAgMDAgMBAwEEAgMDAQEDAQIEBAEDBAQCAgMDAQQDAwMCAQIEAQMCAwECBAMEBAEDAgECAQMEBAQCBAQCAgEDBAQDBAIEAgMBAQEEAwEEAwICAgQDAwIBBAIBBAMBBAMEBAQEAgMDBAICAwQEAgEBBAIBBAQBBAIDAwQEBAEEAQQBBAMCAwEDAwMDAwIDAQMDAgMBAwEEAgMDAQICAwEEAQMCAQQDAwQDAwQDAgIDAQQCAwMEAwMBBAICAgQCAgQCAwQEAwIDBAQDAwQBAQQDAgMDAgMCAgQCAwQCAQIBBAEDBAMCAwMDBAMDBAQDAQQCBAMEAgMCAgQDAQECAwIEAwMCAwIDAwIEBAQEBAQEBAICBAEBBAIDBAQEAQMCAgQDAwIEAwIBAwIDAwMCAwMEAwMEBAMEAwQCAQMEAQICAQQBAgMDAgIBAwEEAwQCAwEDAwMDAgMBAwQDAQEDBAIBAwMCAQEDAQICAwQDAwIBAQMEAQMEAwMBAwQEAgQBAgECBAMBAgQB",
          "dtype": "i1"
         },
         "y0": " ",
         "yaxis": "y"
        }
       ],
       "layout": {
        "boxmode": "overlay",
        "height": 600,
        "legend": {
         "title": {
          "text": "Attrition (0=No, 1=Yes)"
         },
         "tracegroupgap": 0
        },
        "template": {
         "data": {
          "bar": [
           {
            "error_x": {
             "color": "#2a3f5f"
            },
            "error_y": {
             "color": "#2a3f5f"
            },
            "marker": {
             "line": {
              "color": "#E5ECF6",
              "width": 0.5
             },
             "pattern": {
              "fillmode": "overlay",
              "size": 10,
              "solidity": 0.2
             }
            },
            "type": "bar"
           }
          ],
          "barpolar": [
           {
            "marker": {
             "line": {
              "color": "#E5ECF6",
              "width": 0.5
             },
             "pattern": {
              "fillmode": "overlay",
              "size": 10,
              "solidity": 0.2
             }
            },
            "type": "barpolar"
           }
          ],
          "carpet": [
           {
            "aaxis": {
             "endlinecolor": "#2a3f5f",
             "gridcolor": "white",
             "linecolor": "white",
             "minorgridcolor": "white",
             "startlinecolor": "#2a3f5f"
            },
            "baxis": {
             "endlinecolor": "#2a3f5f",
             "gridcolor": "white",
             "linecolor": "white",
             "minorgridcolor": "white",
             "startlinecolor": "#2a3f5f"
            },
            "type": "carpet"
           }
          ],
          "choropleth": [
           {
            "colorbar": {
             "outlinewidth": 0,
             "ticks": ""
            },
            "type": "choropleth"
           }
          ],
          "contour": [
           {
            "colorbar": {
             "outlinewidth": 0,
             "ticks": ""
            },
            "colorscale": [
             [
              0,
              "#0d0887"
             ],
             [
              0.1111111111111111,
              "#46039f"
             ],
             [
              0.2222222222222222,
              "#7201a8"
             ],
             [
              0.3333333333333333,
              "#9c179e"
             ],
             [
              0.4444444444444444,
              "#bd3786"
             ],
             [
              0.5555555555555556,
              "#d8576b"
             ],
             [
              0.6666666666666666,
              "#ed7953"
             ],
             [
              0.7777777777777778,
              "#fb9f3a"
             ],
             [
              0.8888888888888888,
              "#fdca26"
             ],
             [
              1,
              "#f0f921"
             ]
            ],
            "type": "contour"
           }
          ],
          "contourcarpet": [
           {
            "colorbar": {
             "outlinewidth": 0,
             "ticks": ""
            },
            "type": "contourcarpet"
           }
          ],
          "heatmap": [
           {
            "colorbar": {
             "outlinewidth": 0,
             "ticks": ""
            },
            "colorscale": [
             [
              0,
              "#0d0887"
             ],
             [
              0.1111111111111111,
              "#46039f"
             ],
             [
              0.2222222222222222,
              "#7201a8"
             ],
             [
              0.3333333333333333,
              "#9c179e"
             ],
             [
              0.4444444444444444,
              "#bd3786"
             ],
             [
              0.5555555555555556,
              "#d8576b"
             ],
             [
              0.6666666666666666,
              "#ed7953"
             ],
             [
              0.7777777777777778,
              "#fb9f3a"
             ],
             [
              0.8888888888888888,
              "#fdca26"
             ],
             [
              1,
              "#f0f921"
             ]
            ],
            "type": "heatmap"
           }
          ],
          "histogram": [
           {
            "marker": {
             "pattern": {
              "fillmode": "overlay",
              "size": 10,
              "solidity": 0.2
             }
            },
            "type": "histogram"
           }
          ],
          "histogram2d": [
           {
            "colorbar": {
             "outlinewidth": 0,
             "ticks": ""
            },
            "colorscale": [
             [
              0,
              "#0d0887"
             ],
             [
              0.1111111111111111,
              "#46039f"
             ],
             [
              0.2222222222222222,
              "#7201a8"
             ],
             [
              0.3333333333333333,
              "#9c179e"
             ],
             [
              0.4444444444444444,
              "#bd3786"
             ],
             [
              0.5555555555555556,
              "#d8576b"
             ],
             [
              0.6666666666666666,
              "#ed7953"
             ],
             [
              0.7777777777777778,
              "#fb9f3a"
             ],
             [
              0.8888888888888888,
              "#fdca26"
             ],
             [
              1,
              "#f0f921"
             ]
            ],
            "type": "histogram2d"
           }
          ],
          "histogram2dcontour": [
           {
            "colorbar": {
             "outlinewidth": 0,
             "ticks": ""
            },
            "colorscale": [
             [
              0,
              "#0d0887"
             ],
             [
              0.1111111111111111,
              "#46039f"
             ],
             [
              0.2222222222222222,
              "#7201a8"
             ],
             [
              0.3333333333333333,
              "#9c179e"
             ],
             [
              0.4444444444444444,
              "#bd3786"
             ],
             [
              0.5555555555555556,
              "#d8576b"
             ],
             [
              0.6666666666666666,
              "#ed7953"
             ],
             [
              0.7777777777777778,
              "#fb9f3a"
             ],
             [
              0.8888888888888888,
              "#fdca26"
             ],
             [
              1,
              "#f0f921"
             ]
            ],
            "type": "histogram2dcontour"
           }
          ],
          "mesh3d": [
           {
            "colorbar": {
             "outlinewidth": 0,
             "ticks": ""
            },
            "type": "mesh3d"
           }
          ],
          "parcoords": [
           {
            "line": {
             "colorbar": {
              "outlinewidth": 0,
              "ticks": ""
             }
            },
            "type": "parcoords"
           }
          ],
          "pie": [
           {
            "automargin": true,
            "type": "pie"
           }
          ],
          "scatter": [
           {
            "fillpattern": {
             "fillmode": "overlay",
             "size": 10,
             "solidity": 0.2
            },
            "type": "scatter"
           }
          ],
          "scatter3d": [
           {
            "line": {
             "colorbar": {
              "outlinewidth": 0,
              "ticks": ""
             }
            },
            "marker": {
             "colorbar": {
              "outlinewidth": 0,
              "ticks": ""
             }
            },
            "type": "scatter3d"
           }
          ],
          "scattercarpet": [
           {
            "marker": {
             "colorbar": {
              "outlinewidth": 0,
              "ticks": ""
             }
            },
            "type": "scattercarpet"
           }
          ],
          "scattergeo": [
           {
            "marker": {
             "colorbar": {
              "outlinewidth": 0,
              "ticks": ""
             }
            },
            "type": "scattergeo"
           }
          ],
          "scattergl": [
           {
            "marker": {
             "colorbar": {
              "outlinewidth": 0,
              "ticks": ""
             }
            },
            "type": "scattergl"
           }
          ],
          "scattermap": [
           {
            "marker": {
             "colorbar": {
              "outlinewidth": 0,
              "ticks": ""
             }
            },
            "type": "scattermap"
           }
          ],
          "scattermapbox": [
           {
            "marker": {
             "colorbar": {
              "outlinewidth": 0,
              "ticks": ""
             }
            },
            "type": "scattermapbox"
           }
          ],
          "scatterpolar": [
           {
            "marker": {
             "colorbar": {
              "outlinewidth": 0,
              "ticks": ""
             }
            },
            "type": "scatterpolar"
           }
          ],
          "scatterpolargl": [
           {
            "marker": {
             "colorbar": {
              "outlinewidth": 0,
              "ticks": ""
             }
            },
            "type": "scatterpolargl"
           }
          ],
          "scatterternary": [
           {
            "marker": {
             "colorbar": {
              "outlinewidth": 0,
              "ticks": ""
             }
            },
            "type": "scatterternary"
           }
          ],
          "surface": [
           {
            "colorbar": {
             "outlinewidth": 0,
             "ticks": ""
            },
            "colorscale": [
             [
              0,
              "#0d0887"
             ],
             [
              0.1111111111111111,
              "#46039f"
             ],
             [
              0.2222222222222222,
              "#7201a8"
             ],
             [
              0.3333333333333333,
              "#9c179e"
             ],
             [
              0.4444444444444444,
              "#bd3786"
             ],
             [
              0.5555555555555556,
              "#d8576b"
             ],
             [
              0.6666666666666666,
              "#ed7953"
             ],
             [
              0.7777777777777778,
              "#fb9f3a"
             ],
             [
              0.8888888888888888,
              "#fdca26"
             ],
             [
              1,
              "#f0f921"
             ]
            ],
            "type": "surface"
           }
          ],
          "table": [
           {
            "cells": {
             "fill": {
              "color": "#EBF0F8"
             },
             "line": {
              "color": "white"
             }
            },
            "header": {
             "fill": {
              "color": "#C8D4E3"
             },
             "line": {
              "color": "white"
             }
            },
            "type": "table"
           }
          ]
         },
         "layout": {
          "annotationdefaults": {
           "arrowcolor": "#2a3f5f",
           "arrowhead": 0,
           "arrowwidth": 1
          },
          "autotypenumbers": "strict",
          "coloraxis": {
           "colorbar": {
            "outlinewidth": 0,
            "ticks": ""
           }
          },
          "colorscale": {
           "diverging": [
            [
             0,
             "#8e0152"
            ],
            [
             0.1,
             "#c51b7d"
            ],
            [
             0.2,
             "#de77ae"
            ],
            [
             0.3,
             "#f1b6da"
            ],
            [
             0.4,
             "#fde0ef"
            ],
            [
             0.5,
             "#f7f7f7"
            ],
            [
             0.6,
             "#e6f5d0"
            ],
            [
             0.7,
             "#b8e186"
            ],
            [
             0.8,
             "#7fbc41"
            ],
            [
             0.9,
             "#4d9221"
            ],
            [
             1,
             "#276419"
            ]
           ],
           "sequential": [
            [
             0,
             "#0d0887"
            ],
            [
             0.1111111111111111,
             "#46039f"
            ],
            [
             0.2222222222222222,
             "#7201a8"
            ],
            [
             0.3333333333333333,
             "#9c179e"
            ],
            [
             0.4444444444444444,
             "#bd3786"
            ],
            [
             0.5555555555555556,
             "#d8576b"
            ],
            [
             0.6666666666666666,
             "#ed7953"
            ],
            [
             0.7777777777777778,
             "#fb9f3a"
            ],
            [
             0.8888888888888888,
             "#fdca26"
            ],
            [
             1,
             "#f0f921"
            ]
           ],
           "sequentialminus": [
            [
             0,
             "#0d0887"
            ],
            [
             0.1111111111111111,
             "#46039f"
            ],
            [
             0.2222222222222222,
             "#7201a8"
            ],
            [
             0.3333333333333333,
             "#9c179e"
            ],
            [
             0.4444444444444444,
             "#bd3786"
            ],
            [
             0.5555555555555556,
             "#d8576b"
            ],
            [
             0.6666666666666666,
             "#ed7953"
            ],
            [
             0.7777777777777778,
             "#fb9f3a"
            ],
            [
             0.8888888888888888,
             "#fdca26"
            ],
            [
             1,
             "#f0f921"
            ]
           ]
          },
          "colorway": [
           "#636efa",
           "#EF553B",
           "#00cc96",
           "#ab63fa",
           "#FFA15A",
           "#19d3f3",
           "#FF6692",
           "#B6E880",
           "#FF97FF",
           "#FECB52"
          ],
          "font": {
           "color": "#2a3f5f"
          },
          "geo": {
           "bgcolor": "white",
           "lakecolor": "white",
           "landcolor": "#E5ECF6",
           "showlakes": true,
           "showland": true,
           "subunitcolor": "white"
          },
          "hoverlabel": {
           "align": "left"
          },
          "hovermode": "closest",
          "mapbox": {
           "style": "light"
          },
          "paper_bgcolor": "white",
          "plot_bgcolor": "#E5ECF6",
          "polar": {
           "angularaxis": {
            "gridcolor": "white",
            "linecolor": "white",
            "ticks": ""
           },
           "bgcolor": "#E5ECF6",
           "radialaxis": {
            "gridcolor": "white",
            "linecolor": "white",
            "ticks": ""
           }
          },
          "scene": {
           "xaxis": {
            "backgroundcolor": "#E5ECF6",
            "gridcolor": "white",
            "gridwidth": 2,
            "linecolor": "white",
            "showbackground": true,
            "ticks": "",
            "zerolinecolor": "white"
           },
           "yaxis": {
            "backgroundcolor": "#E5ECF6",
            "gridcolor": "white",
            "gridwidth": 2,
            "linecolor": "white",
            "showbackground": true,
            "ticks": "",
            "zerolinecolor": "white"
           },
           "zaxis": {
            "backgroundcolor": "#E5ECF6",
            "gridcolor": "white",
            "gridwidth": 2,
            "linecolor": "white",
            "showbackground": true,
            "ticks": "",
            "zerolinecolor": "white"
           }
          },
          "shapedefaults": {
           "line": {
            "color": "#2a3f5f"
           }
          },
          "ternary": {
           "aaxis": {
            "gridcolor": "white",
            "linecolor": "white",
            "ticks": ""
           },
           "baxis": {
            "gridcolor": "white",
            "linecolor": "white",
            "ticks": ""
           },
           "bgcolor": "#E5ECF6",
           "caxis": {
            "gridcolor": "white",
            "linecolor": "white",
            "ticks": ""
           }
          },
          "title": {
           "x": 0.05
          },
          "xaxis": {
           "automargin": true,
           "gridcolor": "white",
           "linecolor": "white",
           "ticks": "",
           "title": {
            "standoff": 15
           },
           "zerolinecolor": "white",
           "zerolinewidth": 2
          },
          "yaxis": {
           "automargin": true,
           "gridcolor": "white",
           "linecolor": "white",
           "ticks": "",
           "title": {
            "standoff": 15
           },
           "zerolinecolor": "white",
           "zerolinewidth": 2
          }
         }
        },
        "title": {
         "text": "RelationshipSatisfaction by Attrition Status"
        },
        "width": 1000,
        "xaxis": {
         "anchor": "y",
         "categoryarray": [
          1,
          0
         ],
         "categoryorder": "array",
         "domain": [
          0,
          1
         ],
         "title": {
          "text": "Attrition (0=No, 1=Yes)"
         }
        },
        "yaxis": {
         "anchor": "x",
         "domain": [
          0,
          1
         ],
         "title": {
          "text": "RelationshipSatisfaction"
         }
        }
       }
      }
     },
     "metadata": {},
     "output_type": "display_data"
    },
    {
     "data": {
      "application/vnd.plotly.v1+json": {
       "config": {
        "plotlyServerURL": "https://plot.ly"
       },
       "data": [
        {
         "alignmentgroup": "True",
         "boxpoints": "all",
         "hovertemplate": "Attrition (0=No, 1=Yes)=%{x}<br>WorkLifeBalance=%{y}<extra></extra>",
         "legendgroup": "1",
         "marker": {
          "color": "orchid"
         },
         "name": "1",
         "notched": false,
         "offsetgroup": "1",
         "orientation": "v",
         "showlegend": true,
         "type": "box",
         "x": {
          "bdata": "AQEBAQEBAQEBAQEBAQEBAQEBAQEBAQEBAQEBAQEBAQEBAQEBAQEBAQEBAQEBAQEBAQEBAQEBAQEBAQEBAQEBAQEBAQEBAQEBAQEBAQEBAQEBAQEBAQEBAQEBAQEBAQEBAQEBAQEBAQEBAQEBAQEBAQEBAQEBAQEBAQEBAQEBAQEBAQEBAQEBAQEBAQEBAQEBAQEBAQEBAQEBAQEBAQEBAQEBAQEBAQEBAQEBAQEBAQEBAQEBAQEBAQEBAQEBAQEBAQEBAQEBAQEBAQEBAQEBAQEBAQEBAQEBAQEBAQEBAQEBAQEBAQEBAQEBAQEB",
          "dtype": "i1"
         },
         "x0": " ",
         "xaxis": "x",
         "y": {
          "bdata": "AQMDAwMDBAIDAgMDAgIDAwMDAwMCAgIDAwQEAgIDAwICAwICAgEEAQMEAQIBAwMDAgICAgMDAwMDAgMDAwMCBAQEAwMDAwIDAQMDBAEDAwMDAwMDAwIDAwIDAwMDAgQCAwIDAQICAgQCAQMEAwMBAwIDAwMBAwMBAwMDAgMDAgQCAwMDBAIDAwMDAwMCAQICAgMDAQEEAwMBAwMDAwMCBAQCAgQCAgMDAwMEAwQEAwEDBAEEAgIBAQEDAwMDAwQDAgEEAwMDAwMBAwMCAwIDAwMDAgMCAQMEAwMCAgMCAwMDAwMDAwIDAgIEAQMD",
          "dtype": "i1"
         },
         "y0": " ",
         "yaxis": "y"
        },
        {
         "alignmentgroup": "True",
         "boxpoints": "all",
         "hovertemplate": "Attrition (0=No, 1=Yes)=%{x}<br>WorkLifeBalance=%{y}<extra></extra>",
         "legendgroup": "0",
         "marker": {
          "color": "mediumseagreen"
         },
         "name": "0",
         "notched": false,
         "offsetgroup": "0",
         "orientation": "v",
         "showlegend": true,
         "type": "box",
         "x": {
          "bdata": "AAAAAAAAAAAAAAAAAAAAAAAAAAAAAAAAAAAAAAAAAAAAAAAAAAAAAAAAAAAAAAAAAAAAAAAAAAAAAAAAAAAAAAAAAAAAAAAAAAAAAAAAAAAAAAAAAAAAAAAAAAAAAAAAAAAAAAAAAAAAAAAAAAAAAAAAAAAAAAAAAAAAAAAAAAAAAAAAAAAAAAAAAAAAAAAAAAAAAAAAAAAAAAAAAAAAAAAAAAAAAAAAAAAAAAAAAAAAAAAAAAAAAAAAAAAAAAAAAAAAAAAAAAAAAAAAAAAAAAAAAAAAAAAAAAAAAAAAAAAAAAAAAAAAAAAAAAAAAAAAAAAAAAAAAAAAAAAAAAAAAAAAAAAAAAAAAAAAAAAAAAAAAAAAAAAAAAAAAAAAAAAAAAAAAAAAAAAAAAAAAAAAAAAAAAAAAAAAAAAAAAAAAAAAAAAAAAAAAAAAAAAAAAAAAAAAAAAAAAAAAAAAAAAAAAAAAAAAAAAAAAAAAAAAAAAAAAAAAAAAAAAAAAAAAAAAAAAAAAAAAAAAAAAAAAAAAAAAAAAAAAAAAAAAAAAAAAAAAAAAAAAAAAAAAAAAAAAAAAAAAAAAAAAAAAAAAAAAAAAAAAAAAAAAAAAAAAAAAAAAAAAAAAAAAAAAAAAAAAAAAAAAAAAAAAAAAAAAAAAAAAAAAAAAAAAAAAAAAAAAAAAAAAAAAAAAAAAAAAAAAAAAAAAAAAAAAAAAAAAAAAAAAAAAAAAAAAAAAAAAAAAAAAAAAAAAAAAAAAAAAAAAAAAAAAAAAAAAAAAAAAAAAAAAAAAAAAAAAAAAAAAAAAAAAAAAAAAAAAAAAAAAAAAAAAAAAAAAAAAAAAAAAAAAAAAAAAAAAAAAAAAAAAAAAAAAAAAAAAAAAAAAAAAAAAAAAAAAAAAAAAAAAAAAAAAAAAAAAAAAAAAAAAAAAAAAAAAAAAAAAAAAAAAAAAAAAAAAAAAAAAAAAAAAAAAAAAAAAAAAAAAAAAAAAAAAAAAAAAAAAAAAAAAAAAAAAAAAAAAAAAAAAAAAAAAAAAAAAAAAAAAAAAAAAAAAAAAAAAAAAAAAAAAAAAAAAAAAAAAAAAAAAAAAAAAAAAAAAAAAAAAAAAAAAAAAAAAAAAAAAAAAAAAAAAAAAAAAAAAAAAAAAAAAAAAAAAAAAAAAAAAAAAAAAAAAAAAAAAAAAAAAAAAAAAAAAAAAAAAAAAAAAAAAAAAAAAAAAAAAAAAAAAAAAAAAAAAAAAAAAAAAAAAAAAAAAAAAAAAAAAAAAAAAAAAAAAAAAAAAAAAAAAAAAAAAAAAAAAAAAAAAAAAAAAAAAAAAAAAAAAAAAAAAAAAAAAAAAAAAAAAAAAAAAAAAAAAAAAAAAAAAAAAAAAAAAAAAAAAAAAAAAAAAAAAAAAAAAAAAAAAAAAAAAAAAAAAAAAAAAAAAAAAAAAAAAAAAAAAAAAAAAAAAAAAAAAAAAAAAAAAAAAAAAAAAAAAAAAAAAAAAAAAAAAAAAAAAAAAAAAAAAAAAAAAAAAAAAAAAAAAAAAAAAAAAAAAAAAAAAAAAAAAAAAAAAAAAAAAAAAAAAAAAAAAAAAAAAAAAAAAAAAAAAAAAAAAAAAAAAAAAAAAAAAAAAAAAAAAAAAAAAAAAAAAAAAAAAAAAAAAA",
          "dtype": "i1"
         },
         "x0": " ",
         "xaxis": "x",
         "y": {
          "bdata": "AwMDAgIDAwIDAwIDAwICAwMCAwMCAwMCAwQDAgMEAwMDAwMDAwMDAgMCAwIDAgQDAwICAwMDAwICAwMDAwMDBAQDAgMDAwMCAwMDAgECAgMBAgQCBAMDBAMCAwMCAwMDAwMDAwQCBAMCAwIDAwMDAwQDAQIDAgQDAwIDAwMDAQEDAwMCAgMDAQEBAgMDAwQDAgIDBAMEAwMDAwIDAwMDAgMDAgQDAgMDAwEDAwQEAgMBAwMDAQMDAwQDAwIDAwMDBAIDAgIDBAMDAwIDAwMCAwIDAwMDAwMDAwIBAwMCAwMDAwMDAgQEAwIDAQICAwIDAwMDAwMDAgIEAgMDAwMDAgIDAgMDAwMDAQMDAwMCAwMDAgMDAwIDBAMCAgMCAwMDAgMCAwMCAwMDAgMDAQMEAwMDAwMDAgMEAwMDAwMDAwIDAwQDAwMCAwMCAwMCAwEDAwMDAwMCAwMDAwIBAwMBAgQDAwEBAwMCAwIEAwEDAwMDBAMDAwIDAwMDAwMEAgQEAwIDAwMDAwQCAwMDAwMCAwMEAwMDAwMEAgIEAwICAwEEAwMEAwMCAwQCAwMCAwEEAwMDBAMDAwMDAwMEAwICAwMDAwMCAwIDAwMEAwICAwMDBAECAgEDAwQDAQMEAgMDAwMDAwIDAwMCAwMCAwMDAgMDAwQCAwMDAwMDAwIDAgIDAwMEAwECAgICAwICAgIDAwIDAwMBAgMDAwMDBAMCAwMCAwMDAwMCAwMDAwQDAwMEAgIDAwMDAwMEAQICAgMDAwIDAwMBAwQDAgMDAgQEAwMDBAMDAwMCAwQDAwMDAgMDAwMDAgIDAgMDAwMDAgQDAwMDAwMDAwIEAwIBAwMDAwMCAgIDAwMDAgQDAwMCAwIDAwMEAwICAwMDAwIDAwMDAgMDAwQEAgMDAQMDAgIDAgQDAwMDAgECBAMDAwMBBAMEAwMDAwICAgMCAwMDAwMDAwMDAgMCAwMCBAMDAwMDBAMDAwICAQMDAwIDAwMEAgIDAwQCAgMDAwMCAwMDAgIEAgIEAwMEAwMCAwICBAMDAwMDBAMDAwMCAwIDAwMCAwMDAwMEAgMCAwMCBAMDAwMDAwMEAwQDAgMEAgMCAgEDAwMBAwMCAwICAwQDAwQDBAICAgEEBAMCAgIEAwMDBAMDAwMCAgQCAwMCAwICAgMCAwMCAwQDAwIBAwMDAgMEAwQDBAEDAwMDAwMDAwMBBAMDAwMDAwMCAwIBAwMDAgIBAwIDAwQDAwMDBAMDAwMCAgMDAgECAwMCAgMDAwMDAgMDAwIDAwMDAwIBAwQBAgMDAwMCAwMDAwMDAwMDAwMDAwMEAgMCAwIDAwMDAwMCAwIDAwMEBAMCAwMEAwMDAwICBAMCBAMDBAMDAgECAQIDAQIEAwMDAgQDAwIEAgMDAwMCAwIDAwIDAwMDAwMDAwIDBAMDAgIDAwMCAQQDAwMCBAMDAgMDAgMDAQQDAwIEBAIDAgMDAwMDAwMDAgMEAwMDAwMDAwICAwICAwMBAwQDAgIDAwIDAwIDBAMDAwIEAwMBAgQDAgICAgMDAgMDAwIDAwMDAwMDBAMCBAQDAwICAwIDAwMCAwEDBAMDAwIDAwMDAwICAwMCAwMCAgMDAgMDAwMCAwMEAwMDAQIDAwMDAwIE",
          "dtype": "i1"
         },
         "y0": " ",
         "yaxis": "y"
        }
       ],
       "layout": {
        "boxmode": "overlay",
        "height": 600,
        "legend": {
         "title": {
          "text": "Attrition (0=No, 1=Yes)"
         },
         "tracegroupgap": 0
        },
        "template": {
         "data": {
          "bar": [
           {
            "error_x": {
             "color": "#2a3f5f"
            },
            "error_y": {
             "color": "#2a3f5f"
            },
            "marker": {
             "line": {
              "color": "#E5ECF6",
              "width": 0.5
             },
             "pattern": {
              "fillmode": "overlay",
              "size": 10,
              "solidity": 0.2
             }
            },
            "type": "bar"
           }
          ],
          "barpolar": [
           {
            "marker": {
             "line": {
              "color": "#E5ECF6",
              "width": 0.5
             },
             "pattern": {
              "fillmode": "overlay",
              "size": 10,
              "solidity": 0.2
             }
            },
            "type": "barpolar"
           }
          ],
          "carpet": [
           {
            "aaxis": {
             "endlinecolor": "#2a3f5f",
             "gridcolor": "white",
             "linecolor": "white",
             "minorgridcolor": "white",
             "startlinecolor": "#2a3f5f"
            },
            "baxis": {
             "endlinecolor": "#2a3f5f",
             "gridcolor": "white",
             "linecolor": "white",
             "minorgridcolor": "white",
             "startlinecolor": "#2a3f5f"
            },
            "type": "carpet"
           }
          ],
          "choropleth": [
           {
            "colorbar": {
             "outlinewidth": 0,
             "ticks": ""
            },
            "type": "choropleth"
           }
          ],
          "contour": [
           {
            "colorbar": {
             "outlinewidth": 0,
             "ticks": ""
            },
            "colorscale": [
             [
              0,
              "#0d0887"
             ],
             [
              0.1111111111111111,
              "#46039f"
             ],
             [
              0.2222222222222222,
              "#7201a8"
             ],
             [
              0.3333333333333333,
              "#9c179e"
             ],
             [
              0.4444444444444444,
              "#bd3786"
             ],
             [
              0.5555555555555556,
              "#d8576b"
             ],
             [
              0.6666666666666666,
              "#ed7953"
             ],
             [
              0.7777777777777778,
              "#fb9f3a"
             ],
             [
              0.8888888888888888,
              "#fdca26"
             ],
             [
              1,
              "#f0f921"
             ]
            ],
            "type": "contour"
           }
          ],
          "contourcarpet": [
           {
            "colorbar": {
             "outlinewidth": 0,
             "ticks": ""
            },
            "type": "contourcarpet"
           }
          ],
          "heatmap": [
           {
            "colorbar": {
             "outlinewidth": 0,
             "ticks": ""
            },
            "colorscale": [
             [
              0,
              "#0d0887"
             ],
             [
              0.1111111111111111,
              "#46039f"
             ],
             [
              0.2222222222222222,
              "#7201a8"
             ],
             [
              0.3333333333333333,
              "#9c179e"
             ],
             [
              0.4444444444444444,
              "#bd3786"
             ],
             [
              0.5555555555555556,
              "#d8576b"
             ],
             [
              0.6666666666666666,
              "#ed7953"
             ],
             [
              0.7777777777777778,
              "#fb9f3a"
             ],
             [
              0.8888888888888888,
              "#fdca26"
             ],
             [
              1,
              "#f0f921"
             ]
            ],
            "type": "heatmap"
           }
          ],
          "histogram": [
           {
            "marker": {
             "pattern": {
              "fillmode": "overlay",
              "size": 10,
              "solidity": 0.2
             }
            },
            "type": "histogram"
           }
          ],
          "histogram2d": [
           {
            "colorbar": {
             "outlinewidth": 0,
             "ticks": ""
            },
            "colorscale": [
             [
              0,
              "#0d0887"
             ],
             [
              0.1111111111111111,
              "#46039f"
             ],
             [
              0.2222222222222222,
              "#7201a8"
             ],
             [
              0.3333333333333333,
              "#9c179e"
             ],
             [
              0.4444444444444444,
              "#bd3786"
             ],
             [
              0.5555555555555556,
              "#d8576b"
             ],
             [
              0.6666666666666666,
              "#ed7953"
             ],
             [
              0.7777777777777778,
              "#fb9f3a"
             ],
             [
              0.8888888888888888,
              "#fdca26"
             ],
             [
              1,
              "#f0f921"
             ]
            ],
            "type": "histogram2d"
           }
          ],
          "histogram2dcontour": [
           {
            "colorbar": {
             "outlinewidth": 0,
             "ticks": ""
            },
            "colorscale": [
             [
              0,
              "#0d0887"
             ],
             [
              0.1111111111111111,
              "#46039f"
             ],
             [
              0.2222222222222222,
              "#7201a8"
             ],
             [
              0.3333333333333333,
              "#9c179e"
             ],
             [
              0.4444444444444444,
              "#bd3786"
             ],
             [
              0.5555555555555556,
              "#d8576b"
             ],
             [
              0.6666666666666666,
              "#ed7953"
             ],
             [
              0.7777777777777778,
              "#fb9f3a"
             ],
             [
              0.8888888888888888,
              "#fdca26"
             ],
             [
              1,
              "#f0f921"
             ]
            ],
            "type": "histogram2dcontour"
           }
          ],
          "mesh3d": [
           {
            "colorbar": {
             "outlinewidth": 0,
             "ticks": ""
            },
            "type": "mesh3d"
           }
          ],
          "parcoords": [
           {
            "line": {
             "colorbar": {
              "outlinewidth": 0,
              "ticks": ""
             }
            },
            "type": "parcoords"
           }
          ],
          "pie": [
           {
            "automargin": true,
            "type": "pie"
           }
          ],
          "scatter": [
           {
            "fillpattern": {
             "fillmode": "overlay",
             "size": 10,
             "solidity": 0.2
            },
            "type": "scatter"
           }
          ],
          "scatter3d": [
           {
            "line": {
             "colorbar": {
              "outlinewidth": 0,
              "ticks": ""
             }
            },
            "marker": {
             "colorbar": {
              "outlinewidth": 0,
              "ticks": ""
             }
            },
            "type": "scatter3d"
           }
          ],
          "scattercarpet": [
           {
            "marker": {
             "colorbar": {
              "outlinewidth": 0,
              "ticks": ""
             }
            },
            "type": "scattercarpet"
           }
          ],
          "scattergeo": [
           {
            "marker": {
             "colorbar": {
              "outlinewidth": 0,
              "ticks": ""
             }
            },
            "type": "scattergeo"
           }
          ],
          "scattergl": [
           {
            "marker": {
             "colorbar": {
              "outlinewidth": 0,
              "ticks": ""
             }
            },
            "type": "scattergl"
           }
          ],
          "scattermap": [
           {
            "marker": {
             "colorbar": {
              "outlinewidth": 0,
              "ticks": ""
             }
            },
            "type": "scattermap"
           }
          ],
          "scattermapbox": [
           {
            "marker": {
             "colorbar": {
              "outlinewidth": 0,
              "ticks": ""
             }
            },
            "type": "scattermapbox"
           }
          ],
          "scatterpolar": [
           {
            "marker": {
             "colorbar": {
              "outlinewidth": 0,
              "ticks": ""
             }
            },
            "type": "scatterpolar"
           }
          ],
          "scatterpolargl": [
           {
            "marker": {
             "colorbar": {
              "outlinewidth": 0,
              "ticks": ""
             }
            },
            "type": "scatterpolargl"
           }
          ],
          "scatterternary": [
           {
            "marker": {
             "colorbar": {
              "outlinewidth": 0,
              "ticks": ""
             }
            },
            "type": "scatterternary"
           }
          ],
          "surface": [
           {
            "colorbar": {
             "outlinewidth": 0,
             "ticks": ""
            },
            "colorscale": [
             [
              0,
              "#0d0887"
             ],
             [
              0.1111111111111111,
              "#46039f"
             ],
             [
              0.2222222222222222,
              "#7201a8"
             ],
             [
              0.3333333333333333,
              "#9c179e"
             ],
             [
              0.4444444444444444,
              "#bd3786"
             ],
             [
              0.5555555555555556,
              "#d8576b"
             ],
             [
              0.6666666666666666,
              "#ed7953"
             ],
             [
              0.7777777777777778,
              "#fb9f3a"
             ],
             [
              0.8888888888888888,
              "#fdca26"
             ],
             [
              1,
              "#f0f921"
             ]
            ],
            "type": "surface"
           }
          ],
          "table": [
           {
            "cells": {
             "fill": {
              "color": "#EBF0F8"
             },
             "line": {
              "color": "white"
             }
            },
            "header": {
             "fill": {
              "color": "#C8D4E3"
             },
             "line": {
              "color": "white"
             }
            },
            "type": "table"
           }
          ]
         },
         "layout": {
          "annotationdefaults": {
           "arrowcolor": "#2a3f5f",
           "arrowhead": 0,
           "arrowwidth": 1
          },
          "autotypenumbers": "strict",
          "coloraxis": {
           "colorbar": {
            "outlinewidth": 0,
            "ticks": ""
           }
          },
          "colorscale": {
           "diverging": [
            [
             0,
             "#8e0152"
            ],
            [
             0.1,
             "#c51b7d"
            ],
            [
             0.2,
             "#de77ae"
            ],
            [
             0.3,
             "#f1b6da"
            ],
            [
             0.4,
             "#fde0ef"
            ],
            [
             0.5,
             "#f7f7f7"
            ],
            [
             0.6,
             "#e6f5d0"
            ],
            [
             0.7,
             "#b8e186"
            ],
            [
             0.8,
             "#7fbc41"
            ],
            [
             0.9,
             "#4d9221"
            ],
            [
             1,
             "#276419"
            ]
           ],
           "sequential": [
            [
             0,
             "#0d0887"
            ],
            [
             0.1111111111111111,
             "#46039f"
            ],
            [
             0.2222222222222222,
             "#7201a8"
            ],
            [
             0.3333333333333333,
             "#9c179e"
            ],
            [
             0.4444444444444444,
             "#bd3786"
            ],
            [
             0.5555555555555556,
             "#d8576b"
            ],
            [
             0.6666666666666666,
             "#ed7953"
            ],
            [
             0.7777777777777778,
             "#fb9f3a"
            ],
            [
             0.8888888888888888,
             "#fdca26"
            ],
            [
             1,
             "#f0f921"
            ]
           ],
           "sequentialminus": [
            [
             0,
             "#0d0887"
            ],
            [
             0.1111111111111111,
             "#46039f"
            ],
            [
             0.2222222222222222,
             "#7201a8"
            ],
            [
             0.3333333333333333,
             "#9c179e"
            ],
            [
             0.4444444444444444,
             "#bd3786"
            ],
            [
             0.5555555555555556,
             "#d8576b"
            ],
            [
             0.6666666666666666,
             "#ed7953"
            ],
            [
             0.7777777777777778,
             "#fb9f3a"
            ],
            [
             0.8888888888888888,
             "#fdca26"
            ],
            [
             1,
             "#f0f921"
            ]
           ]
          },
          "colorway": [
           "#636efa",
           "#EF553B",
           "#00cc96",
           "#ab63fa",
           "#FFA15A",
           "#19d3f3",
           "#FF6692",
           "#B6E880",
           "#FF97FF",
           "#FECB52"
          ],
          "font": {
           "color": "#2a3f5f"
          },
          "geo": {
           "bgcolor": "white",
           "lakecolor": "white",
           "landcolor": "#E5ECF6",
           "showlakes": true,
           "showland": true,
           "subunitcolor": "white"
          },
          "hoverlabel": {
           "align": "left"
          },
          "hovermode": "closest",
          "mapbox": {
           "style": "light"
          },
          "paper_bgcolor": "white",
          "plot_bgcolor": "#E5ECF6",
          "polar": {
           "angularaxis": {
            "gridcolor": "white",
            "linecolor": "white",
            "ticks": ""
           },
           "bgcolor": "#E5ECF6",
           "radialaxis": {
            "gridcolor": "white",
            "linecolor": "white",
            "ticks": ""
           }
          },
          "scene": {
           "xaxis": {
            "backgroundcolor": "#E5ECF6",
            "gridcolor": "white",
            "gridwidth": 2,
            "linecolor": "white",
            "showbackground": true,
            "ticks": "",
            "zerolinecolor": "white"
           },
           "yaxis": {
            "backgroundcolor": "#E5ECF6",
            "gridcolor": "white",
            "gridwidth": 2,
            "linecolor": "white",
            "showbackground": true,
            "ticks": "",
            "zerolinecolor": "white"
           },
           "zaxis": {
            "backgroundcolor": "#E5ECF6",
            "gridcolor": "white",
            "gridwidth": 2,
            "linecolor": "white",
            "showbackground": true,
            "ticks": "",
            "zerolinecolor": "white"
           }
          },
          "shapedefaults": {
           "line": {
            "color": "#2a3f5f"
           }
          },
          "ternary": {
           "aaxis": {
            "gridcolor": "white",
            "linecolor": "white",
            "ticks": ""
           },
           "baxis": {
            "gridcolor": "white",
            "linecolor": "white",
            "ticks": ""
           },
           "bgcolor": "#E5ECF6",
           "caxis": {
            "gridcolor": "white",
            "linecolor": "white",
            "ticks": ""
           }
          },
          "title": {
           "x": 0.05
          },
          "xaxis": {
           "automargin": true,
           "gridcolor": "white",
           "linecolor": "white",
           "ticks": "",
           "title": {
            "standoff": 15
           },
           "zerolinecolor": "white",
           "zerolinewidth": 2
          },
          "yaxis": {
           "automargin": true,
           "gridcolor": "white",
           "linecolor": "white",
           "ticks": "",
           "title": {
            "standoff": 15
           },
           "zerolinecolor": "white",
           "zerolinewidth": 2
          }
         }
        },
        "title": {
         "text": "WorkLifeBalance by Attrition Status"
        },
        "width": 1000,
        "xaxis": {
         "anchor": "y",
         "categoryarray": [
          1,
          0
         ],
         "categoryorder": "array",
         "domain": [
          0,
          1
         ],
         "title": {
          "text": "Attrition (0=No, 1=Yes)"
         }
        },
        "yaxis": {
         "anchor": "x",
         "domain": [
          0,
          1
         ],
         "title": {
          "text": "WorkLifeBalance"
         }
        }
       }
      }
     },
     "metadata": {},
     "output_type": "display_data"
    }
   ],
   "source": [
    "# Box plots: Satisfaction indicators by Attrition\n",
    "satisfaction_cols = [\"JobSatisfaction\", \"EnvironmentSatisfaction\", \"RelationshipSatisfaction\", \"WorkLifeBalance\"]\n",
    "for col in satisfaction_cols:\n",
    "    fig = px.box(df, x=\"Attrition\", y=col, points=\"all\",\n",
    "                 title=f\"{col} by Attrition Status\",\n",
    "                 labels={\"Attrition\": \"Attrition (0=No, 1=Yes)\", col: col},\n",
    "                 color=\"Attrition\",\n",
    "                  color_discrete_map={0: \"mediumseagreen\", 1: \"orchid\"},\n",
    "                    width= 1000,\n",
    "                    height= 600)\n",
    "    fig.show()"
   ]
  },
  {
   "cell_type": "markdown",
   "metadata": {},
   "source": [
    "**Key observations:** \n",
    "\n",
    "1. TotalSatisfaction aggregates JobSatisfaction, EnvironmentSatisfaction, RelationshipSatisfaction, and WorkLifeBalance.\n",
    "\n",
    "2. I have plotted all the features in the second boxplot to understand which feature actually contributes to Attrition from the aggregated TotalSatisfaction feature in the synthetic dataset. \n",
    "\n",
    "3. JobSatisfaction and Attrition box plot clearly indicates a difference in Job Satifaction scores between attrited and existing employees. Although, the median is the same, the scores show a higher variance (is distributed more) among existing employees rather than attrited employees. In the synthetic dataset, there is a significant difference between attrited and existing employees when comparing job satisfaction score.\n",
    "\n",
    "4. EnvironmentSatisfaction and Attrition indicates that the medians are overlapping. Additionally, the attrited employees' environmental satisfaction scores show a tight distribution between 1 and 4. In the synthetic dataset, there is no significant difference between attrited and existing employees when comparing environment satisfaction score.\n",
    "\n",
    "5. RelationshipSatisfaction and Attrition indicates that the box and the medians are overlapping. In the synthetic dataset, there is no significant difference between attrited and existing employees when comparing relationship satisfaction score.\n",
    "\n",
    "6. WorkLifeBalance and Attrition too indicates that the box and the medians are overlapping. In the synthetic dataset, there is no significant difference between attrited and existing employees when comparing work-life balance score."
   ]
  },
  {
   "cell_type": "markdown",
   "metadata": {},
   "source": [
    "**Business impact:** The synthetic dataset reveals that job satisfaction is closely associated with attrition level. What might also be interesting to focus on is the work-life balance score. Burnout plays a major role in determining an employee's motivation to continue working at an environment. Identifying and adressing this helps improve retention. Here are some measures to improve retention:\n",
    "1. Rewards and recognition\n",
    "2. Promotions\n",
    "3. Adaptive working conditions, such as remote and hybrid work"
   ]
  },
  {
   "cell_type": "markdown",
   "metadata": {},
   "source": [
    "---"
   ]
  },
  {
   "cell_type": "markdown",
   "metadata": {},
   "source": [
    "# Hypothesis 5.1: Job Satisfaction and Attrition"
   ]
  },
  {
   "cell_type": "markdown",
   "metadata": {},
   "source": [
    "**Null hypothesis:** Job satisfaction levels and attrition rate are independent of each other and do not share a statistically significant relationship."
   ]
  },
  {
   "cell_type": "code",
   "execution_count": 66,
   "metadata": {},
   "outputs": [
    {
     "data": {
      "text/html": [
       "<div>\n",
       "<style scoped>\n",
       "    .dataframe tbody tr th:only-of-type {\n",
       "        vertical-align: middle;\n",
       "    }\n",
       "\n",
       "    .dataframe tbody tr th {\n",
       "        vertical-align: top;\n",
       "    }\n",
       "\n",
       "    .dataframe thead th {\n",
       "        text-align: right;\n",
       "    }\n",
       "</style>\n",
       "<table border=\"1\" class=\"dataframe\">\n",
       "  <thead>\n",
       "    <tr style=\"text-align: right;\">\n",
       "      <th></th>\n",
       "      <th>U-val</th>\n",
       "      <th>alternative</th>\n",
       "      <th>p-val</th>\n",
       "      <th>RBC</th>\n",
       "      <th>CLES</th>\n",
       "    </tr>\n",
       "  </thead>\n",
       "  <tbody>\n",
       "    <tr>\n",
       "      <th>MWU</th>\n",
       "      <td>34246.5</td>\n",
       "      <td>two-sided</td>\n",
       "      <td>0.0</td>\n",
       "      <td>-0.968303</td>\n",
       "      <td>0.015848</td>\n",
       "    </tr>\n",
       "  </tbody>\n",
       "</table>\n",
       "</div>"
      ],
      "text/plain": [
       "       U-val alternative  p-val       RBC      CLES\n",
       "MWU  34246.5   two-sided    0.0 -0.968303  0.015848"
      ]
     },
     "execution_count": 66,
     "metadata": {},
     "output_type": "execute_result"
    }
   ],
   "source": [
    "pg.mwu(df[\"Attrition\"], df[\"JobSatisfaction\"], alternative='two-sided')"
   ]
  },
  {
   "cell_type": "markdown",
   "metadata": {},
   "source": [
    "**Key observations:** A p-value score of 0 provides enough evidence to reject the null hypothesis. In the synthetic dataset, Job satisfaction level and attrition share a statistically significant relationship."
   ]
  },
  {
   "cell_type": "code",
   "execution_count": 67,
   "metadata": {},
   "outputs": [
    {
     "data": {
      "application/vnd.plotly.v1+json": {
       "config": {
        "plotlyServerURL": "https://plot.ly"
       },
       "data": [
        {
         "alignmentgroup": "True",
         "boxpoints": "all",
         "hovertemplate": "Attrition (0=No, 1=Yes)=%{x}<br>Job Satisfaction=%{y}<extra></extra>",
         "legendgroup": "1",
         "marker": {
          "color": "lime"
         },
         "name": "1",
         "notched": false,
         "offsetgroup": "1",
         "orientation": "v",
         "showlegend": true,
         "type": "box",
         "x": {
          "bdata": "AQEBAQEBAQEBAQEBAQEBAQEBAQEBAQEBAQEBAQEBAQEBAQEBAQEBAQEBAQEBAQEBAQEBAQEBAQEBAQEBAQEBAQEBAQEBAQEBAQEBAQEBAQEBAQEBAQEBAQEBAQEBAQEBAQEBAQEBAQEBAQEBAQEBAQEBAQEBAQEBAQEBAQEBAQEBAQEBAQEBAQEBAQEBAQEBAQEBAQEBAQEBAQEBAQEBAQEBAQEBAQEBAQEBAQEBAQEBAQEBAQEBAQEBAQEBAQEBAQEBAQEBAQEBAQEBAQEBAQEBAQEBAQEBAQEBAQEBAQEBAQEBAQEBAQEBAQEB",
          "dtype": "i1"
         },
         "x0": " ",
         "xaxis": "x",
         "y": {
          "bdata": "BAMDAQEBBAQDAwMDAwMEAQQDAwIDBAMDBAEBBAIDAQQEAQEDBAQBAwMCAwIDAgQDAgQDAQIDAgMCBAEEAQIDAgQDBAMBAwMCBAMDAQEBAQMBAwMCAwQDAQEBAQECAwQEAwIDBAQDBAMEAQICAQQDAwIBAQMCAQICAQQBAwEEAQMBAQEDBAMCAgMEAwEDAQEEAwMEAQICBAIDBAMDAQICAgEBAwQDAwMBBAMCAQQBAgQDAwICAQEBAQMBAQQCAgQBBAEEAwMCBAMDAQIEAgEDAwIBAgQBAQICAQECBAIEAgEEAQMDAgQEAQEEAwMB",
          "dtype": "i1"
         },
         "y0": " ",
         "yaxis": "y"
        },
        {
         "alignmentgroup": "True",
         "boxpoints": "all",
         "hovertemplate": "Attrition (0=No, 1=Yes)=%{x}<br>Job Satisfaction=%{y}<extra></extra>",
         "legendgroup": "0",
         "marker": {
          "color": "indigo"
         },
         "name": "0",
         "notched": false,
         "offsetgroup": "0",
         "orientation": "v",
         "showlegend": true,
         "type": "box",
         "x": {
          "bdata": "AAAAAAAAAAAAAAAAAAAAAAAAAAAAAAAAAAAAAAAAAAAAAAAAAAAAAAAAAAAAAAAAAAAAAAAAAAAAAAAAAAAAAAAAAAAAAAAAAAAAAAAAAAAAAAAAAAAAAAAAAAAAAAAAAAAAAAAAAAAAAAAAAAAAAAAAAAAAAAAAAAAAAAAAAAAAAAAAAAAAAAAAAAAAAAAAAAAAAAAAAAAAAAAAAAAAAAAAAAAAAAAAAAAAAAAAAAAAAAAAAAAAAAAAAAAAAAAAAAAAAAAAAAAAAAAAAAAAAAAAAAAAAAAAAAAAAAAAAAAAAAAAAAAAAAAAAAAAAAAAAAAAAAAAAAAAAAAAAAAAAAAAAAAAAAAAAAAAAAAAAAAAAAAAAAAAAAAAAAAAAAAAAAAAAAAAAAAAAAAAAAAAAAAAAAAAAAAAAAAAAAAAAAAAAAAAAAAAAAAAAAAAAAAAAAAAAAAAAAAAAAAAAAAAAAAAAAAAAAAAAAAAAAAAAAAAAAAAAAAAAAAAAAAAAAAAAAAAAAAAAAAAAAAAAAAAAAAAAAAAAAAAAAAAAAAAAAAAAAAAAAAAAAAAAAAAAAAAAAAAAAAAAAAAAAAAAAAAAAAAAAAAAAAAAAAAAAAAAAAAAAAAAAAAAAAAAAAAAAAAAAAAAAAAAAAAAAAAAAAAAAAAAAAAAAAAAAAAAAAAAAAAAAAAAAAAAAAAAAAAAAAAAAAAAAAAAAAAAAAAAAAAAAAAAAAAAAAAAAAAAAAAAAAAAAAAAAAAAAAAAAAAAAAAAAAAAAAAAAAAAAAAAAAAAAAAAAAAAAAAAAAAAAAAAAAAAAAAAAAAAAAAAAAAAAAAAAAAAAAAAAAAAAAAAAAAAAAAAAAAAAAAAAAAAAAAAAAAAAAAAAAAAAAAAAAAAAAAAAAAAAAAAAAAAAAAAAAAAAAAAAAAAAAAAAAAAAAAAAAAAAAAAAAAAAAAAAAAAAAAAAAAAAAAAAAAAAAAAAAAAAAAAAAAAAAAAAAAAAAAAAAAAAAAAAAAAAAAAAAAAAAAAAAAAAAAAAAAAAAAAAAAAAAAAAAAAAAAAAAAAAAAAAAAAAAAAAAAAAAAAAAAAAAAAAAAAAAAAAAAAAAAAAAAAAAAAAAAAAAAAAAAAAAAAAAAAAAAAAAAAAAAAAAAAAAAAAAAAAAAAAAAAAAAAAAAAAAAAAAAAAAAAAAAAAAAAAAAAAAAAAAAAAAAAAAAAAAAAAAAAAAAAAAAAAAAAAAAAAAAAAAAAAAAAAAAAAAAAAAAAAAAAAAAAAAAAAAAAAAAAAAAAAAAAAAAAAAAAAAAAAAAAAAAAAAAAAAAAAAAAAAAAAAAAAAAAAAAAAAAAAAAAAAAAAAAAAAAAAAAAAAAAAAAAAAAAAAAAAAAAAAAAAAAAAAAAAAAAAAAAAAAAAAAAAAAAAAAAAAAAAAAAAAAAAAAAAAAAAAAAAAAAAAAAAAAAAAAAAAAAAAAAAAAAAAAAAAAAAAAAAAAAAAAAAAAAAAAAAAAAAAAAAAAAAAAAAAAAAAAAAAAAAAAAAAAAAAAAAAAAAAAAAAAAAAAAAAAAAAAAAAAAAAAAAAAAAAAAAAAAAAAAAAAAAAAAAAAAAAAAAAAAAAAAAAAAAAAAAAAAAAAAAAAAAAAAAAAAAAAAAAA",
          "dtype": "i1"
         },
         "x0": " ",
         "xaxis": "x",
         "y": {
          "bdata": "AgMCBAEDAwMCAwMEAQIEBAQDAgQDAgQBBAQDAwQBAQQBAwQDAgQEAQEEBAEBBAMEBAMBAwMCAQEDAgICBAQBAQMCBAMEBAIEAQQEAgQCAQMDAwMDAgEDBAQCBAQBBAMCBAEEBAQDAgMCBAEDBAMDAgMDBAQDAwQBBAEBAgICAwIEAwMCBAMEAgQEAwIDBAQDAgIBAQEEAQQEAgMBAgMCAwIDAgQEAQIDAwQBBAMEAgQEAQMDAgQEAQICBAMDBAQEAwQEAwQEAwIDBAEEBAMEAQEDAwQBBAMBAwQCBAECAgQBBAQBBAQDBAIBAgIDAwQEAQQEBAECAgQCAgQCAgMBBAQCAwIDBAEBBAIBBAMCAgMEBAQDBAQDAwIDAQQEBAMCBAQEAgIEAgMEAwMCAwEDAwQEBAMDBAEDBAIEAgIEAwQDBAMCAgMBAgECAgMBAwEEAwQDAQMBAwEBAwQEAwQBAwQEAwQEAwEEAwQBBAMDAwMEAgIDAwQEAgQDAwMEAQIEAwQBAwMDBAQDAQIBBAMCAwQCAgIDBAQEAwMCBAQBAwEDAwMEAwMEAwEEBAMDBAQCAgQDAQIEBAIEBAMCAwQEAQQBAQMEAQEDAgEDAwMEAwQDAQIEBAECBAEEAwEBBAMDBAEEBAMEAQQBAQEEAwIBBAIDAwMEAgMDBAIDAwQDAgEEAQQDAgQEAwIBAQEEBAQEAQMEAwQEBAQBAQMEAQEEAgIEBAQCBAQEBAIBBAIEAQQCBAQDAwIDAQIDBAIDAwQBAgIBAQMEAgEEAgQDBAMDBAQDAwQDBAQEAgMCAQQDAwMDAQQDAwEEAQMDAwQEBAMEBAIDBAQDAQQEAwQEAgIDAgMDAgEDBAMDBAEEAQEBAwMEAwIDBAMEBAECBAQDAgMEAgMCAQMCAgQEAgQCAwIEBAMDBAQDAwMDAQMCBAMEAgEEAQEEAQMEAwMEAQMDAQIBAQIBAwMDBAQEAQQCAwEEAgQCAQQBAwQEBAEBBAQDAgIDBAQEAwIDBAMEAgIBAgQCAwECAwIEAgQDAwECBAICAwQDAQQBAQMDAgMDAgMEBAEDAgEBBAIBBAQCBAQEAgMDAwMEAQQCBAMEAgMDAwMEBAEBAwQEAQEEAQQCAQIBAQQBBAMBAwMEAgMDBAECBAECAQMCAwMCAQEDBAMDAwIBAwIDAwMDAgMDAQECAgMEBAECAgIDAwQDAgQBAgQEAQMEAQQCAwIEAwMBAwECAQEEBAQEAgIDAQMDBAMDAQQDAwECBAEDAwQEAgEBAQMEAQEBAQEEAwMDAwMDBAMCBAQEBAMEAwEDAgIBAwICAwMBAwMEAgQCBAECAgMDAQQDBAMEBAIEBAIEBAQEBAMDAwQDAwIDAwIBAQIDBAIEAgQEAwIDAQQDBAMBBAIEAgEDAgQCAQIBAwMEBAMEAwIEAQIBBAMCAQEEAgQDAgMDBAMCAwIBBAEBBAQDAwMCBAQEBAMDBAQDAwEDAgMCAQQEAgMDBAEBAgQEAQMDBAECAgEEBAMEAwMEAwIEAgEBAgQEBAQBAwECBAMBAQQBAQQEBAMDAwICBAEDAwEDBAMCAgIDAwMCAwMBBAIDAwMEAgQCBAMEBAMEBAEEBAIDAwIDBAIBBAQEAwMDAwQCAQQBAwQBAgID",
          "dtype": "i1"
         },
         "y0": " ",
         "yaxis": "y"
        }
       ],
       "layout": {
        "boxmode": "overlay",
        "height": 600,
        "legend": {
         "title": {
          "text": "Attrition (0=No, 1=Yes)"
         },
         "tracegroupgap": 0
        },
        "template": {
         "data": {
          "bar": [
           {
            "error_x": {
             "color": "#2a3f5f"
            },
            "error_y": {
             "color": "#2a3f5f"
            },
            "marker": {
             "line": {
              "color": "#E5ECF6",
              "width": 0.5
             },
             "pattern": {
              "fillmode": "overlay",
              "size": 10,
              "solidity": 0.2
             }
            },
            "type": "bar"
           }
          ],
          "barpolar": [
           {
            "marker": {
             "line": {
              "color": "#E5ECF6",
              "width": 0.5
             },
             "pattern": {
              "fillmode": "overlay",
              "size": 10,
              "solidity": 0.2
             }
            },
            "type": "barpolar"
           }
          ],
          "carpet": [
           {
            "aaxis": {
             "endlinecolor": "#2a3f5f",
             "gridcolor": "white",
             "linecolor": "white",
             "minorgridcolor": "white",
             "startlinecolor": "#2a3f5f"
            },
            "baxis": {
             "endlinecolor": "#2a3f5f",
             "gridcolor": "white",
             "linecolor": "white",
             "minorgridcolor": "white",
             "startlinecolor": "#2a3f5f"
            },
            "type": "carpet"
           }
          ],
          "choropleth": [
           {
            "colorbar": {
             "outlinewidth": 0,
             "ticks": ""
            },
            "type": "choropleth"
           }
          ],
          "contour": [
           {
            "colorbar": {
             "outlinewidth": 0,
             "ticks": ""
            },
            "colorscale": [
             [
              0,
              "#0d0887"
             ],
             [
              0.1111111111111111,
              "#46039f"
             ],
             [
              0.2222222222222222,
              "#7201a8"
             ],
             [
              0.3333333333333333,
              "#9c179e"
             ],
             [
              0.4444444444444444,
              "#bd3786"
             ],
             [
              0.5555555555555556,
              "#d8576b"
             ],
             [
              0.6666666666666666,
              "#ed7953"
             ],
             [
              0.7777777777777778,
              "#fb9f3a"
             ],
             [
              0.8888888888888888,
              "#fdca26"
             ],
             [
              1,
              "#f0f921"
             ]
            ],
            "type": "contour"
           }
          ],
          "contourcarpet": [
           {
            "colorbar": {
             "outlinewidth": 0,
             "ticks": ""
            },
            "type": "contourcarpet"
           }
          ],
          "heatmap": [
           {
            "colorbar": {
             "outlinewidth": 0,
             "ticks": ""
            },
            "colorscale": [
             [
              0,
              "#0d0887"
             ],
             [
              0.1111111111111111,
              "#46039f"
             ],
             [
              0.2222222222222222,
              "#7201a8"
             ],
             [
              0.3333333333333333,
              "#9c179e"
             ],
             [
              0.4444444444444444,
              "#bd3786"
             ],
             [
              0.5555555555555556,
              "#d8576b"
             ],
             [
              0.6666666666666666,
              "#ed7953"
             ],
             [
              0.7777777777777778,
              "#fb9f3a"
             ],
             [
              0.8888888888888888,
              "#fdca26"
             ],
             [
              1,
              "#f0f921"
             ]
            ],
            "type": "heatmap"
           }
          ],
          "histogram": [
           {
            "marker": {
             "pattern": {
              "fillmode": "overlay",
              "size": 10,
              "solidity": 0.2
             }
            },
            "type": "histogram"
           }
          ],
          "histogram2d": [
           {
            "colorbar": {
             "outlinewidth": 0,
             "ticks": ""
            },
            "colorscale": [
             [
              0,
              "#0d0887"
             ],
             [
              0.1111111111111111,
              "#46039f"
             ],
             [
              0.2222222222222222,
              "#7201a8"
             ],
             [
              0.3333333333333333,
              "#9c179e"
             ],
             [
              0.4444444444444444,
              "#bd3786"
             ],
             [
              0.5555555555555556,
              "#d8576b"
             ],
             [
              0.6666666666666666,
              "#ed7953"
             ],
             [
              0.7777777777777778,
              "#fb9f3a"
             ],
             [
              0.8888888888888888,
              "#fdca26"
             ],
             [
              1,
              "#f0f921"
             ]
            ],
            "type": "histogram2d"
           }
          ],
          "histogram2dcontour": [
           {
            "colorbar": {
             "outlinewidth": 0,
             "ticks": ""
            },
            "colorscale": [
             [
              0,
              "#0d0887"
             ],
             [
              0.1111111111111111,
              "#46039f"
             ],
             [
              0.2222222222222222,
              "#7201a8"
             ],
             [
              0.3333333333333333,
              "#9c179e"
             ],
             [
              0.4444444444444444,
              "#bd3786"
             ],
             [
              0.5555555555555556,
              "#d8576b"
             ],
             [
              0.6666666666666666,
              "#ed7953"
             ],
             [
              0.7777777777777778,
              "#fb9f3a"
             ],
             [
              0.8888888888888888,
              "#fdca26"
             ],
             [
              1,
              "#f0f921"
             ]
            ],
            "type": "histogram2dcontour"
           }
          ],
          "mesh3d": [
           {
            "colorbar": {
             "outlinewidth": 0,
             "ticks": ""
            },
            "type": "mesh3d"
           }
          ],
          "parcoords": [
           {
            "line": {
             "colorbar": {
              "outlinewidth": 0,
              "ticks": ""
             }
            },
            "type": "parcoords"
           }
          ],
          "pie": [
           {
            "automargin": true,
            "type": "pie"
           }
          ],
          "scatter": [
           {
            "fillpattern": {
             "fillmode": "overlay",
             "size": 10,
             "solidity": 0.2
            },
            "type": "scatter"
           }
          ],
          "scatter3d": [
           {
            "line": {
             "colorbar": {
              "outlinewidth": 0,
              "ticks": ""
             }
            },
            "marker": {
             "colorbar": {
              "outlinewidth": 0,
              "ticks": ""
             }
            },
            "type": "scatter3d"
           }
          ],
          "scattercarpet": [
           {
            "marker": {
             "colorbar": {
              "outlinewidth": 0,
              "ticks": ""
             }
            },
            "type": "scattercarpet"
           }
          ],
          "scattergeo": [
           {
            "marker": {
             "colorbar": {
              "outlinewidth": 0,
              "ticks": ""
             }
            },
            "type": "scattergeo"
           }
          ],
          "scattergl": [
           {
            "marker": {
             "colorbar": {
              "outlinewidth": 0,
              "ticks": ""
             }
            },
            "type": "scattergl"
           }
          ],
          "scattermap": [
           {
            "marker": {
             "colorbar": {
              "outlinewidth": 0,
              "ticks": ""
             }
            },
            "type": "scattermap"
           }
          ],
          "scattermapbox": [
           {
            "marker": {
             "colorbar": {
              "outlinewidth": 0,
              "ticks": ""
             }
            },
            "type": "scattermapbox"
           }
          ],
          "scatterpolar": [
           {
            "marker": {
             "colorbar": {
              "outlinewidth": 0,
              "ticks": ""
             }
            },
            "type": "scatterpolar"
           }
          ],
          "scatterpolargl": [
           {
            "marker": {
             "colorbar": {
              "outlinewidth": 0,
              "ticks": ""
             }
            },
            "type": "scatterpolargl"
           }
          ],
          "scatterternary": [
           {
            "marker": {
             "colorbar": {
              "outlinewidth": 0,
              "ticks": ""
             }
            },
            "type": "scatterternary"
           }
          ],
          "surface": [
           {
            "colorbar": {
             "outlinewidth": 0,
             "ticks": ""
            },
            "colorscale": [
             [
              0,
              "#0d0887"
             ],
             [
              0.1111111111111111,
              "#46039f"
             ],
             [
              0.2222222222222222,
              "#7201a8"
             ],
             [
              0.3333333333333333,
              "#9c179e"
             ],
             [
              0.4444444444444444,
              "#bd3786"
             ],
             [
              0.5555555555555556,
              "#d8576b"
             ],
             [
              0.6666666666666666,
              "#ed7953"
             ],
             [
              0.7777777777777778,
              "#fb9f3a"
             ],
             [
              0.8888888888888888,
              "#fdca26"
             ],
             [
              1,
              "#f0f921"
             ]
            ],
            "type": "surface"
           }
          ],
          "table": [
           {
            "cells": {
             "fill": {
              "color": "#EBF0F8"
             },
             "line": {
              "color": "white"
             }
            },
            "header": {
             "fill": {
              "color": "#C8D4E3"
             },
             "line": {
              "color": "white"
             }
            },
            "type": "table"
           }
          ]
         },
         "layout": {
          "annotationdefaults": {
           "arrowcolor": "#2a3f5f",
           "arrowhead": 0,
           "arrowwidth": 1
          },
          "autotypenumbers": "strict",
          "coloraxis": {
           "colorbar": {
            "outlinewidth": 0,
            "ticks": ""
           }
          },
          "colorscale": {
           "diverging": [
            [
             0,
             "#8e0152"
            ],
            [
             0.1,
             "#c51b7d"
            ],
            [
             0.2,
             "#de77ae"
            ],
            [
             0.3,
             "#f1b6da"
            ],
            [
             0.4,
             "#fde0ef"
            ],
            [
             0.5,
             "#f7f7f7"
            ],
            [
             0.6,
             "#e6f5d0"
            ],
            [
             0.7,
             "#b8e186"
            ],
            [
             0.8,
             "#7fbc41"
            ],
            [
             0.9,
             "#4d9221"
            ],
            [
             1,
             "#276419"
            ]
           ],
           "sequential": [
            [
             0,
             "#0d0887"
            ],
            [
             0.1111111111111111,
             "#46039f"
            ],
            [
             0.2222222222222222,
             "#7201a8"
            ],
            [
             0.3333333333333333,
             "#9c179e"
            ],
            [
             0.4444444444444444,
             "#bd3786"
            ],
            [
             0.5555555555555556,
             "#d8576b"
            ],
            [
             0.6666666666666666,
             "#ed7953"
            ],
            [
             0.7777777777777778,
             "#fb9f3a"
            ],
            [
             0.8888888888888888,
             "#fdca26"
            ],
            [
             1,
             "#f0f921"
            ]
           ],
           "sequentialminus": [
            [
             0,
             "#0d0887"
            ],
            [
             0.1111111111111111,
             "#46039f"
            ],
            [
             0.2222222222222222,
             "#7201a8"
            ],
            [
             0.3333333333333333,
             "#9c179e"
            ],
            [
             0.4444444444444444,
             "#bd3786"
            ],
            [
             0.5555555555555556,
             "#d8576b"
            ],
            [
             0.6666666666666666,
             "#ed7953"
            ],
            [
             0.7777777777777778,
             "#fb9f3a"
            ],
            [
             0.8888888888888888,
             "#fdca26"
            ],
            [
             1,
             "#f0f921"
            ]
           ]
          },
          "colorway": [
           "#636efa",
           "#EF553B",
           "#00cc96",
           "#ab63fa",
           "#FFA15A",
           "#19d3f3",
           "#FF6692",
           "#B6E880",
           "#FF97FF",
           "#FECB52"
          ],
          "font": {
           "color": "#2a3f5f"
          },
          "geo": {
           "bgcolor": "white",
           "lakecolor": "white",
           "landcolor": "#E5ECF6",
           "showlakes": true,
           "showland": true,
           "subunitcolor": "white"
          },
          "hoverlabel": {
           "align": "left"
          },
          "hovermode": "closest",
          "mapbox": {
           "style": "light"
          },
          "paper_bgcolor": "white",
          "plot_bgcolor": "#E5ECF6",
          "polar": {
           "angularaxis": {
            "gridcolor": "white",
            "linecolor": "white",
            "ticks": ""
           },
           "bgcolor": "#E5ECF6",
           "radialaxis": {
            "gridcolor": "white",
            "linecolor": "white",
            "ticks": ""
           }
          },
          "scene": {
           "xaxis": {
            "backgroundcolor": "#E5ECF6",
            "gridcolor": "white",
            "gridwidth": 2,
            "linecolor": "white",
            "showbackground": true,
            "ticks": "",
            "zerolinecolor": "white"
           },
           "yaxis": {
            "backgroundcolor": "#E5ECF6",
            "gridcolor": "white",
            "gridwidth": 2,
            "linecolor": "white",
            "showbackground": true,
            "ticks": "",
            "zerolinecolor": "white"
           },
           "zaxis": {
            "backgroundcolor": "#E5ECF6",
            "gridcolor": "white",
            "gridwidth": 2,
            "linecolor": "white",
            "showbackground": true,
            "ticks": "",
            "zerolinecolor": "white"
           }
          },
          "shapedefaults": {
           "line": {
            "color": "#2a3f5f"
           }
          },
          "ternary": {
           "aaxis": {
            "gridcolor": "white",
            "linecolor": "white",
            "ticks": ""
           },
           "baxis": {
            "gridcolor": "white",
            "linecolor": "white",
            "ticks": ""
           },
           "bgcolor": "#E5ECF6",
           "caxis": {
            "gridcolor": "white",
            "linecolor": "white",
            "ticks": ""
           }
          },
          "title": {
           "x": 0.05
          },
          "xaxis": {
           "automargin": true,
           "gridcolor": "white",
           "linecolor": "white",
           "ticks": "",
           "title": {
            "standoff": 15
           },
           "zerolinecolor": "white",
           "zerolinewidth": 2
          },
          "yaxis": {
           "automargin": true,
           "gridcolor": "white",
           "linecolor": "white",
           "ticks": "",
           "title": {
            "standoff": 15
           },
           "zerolinecolor": "white",
           "zerolinewidth": 2
          }
         }
        },
        "title": {
         "text": "Job Satisfaction by Attrition Status"
        },
        "width": 1000,
        "xaxis": {
         "anchor": "y",
         "categoryarray": [
          1,
          0
         ],
         "categoryorder": "array",
         "domain": [
          0,
          1
         ],
         "title": {
          "text": "Attrition (0=No, 1=Yes)"
         }
        },
        "yaxis": {
         "anchor": "x",
         "domain": [
          0,
          1
         ],
         "title": {
          "text": "Job Satisfaction"
         }
        }
       }
      }
     },
     "metadata": {},
     "output_type": "display_data"
    }
   ],
   "source": [
    "# Box plot: Job satisfaction by Attrition\n",
    "fig = px.box(df, x=\"Attrition\", y=\"JobSatisfaction\", points=\"all\",\n",
    "             title=\"Job Satisfaction by Attrition Status\",\n",
    "             labels={\"Attrition\": \"Attrition (0=No, 1=Yes)\", \"JobSatisfaction\": \"Job Satisfaction\"},\n",
    "             color=\"Attrition\",\n",
    "              color_discrete_map={0: \"indigo\", 1: \"lime\"},\n",
    "              width= 1000,\n",
    "              height= 600)\n",
    "fig.show()"
   ]
  },
  {
   "cell_type": "markdown",
   "metadata": {},
   "source": [
    "**Business impact:** Job satisfaction level impacts attrition in the synthetic dataset. In the real-world, organziations can help improve job satisfaction by adopting the following measures:\n",
    "1. Clarity and transparency: Explaining the motivation and impact provides a clear vision on how a person's work is impacting the organization. This helps build a sense of achievement at the workplace.\n",
    "2. Respect: Hear out employee opinions to ensure they feel heard and included. Apart from being respected, this helps them feel one with the organziation.\n",
    "3. Culture: Build a culture of mutual respect and integrity. For instance, reflect core values in everyday work. This will help build a working culture that's not only motivated but continues motivating others."
   ]
  },
  {
   "cell_type": "markdown",
   "metadata": {},
   "source": [
    "---"
   ]
  },
  {
   "cell_type": "markdown",
   "metadata": {},
   "source": [
    "# Consolidated research results"
   ]
  },
  {
   "cell_type": "markdown",
   "metadata": {},
   "source": [
    "|Index|Hypotheses|method|p-value|Interpreation|\n",
    "|-----|----------------|-------------------------|-------------|-------|\n",
    "|1|Gender and Attrition|Chi-squared|0.2|Accept null|\n",
    "|2|Age and Attrition|Chi-squared_contingency|0.0|Reject null|\n",
    "|3| Department and Attrition|Chi-squared|0.0|Reject null|\n",
    "|4|Monthly income and Attrition|MWU|0.00|Reject null|\n",
    "|5|Total satisfaction level and Attrition|MWU|0.0|Reject null|\n",
    "|5.1|JobSatisfaction and Attrition|MWU|0.0|Reject null|"
   ]
  },
  {
   "cell_type": "markdown",
   "metadata": {},
   "source": [
    "---"
   ]
  },
  {
   "cell_type": "markdown",
   "metadata": {},
   "source": [
    "# Key findings"
   ]
  },
  {
   "cell_type": "markdown",
   "metadata": {},
   "source": [
    "Here are the key factors that impact employee attrition in the synthetic dataset.\n",
    "\n",
    "1. Age \n",
    "2. Department of work\n",
    "3. Montly income levels\n",
    "4. Job satisfaction levels"
   ]
  },
  {
   "cell_type": "markdown",
   "metadata": {},
   "source": [
    "**Note:** In the real world, these observations need to be validated before making any changes. Although these features' influence is quite self-explanatory, several factors are at play in an actual workplace. \n",
    "\n",
    "We recommend re-running the analysis with an actual dataset to draw conclusive evidence on which factors impact attrition. "
   ]
  },
  {
   "cell_type": "markdown",
   "metadata": {},
   "source": [
    "---"
   ]
  },
  {
   "cell_type": "markdown",
   "metadata": {},
   "source": [
    "# Ethical considerations"
   ]
  },
  {
   "cell_type": "markdown",
   "metadata": {},
   "source": [
    "We have taken the following steps to ensure the ETL process is ethically sound.\n",
    "\n",
    "1. As the dataset is synthetic, we have limited the test results to the synthetic dataset.\n",
    "\n",
    "2. We have flagged data imbalance and bias."
   ]
  },
  {
   "cell_type": "markdown",
   "metadata": {},
   "source": [
    "---"
   ]
  },
  {
   "cell_type": "markdown",
   "metadata": {},
   "source": [
    "# Summary"
   ]
  },
  {
   "cell_type": "markdown",
   "metadata": {},
   "source": [
    "1. Feature Engineering: Created new features such as TotalSatisfaction (aggregated satisfaction scores) and AgeBracket (age bins) to enhance analysis.\n",
    "\n",
    "2. Statistical Testing: Applied hypothesis tests (e.g., chi-squared, Mann-Whitney U) to identify significant associations between variables and attrition.\n",
    "\n",
    "3. Visualization: Used advanced plots (box plots, bar charts) to illustrate findings and support interpretation.\n",
    "\n",
    "4. Business Insights: Interpreted results to recommend retention strategies and highlight areas for bias mitigation.\n",
    "\n",
    "5. Results: Age, Department, Monthly income, and Job satisfaction impact attrition in the synthetic dataset."
   ]
  },
  {
   "cell_type": "markdown",
   "metadata": {},
   "source": [
    "**Summary credit:** This summary was generated by GitHub Copilot. We edited and added point #5."
   ]
  },
  {
   "cell_type": "markdown",
   "metadata": {},
   "source": [
    "---"
   ]
  },
  {
   "cell_type": "markdown",
   "metadata": {},
   "source": [
    "# Credits"
   ]
  },
  {
   "cell_type": "markdown",
   "metadata": {},
   "source": [
    "1. We leveraged ChatGPT and GitHub Copilot to quickly get the codes for hypotheses' testing. Our analysis is based on our experience but honed by GitHub Copilot.\n",
    "\n",
    "2. We also want to attribute the transformation changes. These were recommended by GitHub Copilot."
   ]
  }
 ],
 "metadata": {
  "accelerator": "GPU",
  "colab": {
   "name": "Data Practitioner Jupyter Notebook.ipynb",
   "provenance": [],
   "toc_visible": true
  },
  "kernelspec": {
   "display_name": ".venv",
   "language": "python",
   "name": "python3"
  },
  "language_info": {
   "codemirror_mode": {
    "name": "ipython",
    "version": 3
   },
   "file_extension": ".py",
   "mimetype": "text/x-python",
   "name": "python",
   "nbconvert_exporter": "python",
   "pygments_lexer": "ipython3",
   "version": "3.12.8"
  }
 },
 "nbformat": 4,
 "nbformat_minor": 2
}
